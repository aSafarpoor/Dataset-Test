{
  "nbformat": 4,
  "nbformat_minor": 0,
  "metadata": {
    "colab": {
      "provenance": [],
      "collapsed_sections": [
        "PxODpSkoYUP-",
        "UWY4ZsDldPBc",
        "2nxSw5-Ya6fZ",
        "HKbO5spgjNuF",
        "ecSeKHQjnjGm",
        "o9Sm370DnYCe",
        "N8WbyOumfxVW",
        "PEPPQthVv_9W"
      ]
    },
    "kernelspec": {
      "name": "python3",
      "display_name": "Python 3"
    },
    "language_info": {
      "name": "python"
    },
    "widgets": {
      "application/vnd.jupyter.widget-state+json": {
        "0578288c2a9b485d809afab0cadf70fc": {
          "model_module": "@jupyter-widgets/controls",
          "model_name": "HBoxModel",
          "model_module_version": "1.5.0",
          "state": {
            "_dom_classes": [],
            "_model_module": "@jupyter-widgets/controls",
            "_model_module_version": "1.5.0",
            "_model_name": "HBoxModel",
            "_view_count": null,
            "_view_module": "@jupyter-widgets/controls",
            "_view_module_version": "1.5.0",
            "_view_name": "HBoxView",
            "box_style": "",
            "children": [
              "IPY_MODEL_7d362460131e43f2b8456a25a7717214",
              "IPY_MODEL_7a622f42d2754652b345bd85bd1f9539",
              "IPY_MODEL_59c0aa20a41a46e7b9cab4d9d78d3f06"
            ],
            "layout": "IPY_MODEL_cfd0878a8e5849768213c2bac6c3f5ef"
          }
        },
        "7d362460131e43f2b8456a25a7717214": {
          "model_module": "@jupyter-widgets/controls",
          "model_name": "HTMLModel",
          "model_module_version": "1.5.0",
          "state": {
            "_dom_classes": [],
            "_model_module": "@jupyter-widgets/controls",
            "_model_module_version": "1.5.0",
            "_model_name": "HTMLModel",
            "_view_count": null,
            "_view_module": "@jupyter-widgets/controls",
            "_view_module_version": "1.5.0",
            "_view_name": "HTMLView",
            "description": "",
            "description_tooltip": null,
            "layout": "IPY_MODEL_25fca9f0966547a6a6444416824e37da",
            "placeholder": "​",
            "style": "IPY_MODEL_ee7a6c3f75924f0595fb62d21f1afdb2",
            "value": "100%"
          }
        },
        "7a622f42d2754652b345bd85bd1f9539": {
          "model_module": "@jupyter-widgets/controls",
          "model_name": "FloatProgressModel",
          "model_module_version": "1.5.0",
          "state": {
            "_dom_classes": [],
            "_model_module": "@jupyter-widgets/controls",
            "_model_module_version": "1.5.0",
            "_model_name": "FloatProgressModel",
            "_view_count": null,
            "_view_module": "@jupyter-widgets/controls",
            "_view_module_version": "1.5.0",
            "_view_name": "ProgressView",
            "bar_style": "success",
            "description": "",
            "description_tooltip": null,
            "layout": "IPY_MODEL_665f3b105ac448e999e79b888e30f3df",
            "max": 200,
            "min": 0,
            "orientation": "horizontal",
            "style": "IPY_MODEL_9518be80941846f5ad2002e6037ab466",
            "value": 200
          }
        },
        "59c0aa20a41a46e7b9cab4d9d78d3f06": {
          "model_module": "@jupyter-widgets/controls",
          "model_name": "HTMLModel",
          "model_module_version": "1.5.0",
          "state": {
            "_dom_classes": [],
            "_model_module": "@jupyter-widgets/controls",
            "_model_module_version": "1.5.0",
            "_model_name": "HTMLModel",
            "_view_count": null,
            "_view_module": "@jupyter-widgets/controls",
            "_view_module_version": "1.5.0",
            "_view_name": "HTMLView",
            "description": "",
            "description_tooltip": null,
            "layout": "IPY_MODEL_198d241600674a96a420ffc2db38d622",
            "placeholder": "​",
            "style": "IPY_MODEL_f78f07e387a3448a905700c48beb29e1",
            "value": " 200/200 [00:00&lt;00:00, 929.58it/s]"
          }
        },
        "cfd0878a8e5849768213c2bac6c3f5ef": {
          "model_module": "@jupyter-widgets/base",
          "model_name": "LayoutModel",
          "model_module_version": "1.2.0",
          "state": {
            "_model_module": "@jupyter-widgets/base",
            "_model_module_version": "1.2.0",
            "_model_name": "LayoutModel",
            "_view_count": null,
            "_view_module": "@jupyter-widgets/base",
            "_view_module_version": "1.2.0",
            "_view_name": "LayoutView",
            "align_content": null,
            "align_items": null,
            "align_self": null,
            "border": null,
            "bottom": null,
            "display": null,
            "flex": null,
            "flex_flow": null,
            "grid_area": null,
            "grid_auto_columns": null,
            "grid_auto_flow": null,
            "grid_auto_rows": null,
            "grid_column": null,
            "grid_gap": null,
            "grid_row": null,
            "grid_template_areas": null,
            "grid_template_columns": null,
            "grid_template_rows": null,
            "height": null,
            "justify_content": null,
            "justify_items": null,
            "left": null,
            "margin": null,
            "max_height": null,
            "max_width": null,
            "min_height": null,
            "min_width": null,
            "object_fit": null,
            "object_position": null,
            "order": null,
            "overflow": null,
            "overflow_x": null,
            "overflow_y": null,
            "padding": null,
            "right": null,
            "top": null,
            "visibility": null,
            "width": null
          }
        },
        "25fca9f0966547a6a6444416824e37da": {
          "model_module": "@jupyter-widgets/base",
          "model_name": "LayoutModel",
          "model_module_version": "1.2.0",
          "state": {
            "_model_module": "@jupyter-widgets/base",
            "_model_module_version": "1.2.0",
            "_model_name": "LayoutModel",
            "_view_count": null,
            "_view_module": "@jupyter-widgets/base",
            "_view_module_version": "1.2.0",
            "_view_name": "LayoutView",
            "align_content": null,
            "align_items": null,
            "align_self": null,
            "border": null,
            "bottom": null,
            "display": null,
            "flex": null,
            "flex_flow": null,
            "grid_area": null,
            "grid_auto_columns": null,
            "grid_auto_flow": null,
            "grid_auto_rows": null,
            "grid_column": null,
            "grid_gap": null,
            "grid_row": null,
            "grid_template_areas": null,
            "grid_template_columns": null,
            "grid_template_rows": null,
            "height": null,
            "justify_content": null,
            "justify_items": null,
            "left": null,
            "margin": null,
            "max_height": null,
            "max_width": null,
            "min_height": null,
            "min_width": null,
            "object_fit": null,
            "object_position": null,
            "order": null,
            "overflow": null,
            "overflow_x": null,
            "overflow_y": null,
            "padding": null,
            "right": null,
            "top": null,
            "visibility": null,
            "width": null
          }
        },
        "ee7a6c3f75924f0595fb62d21f1afdb2": {
          "model_module": "@jupyter-widgets/controls",
          "model_name": "DescriptionStyleModel",
          "model_module_version": "1.5.0",
          "state": {
            "_model_module": "@jupyter-widgets/controls",
            "_model_module_version": "1.5.0",
            "_model_name": "DescriptionStyleModel",
            "_view_count": null,
            "_view_module": "@jupyter-widgets/base",
            "_view_module_version": "1.2.0",
            "_view_name": "StyleView",
            "description_width": ""
          }
        },
        "665f3b105ac448e999e79b888e30f3df": {
          "model_module": "@jupyter-widgets/base",
          "model_name": "LayoutModel",
          "model_module_version": "1.2.0",
          "state": {
            "_model_module": "@jupyter-widgets/base",
            "_model_module_version": "1.2.0",
            "_model_name": "LayoutModel",
            "_view_count": null,
            "_view_module": "@jupyter-widgets/base",
            "_view_module_version": "1.2.0",
            "_view_name": "LayoutView",
            "align_content": null,
            "align_items": null,
            "align_self": null,
            "border": null,
            "bottom": null,
            "display": null,
            "flex": null,
            "flex_flow": null,
            "grid_area": null,
            "grid_auto_columns": null,
            "grid_auto_flow": null,
            "grid_auto_rows": null,
            "grid_column": null,
            "grid_gap": null,
            "grid_row": null,
            "grid_template_areas": null,
            "grid_template_columns": null,
            "grid_template_rows": null,
            "height": null,
            "justify_content": null,
            "justify_items": null,
            "left": null,
            "margin": null,
            "max_height": null,
            "max_width": null,
            "min_height": null,
            "min_width": null,
            "object_fit": null,
            "object_position": null,
            "order": null,
            "overflow": null,
            "overflow_x": null,
            "overflow_y": null,
            "padding": null,
            "right": null,
            "top": null,
            "visibility": null,
            "width": null
          }
        },
        "9518be80941846f5ad2002e6037ab466": {
          "model_module": "@jupyter-widgets/controls",
          "model_name": "ProgressStyleModel",
          "model_module_version": "1.5.0",
          "state": {
            "_model_module": "@jupyter-widgets/controls",
            "_model_module_version": "1.5.0",
            "_model_name": "ProgressStyleModel",
            "_view_count": null,
            "_view_module": "@jupyter-widgets/base",
            "_view_module_version": "1.2.0",
            "_view_name": "StyleView",
            "bar_color": null,
            "description_width": ""
          }
        },
        "198d241600674a96a420ffc2db38d622": {
          "model_module": "@jupyter-widgets/base",
          "model_name": "LayoutModel",
          "model_module_version": "1.2.0",
          "state": {
            "_model_module": "@jupyter-widgets/base",
            "_model_module_version": "1.2.0",
            "_model_name": "LayoutModel",
            "_view_count": null,
            "_view_module": "@jupyter-widgets/base",
            "_view_module_version": "1.2.0",
            "_view_name": "LayoutView",
            "align_content": null,
            "align_items": null,
            "align_self": null,
            "border": null,
            "bottom": null,
            "display": null,
            "flex": null,
            "flex_flow": null,
            "grid_area": null,
            "grid_auto_columns": null,
            "grid_auto_flow": null,
            "grid_auto_rows": null,
            "grid_column": null,
            "grid_gap": null,
            "grid_row": null,
            "grid_template_areas": null,
            "grid_template_columns": null,
            "grid_template_rows": null,
            "height": null,
            "justify_content": null,
            "justify_items": null,
            "left": null,
            "margin": null,
            "max_height": null,
            "max_width": null,
            "min_height": null,
            "min_width": null,
            "object_fit": null,
            "object_position": null,
            "order": null,
            "overflow": null,
            "overflow_x": null,
            "overflow_y": null,
            "padding": null,
            "right": null,
            "top": null,
            "visibility": null,
            "width": null
          }
        },
        "f78f07e387a3448a905700c48beb29e1": {
          "model_module": "@jupyter-widgets/controls",
          "model_name": "DescriptionStyleModel",
          "model_module_version": "1.5.0",
          "state": {
            "_model_module": "@jupyter-widgets/controls",
            "_model_module_version": "1.5.0",
            "_model_name": "DescriptionStyleModel",
            "_view_count": null,
            "_view_module": "@jupyter-widgets/base",
            "_view_module_version": "1.2.0",
            "_view_name": "StyleView",
            "description_width": ""
          }
        },
        "dada22e8e1e146069eccfb1f05ad65e6": {
          "model_module": "@jupyter-widgets/controls",
          "model_name": "HBoxModel",
          "model_module_version": "1.5.0",
          "state": {
            "_dom_classes": [],
            "_model_module": "@jupyter-widgets/controls",
            "_model_module_version": "1.5.0",
            "_model_name": "HBoxModel",
            "_view_count": null,
            "_view_module": "@jupyter-widgets/controls",
            "_view_module_version": "1.5.0",
            "_view_name": "HBoxView",
            "box_style": "",
            "children": [
              "IPY_MODEL_4c0cfca27ead404195c0d2e2e1487d47",
              "IPY_MODEL_5ca9ebd86ec345fdb039162565a9afaa",
              "IPY_MODEL_8d217c27584444ec8813a4eba16a3714"
            ],
            "layout": "IPY_MODEL_12528b7697414e8a954c25833363726a"
          }
        },
        "4c0cfca27ead404195c0d2e2e1487d47": {
          "model_module": "@jupyter-widgets/controls",
          "model_name": "HTMLModel",
          "model_module_version": "1.5.0",
          "state": {
            "_dom_classes": [],
            "_model_module": "@jupyter-widgets/controls",
            "_model_module_version": "1.5.0",
            "_model_name": "HTMLModel",
            "_view_count": null,
            "_view_module": "@jupyter-widgets/controls",
            "_view_module_version": "1.5.0",
            "_view_name": "HTMLView",
            "description": "",
            "description_tooltip": null,
            "layout": "IPY_MODEL_96b047f8ba6b46f098be367077a953c2",
            "placeholder": "​",
            "style": "IPY_MODEL_1052c6b7149b409ebf16413874a186ff",
            "value": "100%"
          }
        },
        "5ca9ebd86ec345fdb039162565a9afaa": {
          "model_module": "@jupyter-widgets/controls",
          "model_name": "FloatProgressModel",
          "model_module_version": "1.5.0",
          "state": {
            "_dom_classes": [],
            "_model_module": "@jupyter-widgets/controls",
            "_model_module_version": "1.5.0",
            "_model_name": "FloatProgressModel",
            "_view_count": null,
            "_view_module": "@jupyter-widgets/controls",
            "_view_module_version": "1.5.0",
            "_view_name": "ProgressView",
            "bar_style": "success",
            "description": "",
            "description_tooltip": null,
            "layout": "IPY_MODEL_a4529d14a7484322a9b88adc7b2e59cc",
            "max": 200,
            "min": 0,
            "orientation": "horizontal",
            "style": "IPY_MODEL_35a6bbc55dab4383a0d17e809bd0222c",
            "value": 200
          }
        },
        "8d217c27584444ec8813a4eba16a3714": {
          "model_module": "@jupyter-widgets/controls",
          "model_name": "HTMLModel",
          "model_module_version": "1.5.0",
          "state": {
            "_dom_classes": [],
            "_model_module": "@jupyter-widgets/controls",
            "_model_module_version": "1.5.0",
            "_model_name": "HTMLModel",
            "_view_count": null,
            "_view_module": "@jupyter-widgets/controls",
            "_view_module_version": "1.5.0",
            "_view_name": "HTMLView",
            "description": "",
            "description_tooltip": null,
            "layout": "IPY_MODEL_d0483f600b4f4b87b857f74ffc242089",
            "placeholder": "​",
            "style": "IPY_MODEL_9c004ce4ec6d4f449abc9ade55da868d",
            "value": " 200/200 [00:00&lt;00:00, 1030.62it/s]"
          }
        },
        "12528b7697414e8a954c25833363726a": {
          "model_module": "@jupyter-widgets/base",
          "model_name": "LayoutModel",
          "model_module_version": "1.2.0",
          "state": {
            "_model_module": "@jupyter-widgets/base",
            "_model_module_version": "1.2.0",
            "_model_name": "LayoutModel",
            "_view_count": null,
            "_view_module": "@jupyter-widgets/base",
            "_view_module_version": "1.2.0",
            "_view_name": "LayoutView",
            "align_content": null,
            "align_items": null,
            "align_self": null,
            "border": null,
            "bottom": null,
            "display": null,
            "flex": null,
            "flex_flow": null,
            "grid_area": null,
            "grid_auto_columns": null,
            "grid_auto_flow": null,
            "grid_auto_rows": null,
            "grid_column": null,
            "grid_gap": null,
            "grid_row": null,
            "grid_template_areas": null,
            "grid_template_columns": null,
            "grid_template_rows": null,
            "height": null,
            "justify_content": null,
            "justify_items": null,
            "left": null,
            "margin": null,
            "max_height": null,
            "max_width": null,
            "min_height": null,
            "min_width": null,
            "object_fit": null,
            "object_position": null,
            "order": null,
            "overflow": null,
            "overflow_x": null,
            "overflow_y": null,
            "padding": null,
            "right": null,
            "top": null,
            "visibility": null,
            "width": null
          }
        },
        "96b047f8ba6b46f098be367077a953c2": {
          "model_module": "@jupyter-widgets/base",
          "model_name": "LayoutModel",
          "model_module_version": "1.2.0",
          "state": {
            "_model_module": "@jupyter-widgets/base",
            "_model_module_version": "1.2.0",
            "_model_name": "LayoutModel",
            "_view_count": null,
            "_view_module": "@jupyter-widgets/base",
            "_view_module_version": "1.2.0",
            "_view_name": "LayoutView",
            "align_content": null,
            "align_items": null,
            "align_self": null,
            "border": null,
            "bottom": null,
            "display": null,
            "flex": null,
            "flex_flow": null,
            "grid_area": null,
            "grid_auto_columns": null,
            "grid_auto_flow": null,
            "grid_auto_rows": null,
            "grid_column": null,
            "grid_gap": null,
            "grid_row": null,
            "grid_template_areas": null,
            "grid_template_columns": null,
            "grid_template_rows": null,
            "height": null,
            "justify_content": null,
            "justify_items": null,
            "left": null,
            "margin": null,
            "max_height": null,
            "max_width": null,
            "min_height": null,
            "min_width": null,
            "object_fit": null,
            "object_position": null,
            "order": null,
            "overflow": null,
            "overflow_x": null,
            "overflow_y": null,
            "padding": null,
            "right": null,
            "top": null,
            "visibility": null,
            "width": null
          }
        },
        "1052c6b7149b409ebf16413874a186ff": {
          "model_module": "@jupyter-widgets/controls",
          "model_name": "DescriptionStyleModel",
          "model_module_version": "1.5.0",
          "state": {
            "_model_module": "@jupyter-widgets/controls",
            "_model_module_version": "1.5.0",
            "_model_name": "DescriptionStyleModel",
            "_view_count": null,
            "_view_module": "@jupyter-widgets/base",
            "_view_module_version": "1.2.0",
            "_view_name": "StyleView",
            "description_width": ""
          }
        },
        "a4529d14a7484322a9b88adc7b2e59cc": {
          "model_module": "@jupyter-widgets/base",
          "model_name": "LayoutModel",
          "model_module_version": "1.2.0",
          "state": {
            "_model_module": "@jupyter-widgets/base",
            "_model_module_version": "1.2.0",
            "_model_name": "LayoutModel",
            "_view_count": null,
            "_view_module": "@jupyter-widgets/base",
            "_view_module_version": "1.2.0",
            "_view_name": "LayoutView",
            "align_content": null,
            "align_items": null,
            "align_self": null,
            "border": null,
            "bottom": null,
            "display": null,
            "flex": null,
            "flex_flow": null,
            "grid_area": null,
            "grid_auto_columns": null,
            "grid_auto_flow": null,
            "grid_auto_rows": null,
            "grid_column": null,
            "grid_gap": null,
            "grid_row": null,
            "grid_template_areas": null,
            "grid_template_columns": null,
            "grid_template_rows": null,
            "height": null,
            "justify_content": null,
            "justify_items": null,
            "left": null,
            "margin": null,
            "max_height": null,
            "max_width": null,
            "min_height": null,
            "min_width": null,
            "object_fit": null,
            "object_position": null,
            "order": null,
            "overflow": null,
            "overflow_x": null,
            "overflow_y": null,
            "padding": null,
            "right": null,
            "top": null,
            "visibility": null,
            "width": null
          }
        },
        "35a6bbc55dab4383a0d17e809bd0222c": {
          "model_module": "@jupyter-widgets/controls",
          "model_name": "ProgressStyleModel",
          "model_module_version": "1.5.0",
          "state": {
            "_model_module": "@jupyter-widgets/controls",
            "_model_module_version": "1.5.0",
            "_model_name": "ProgressStyleModel",
            "_view_count": null,
            "_view_module": "@jupyter-widgets/base",
            "_view_module_version": "1.2.0",
            "_view_name": "StyleView",
            "bar_color": null,
            "description_width": ""
          }
        },
        "d0483f600b4f4b87b857f74ffc242089": {
          "model_module": "@jupyter-widgets/base",
          "model_name": "LayoutModel",
          "model_module_version": "1.2.0",
          "state": {
            "_model_module": "@jupyter-widgets/base",
            "_model_module_version": "1.2.0",
            "_model_name": "LayoutModel",
            "_view_count": null,
            "_view_module": "@jupyter-widgets/base",
            "_view_module_version": "1.2.0",
            "_view_name": "LayoutView",
            "align_content": null,
            "align_items": null,
            "align_self": null,
            "border": null,
            "bottom": null,
            "display": null,
            "flex": null,
            "flex_flow": null,
            "grid_area": null,
            "grid_auto_columns": null,
            "grid_auto_flow": null,
            "grid_auto_rows": null,
            "grid_column": null,
            "grid_gap": null,
            "grid_row": null,
            "grid_template_areas": null,
            "grid_template_columns": null,
            "grid_template_rows": null,
            "height": null,
            "justify_content": null,
            "justify_items": null,
            "left": null,
            "margin": null,
            "max_height": null,
            "max_width": null,
            "min_height": null,
            "min_width": null,
            "object_fit": null,
            "object_position": null,
            "order": null,
            "overflow": null,
            "overflow_x": null,
            "overflow_y": null,
            "padding": null,
            "right": null,
            "top": null,
            "visibility": null,
            "width": null
          }
        },
        "9c004ce4ec6d4f449abc9ade55da868d": {
          "model_module": "@jupyter-widgets/controls",
          "model_name": "DescriptionStyleModel",
          "model_module_version": "1.5.0",
          "state": {
            "_model_module": "@jupyter-widgets/controls",
            "_model_module_version": "1.5.0",
            "_model_name": "DescriptionStyleModel",
            "_view_count": null,
            "_view_module": "@jupyter-widgets/base",
            "_view_module_version": "1.2.0",
            "_view_name": "StyleView",
            "description_width": ""
          }
        }
      }
    }
  },
  "cells": [
    {
      "cell_type": "code",
      "source": [
        "!pip install networkit"
      ],
      "metadata": {
        "colab": {
          "base_uri": "https://localhost:8080/"
        },
        "id": "0A8fTwbeEmpQ",
        "outputId": "e54a8b47-da98-42c8-d6aa-f0d1d37f1036"
      },
      "execution_count": null,
      "outputs": [
        {
          "output_type": "stream",
          "name": "stdout",
          "text": [
            "Requirement already satisfied: networkit in /usr/local/lib/python3.11/dist-packages (11.1.post1)\n",
            "Requirement already satisfied: scipy in /usr/local/lib/python3.11/dist-packages (from networkit) (1.15.2)\n",
            "Requirement already satisfied: numpy in /usr/local/lib/python3.11/dist-packages (from networkit) (2.0.2)\n"
          ]
        }
      ]
    },
    {
      "cell_type": "code",
      "execution_count": null,
      "metadata": {
        "id": "SsJ7WCo1V4o7"
      },
      "outputs": [],
      "source": [
        "import numpy as np\n",
        "import networkx as nx\n",
        "# from tqdm import tqdm\n",
        "from tqdm.notebook import tqdm\n",
        "from matplotlib import pyplot as plt\n",
        "import random\n",
        "import torch\n",
        "from collections import deque, defaultdict\n",
        "import community  # This is from the 'python-louvain' package\n",
        "from scipy.stats import entropy\n",
        "import math\n",
        "import networkit as nk\n",
        "from networkx.algorithms.approximation import maxcut\n",
        "import pickle\n",
        "import torch"
      ]
    },
    {
      "cell_type": "code",
      "source": [
        "# x = torch.load('label.pt')\n",
        "# len(x),x"
      ],
      "metadata": {
        "id": "uyo40-Q5_Kt2"
      },
      "execution_count": null,
      "outputs": []
    },
    {
      "cell_type": "code",
      "source": [
        "# values, counts = torch.unique(x, return_counts=True)\n",
        "\n",
        "# for v, c in zip(values.tolist(), counts.tolist()):\n",
        "#     print(f\"Value {v} appears {c} times.\")"
      ],
      "metadata": {
        "id": "Qor85KBeUxMp"
      },
      "execution_count": null,
      "outputs": []
    },
    {
      "cell_type": "code",
      "source": [
        "# x = torch.load('edge_type.pt')\n",
        "# len(x),x"
      ],
      "metadata": {
        "id": "GyHSihb5_K04"
      },
      "execution_count": null,
      "outputs": []
    },
    {
      "cell_type": "code",
      "source": [
        "# values, counts = torch.unique(x, return_counts=True)\n",
        "\n",
        "# for v, c in zip(values.tolist(), counts.tolist()):\n",
        "#     print(f\"Value {v} appears {c} times.\")"
      ],
      "metadata": {
        "id": "vOPyxR6tU9t-"
      },
      "execution_count": null,
      "outputs": []
    },
    {
      "cell_type": "code",
      "source": [
        "# x = torch.load('edge_index.pt')\n",
        "# len(x),x,x.min(),x.max()"
      ],
      "metadata": {
        "id": "j28t7xlV_K3p"
      },
      "execution_count": null,
      "outputs": []
    },
    {
      "cell_type": "code",
      "source": [
        "edge_type = torch.load('edge_type.pt')      # shape: [num_edges]\n",
        "edge_index = torch.load('edge_index.pt')    # shape: [2, num_edges]\n",
        "labels_tensor = torch.load('label.pt')      # shape: [num_nodes]\n",
        "\n",
        "# Convert labels to list\n",
        "labels_list = labels_tensor.tolist()\n",
        "\n",
        "# Process edge list based on edge_type\n",
        "edge_list = []\n",
        "\n",
        "for i in range(edge_index.size(1)):\n",
        "    x, y = edge_index[0, i].item(), edge_index[1, i].item()\n",
        "    if edge_type[i].item() == 0:\n",
        "        edge_list.append([x, y])\n",
        "    else:\n",
        "        edge_list.append([y, x])\n",
        "\n"
      ],
      "metadata": {
        "id": "mGsVK13xWY3m"
      },
      "execution_count": null,
      "outputs": []
    },
    {
      "cell_type": "code",
      "source": [
        "sum(labels_list),len(labels_list)"
      ],
      "metadata": {
        "colab": {
          "base_uri": "https://localhost:8080/"
        },
        "id": "BD3AFR8hX2Ec",
        "outputId": "ad4de016-4abf-4c3c-be05-f29d715fe6ff"
      },
      "execution_count": null,
      "outputs": [
        {
          "output_type": "execute_result",
          "data": {
            "text/plain": [
              "(3351, 5301)"
            ]
          },
          "metadata": {},
          "execution_count": 100
        }
      ]
    },
    {
      "cell_type": "markdown",
      "source": [
        "# Read Data and Create Graphs (all are directed)"
      ],
      "metadata": {
        "id": "PxODpSkoYUP-"
      }
    },
    {
      "cell_type": "code",
      "source": [
        "def set_random_seed(seed):\n",
        "    random.seed(seed)\n",
        "    np.random.seed(seed)\n",
        "\n",
        "    try:\n",
        "        torch.manual_seed(seed)\n",
        "        torch.cuda.manual_seed(seed)\n",
        "        torch.cuda.manual_seed_all(seed)\n",
        "        torch.backends.cudnn.deterministic = True\n",
        "        torch.backends.cudnn.benchmark = False\n",
        "        print(\"torch: imported\")\n",
        "    except:\n",
        "        print(\"torch: not imported\")\n",
        "    print(f\"Random set by seed = {seed}\")\n",
        "\n",
        "set_random_seed(seed = 1)"
      ],
      "metadata": {
        "colab": {
          "base_uri": "https://localhost:8080/"
        },
        "id": "Lh_h84sLWkpG",
        "outputId": "0df762f6-3729-4425-cdb1-6935dc9e5be4"
      },
      "execution_count": null,
      "outputs": [
        {
          "output_type": "stream",
          "name": "stdout",
          "text": [
            "torch: imported\n",
            "Random set by seed = 1\n"
          ]
        }
      ]
    },
    {
      "cell_type": "code",
      "source": [
        "# try:\n",
        "#     with open('label.pkl', 'rb') as f:\n",
        "#         labels_dict = pickle.load(f)\n",
        "#     labels_list = [labels_dict[i] for i in range(len(labels_dict))]\n",
        "\n",
        "#     # Load edge list (as list of [source, target]) from 'directed_edge_index.pkl'\n",
        "#     with open('directed_edge_index.pkl', 'rb') as f:\n",
        "#         edge_list = pickle.load(f)\n",
        "\n",
        "# except:\n",
        "#     labels_tensor = torch.load('label.pt')\n",
        "#     labels_list = labels_tensor.tolist()\n",
        "#     edge_index = torch.load('directed_edge_index.pt')\n",
        "#     edge_list = edge_index.t().tolist()\n",
        "#     if edge_index.min().item() == 1:\n",
        "#         edge_index = edge_index - 1\n",
        "#         edge_list = edge_index.t().tolist()\n",
        "#         print(\"edge started by 1 ==> changed to 0\")"
      ],
      "metadata": {
        "id": "TLm9ioHyyfRj"
      },
      "execution_count": null,
      "outputs": []
    },
    {
      "cell_type": "code",
      "source": [
        "max(max(edge_list)),min(min(edge_list)),695362>len(labels_list)"
      ],
      "metadata": {
        "colab": {
          "base_uri": "https://localhost:8080/"
        },
        "id": "DP0i1wzVzviZ",
        "outputId": "32731a2f-1fb9-46fc-957b-e4534adde7d2"
      },
      "execution_count": null,
      "outputs": [
        {
          "output_type": "execute_result",
          "data": {
            "text/plain": [
              "(5299, 0, True)"
            ]
          },
          "metadata": {},
          "execution_count": 103
        }
      ]
    },
    {
      "cell_type": "code",
      "source": [
        "noneisolatednodes = list(set([i[0] for i in edge_list]+[i[1] for i in edge_list]))\n",
        "noneisolatednodes.sort()\n",
        "min(noneisolatednodes),max(noneisolatednodes),len(noneisolatednodes),noneisolatednodes[0],noneisolatednodes[-1]"
      ],
      "metadata": {
        "colab": {
          "base_uri": "https://localhost:8080/"
        },
        "id": "8ERuNTta1Epj",
        "outputId": "f9a036ba-acd3-492d-9f9a-c2220deed706"
      },
      "execution_count": null,
      "outputs": [
        {
          "output_type": "execute_result",
          "data": {
            "text/plain": [
              "(0, 5299, 1920, 0, 5299)"
            ]
          },
          "metadata": {},
          "execution_count": 104
        }
      ]
    },
    {
      "cell_type": "code",
      "source": [
        "ratio = round(100*(len(labels_list)-len(noneisolatednodes))/len(labels_list),2)\n",
        "print(f\"{ratio} % of nodes which has label but no followr/following relationship\")"
      ],
      "metadata": {
        "colab": {
          "base_uri": "https://localhost:8080/"
        },
        "id": "Kh7F1SzV1v0Y",
        "outputId": "391e5a5e-afeb-4398-a4ba-5349b2400c2f"
      },
      "execution_count": null,
      "outputs": [
        {
          "output_type": "stream",
          "name": "stdout",
          "text": [
            "63.78 % of nodes which has label but no followr/following relationship\n"
          ]
        }
      ]
    },
    {
      "cell_type": "code",
      "source": [],
      "metadata": {
        "id": "vjgjOFfe23r0"
      },
      "execution_count": null,
      "outputs": []
    },
    {
      "cell_type": "code",
      "source": [],
      "metadata": {
        "id": "z3TJrjJ72jov"
      },
      "execution_count": null,
      "outputs": []
    },
    {
      "cell_type": "code",
      "source": [],
      "metadata": {
        "id": "liQwS7fd4daa"
      },
      "execution_count": null,
      "outputs": []
    },
    {
      "cell_type": "code",
      "source": [
        "max(max(max(u, v) for u, v in edge_list),len(labels_list))"
      ],
      "metadata": {
        "id": "T61_-T8-5mFH",
        "colab": {
          "base_uri": "https://localhost:8080/"
        },
        "outputId": "8254fdff-6dcb-488a-9210-0d421c906c37"
      },
      "execution_count": null,
      "outputs": [
        {
          "output_type": "execute_result",
          "data": {
            "text/plain": [
              "5301"
            ]
          },
          "metadata": {},
          "execution_count": 167
        }
      ]
    },
    {
      "cell_type": "code",
      "source": [
        "def create_subgraphs(edge_list, labels_list):\n",
        "    G = nx.DiGraph()\n",
        "\n",
        "    max_node = max(max(max(u, v) for u, v in edge_list),len(labels_list))\n",
        "    G.add_nodes_from(range(max_node + 1))\n",
        "\n",
        "\n",
        "\n",
        "    G.add_edges_from(edge_list)\n",
        "\n",
        "    labeled_nodes = set(range(len(labels_list)))\n",
        "    benign_nodes = {i for i, label in enumerate(labels_list) if label == 0}\n",
        "    sybil_nodes = {i for i, label in enumerate(labels_list) if label == 1}\n",
        "\n",
        "    Gl = G.subgraph(labeled_nodes).copy()\n",
        "    Gb = G.subgraph(benign_nodes).copy()\n",
        "    Gs = G.subgraph(sybil_nodes).copy()\n",
        "\n",
        "    UG = G.to_undirected()\n",
        "    UGl = Gl.to_undirected()\n",
        "    UGb = Gb.to_undirected()\n",
        "    UGs = Gs.to_undirected()\n",
        "\n",
        "    return G, Gl, Gb, Gs, UG, UGl, UGb, UGs, labeled_nodes, benign_nodes, sybil_nodes\n",
        "G, Gl, Gb, Gs, UG, UGl, UGb, UGs, labeled_nodes, benign_nodes, sybil_nodes = create_subgraphs(edge_list, labels_list)"
      ],
      "metadata": {
        "id": "6DfF750QX4r0"
      },
      "execution_count": null,
      "outputs": []
    },
    {
      "cell_type": "code",
      "source": [
        "x = list(G.nodes())\n",
        "x.sort()\n",
        "x[:10]"
      ],
      "metadata": {
        "colab": {
          "base_uri": "https://localhost:8080/"
        },
        "id": "7onaG4rI7oeb",
        "outputId": "35ffded9-53ad-48ef-9c31-6ad81dd9e44a"
      },
      "execution_count": null,
      "outputs": [
        {
          "output_type": "execute_result",
          "data": {
            "text/plain": [
              "[0, 1, 2, 3, 4, 5, 6, 7, 8, 9]"
            ]
          },
          "metadata": {},
          "execution_count": 169
        }
      ]
    },
    {
      "cell_type": "code",
      "source": [
        "sum(labels_list)"
      ],
      "metadata": {
        "colab": {
          "base_uri": "https://localhost:8080/"
        },
        "id": "zwLvce2ZXnXh",
        "outputId": "36aa29dd-17b0-4d03-98bc-6d10bccfc467"
      },
      "execution_count": null,
      "outputs": [
        {
          "output_type": "execute_result",
          "data": {
            "text/plain": [
              "3351"
            ]
          },
          "metadata": {},
          "execution_count": 170
        }
      ]
    },
    {
      "cell_type": "markdown",
      "source": [
        "# simple parameters"
      ],
      "metadata": {
        "id": "d3x8eNOfZ_EU"
      }
    },
    {
      "cell_type": "markdown",
      "source": [
        "## Single Simple Value"
      ],
      "metadata": {
        "id": "UWY4ZsDldPBc"
      }
    },
    {
      "cell_type": "code",
      "source": [
        "def analyze_graph(G):\n",
        "    num_nodes = G.number_of_nodes()\n",
        "    print(\"Number of nodes:\", num_nodes)\n",
        "    print(\"Number of edges:\", G.number_of_edges())\n",
        "\n",
        "    if G.is_directed():\n",
        "        in_degrees = dict(G.in_degree())\n",
        "        out_degrees = dict(G.out_degree())\n",
        "\n",
        "        avg_in_deg = sum(in_degrees.values()) / num_nodes\n",
        "        avg_out_deg = sum(out_degrees.values()) / num_nodes\n",
        "        degrees = [in_degrees[n] + out_degrees[n] for n in G.nodes()]\n",
        "\n",
        "        only_in = sum(1 for n in G.nodes() if in_degrees[n] > 0 and out_degrees[n] == 0)\n",
        "        only_out = sum(1 for n in G.nodes() if in_degrees[n] == 0 and out_degrees[n] > 0)\n",
        "        both = sum(1 for n in G.nodes() if in_degrees[n] > 0 and out_degrees[n] > 0)\n",
        "        isolated = sum(1 for n in G.nodes() if in_degrees[n] == 0 and out_degrees[n] == 0)\n",
        "\n",
        "        print(\"Average in-degree:\", round(avg_in_deg, 3))\n",
        "        print(\"Average out-degree:\", round(avg_out_deg, 3))\n",
        "        print(\"Only in-edge nodes ratio:\", round(only_in / num_nodes, 3))\n",
        "        print(\"Only out-edge nodes ratio:\", round(only_out / num_nodes, 3))\n",
        "        print(\"Nodes with both in and out edges ratio:\", round(both / num_nodes, 3))\n",
        "        print(\"Isolated nodes ratio:\", round(isolated / num_nodes, 3))\n",
        "    else:\n",
        "        degrees = dict(G.degree()).values()\n",
        "        avg_in_deg = avg_out_deg = None\n",
        "        isolated = sum(1 for n in G.nodes() if G.degree(n) == 0)\n",
        "        print(\"Average degree:\", round(sum(degrees) / num_nodes, 3))\n",
        "        print(\"Isolated nodes ratio:\", round(isolated / num_nodes, 3))\n",
        "\n",
        "    print(\"Maximum degree:\", max(degrees))\n",
        "    leaf_nodes = [n for n in G.nodes() if G.degree(n) == 1]\n",
        "    print(\"Number of leaf nodes:\", len(leaf_nodes))"
      ],
      "metadata": {
        "id": "jJpUSVASX5-S"
      },
      "execution_count": null,
      "outputs": []
    },
    {
      "cell_type": "code",
      "source": [
        "analyze_graph(G)"
      ],
      "metadata": {
        "colab": {
          "base_uri": "https://localhost:8080/"
        },
        "id": "ZJGK2Ux4YKZU",
        "outputId": "6b8fccc5-9e22-4dfb-e981-c854d8236514"
      },
      "execution_count": null,
      "outputs": [
        {
          "output_type": "stream",
          "name": "stdout",
          "text": [
            "Number of nodes: 5302\n",
            "Number of edges: 8552\n",
            "Average in-degree: 1.613\n",
            "Average out-degree: 1.613\n",
            "Only in-edge nodes ratio: 0.0\n",
            "Only out-edge nodes ratio: 0.0\n",
            "Nodes with both in and out edges ratio: 0.362\n",
            "Isolated nodes ratio: 0.638\n",
            "Maximum degree: 488\n",
            "Number of leaf nodes: 0\n"
          ]
        }
      ]
    },
    {
      "cell_type": "code",
      "source": [
        "analyze_graph(Gl)"
      ],
      "metadata": {
        "colab": {
          "base_uri": "https://localhost:8080/"
        },
        "id": "TU1nEb_8axQA",
        "outputId": "cb4c9489-7b2c-44fa-c283-aa674c58bc51"
      },
      "execution_count": null,
      "outputs": [
        {
          "output_type": "stream",
          "name": "stdout",
          "text": [
            "Number of nodes: 5301\n",
            "Number of edges: 8552\n",
            "Average in-degree: 1.613\n",
            "Average out-degree: 1.613\n",
            "Only in-edge nodes ratio: 0.0\n",
            "Only out-edge nodes ratio: 0.0\n",
            "Nodes with both in and out edges ratio: 0.362\n",
            "Isolated nodes ratio: 0.638\n",
            "Maximum degree: 488\n",
            "Number of leaf nodes: 0\n"
          ]
        }
      ]
    },
    {
      "cell_type": "code",
      "source": [
        "analyze_graph(Gb)"
      ],
      "metadata": {
        "colab": {
          "base_uri": "https://localhost:8080/"
        },
        "id": "i5zUMhRVayCP",
        "outputId": "22177668-c1f1-47bb-87e6-3c0390322973"
      },
      "execution_count": null,
      "outputs": [
        {
          "output_type": "stream",
          "name": "stdout",
          "text": [
            "Number of nodes: 1950\n",
            "Number of edges: 7648\n",
            "Average in-degree: 3.922\n",
            "Average out-degree: 3.922\n",
            "Only in-edge nodes ratio: 0.0\n",
            "Only out-edge nodes ratio: 0.0\n",
            "Nodes with both in and out edges ratio: 0.626\n",
            "Isolated nodes ratio: 0.374\n",
            "Maximum degree: 488\n",
            "Number of leaf nodes: 0\n"
          ]
        }
      ]
    },
    {
      "cell_type": "code",
      "source": [
        "analyze_graph(Gs)"
      ],
      "metadata": {
        "colab": {
          "base_uri": "https://localhost:8080/"
        },
        "id": "yXYQA4X3ayy_",
        "outputId": "0745bc40-9400-4193-874f-2fa5d0845823"
      },
      "execution_count": null,
      "outputs": [
        {
          "output_type": "stream",
          "name": "stdout",
          "text": [
            "Number of nodes: 3351\n",
            "Number of edges: 746\n",
            "Average in-degree: 0.223\n",
            "Average out-degree: 0.223\n",
            "Only in-edge nodes ratio: 0.0\n",
            "Only out-edge nodes ratio: 0.0\n",
            "Nodes with both in and out edges ratio: 0.19\n",
            "Isolated nodes ratio: 0.81\n",
            "Maximum degree: 10\n",
            "Number of leaf nodes: 0\n"
          ]
        }
      ]
    },
    {
      "cell_type": "code",
      "source": [
        "# Standard Deviation of Degrees\n",
        "\n",
        "# Interpretation (comment only):\n",
        "#  - Low std → uniform structure (e.g., lattice, sybil net)\n",
        "#  - High std → heterogeneous, hub-based structure (e.g., scale-free, OSN)\n",
        "\n",
        "def compute_degree_std(G):\n",
        "    degrees = [deg for _, deg in G.degree()]\n",
        "    std = np.std(degrees)\n",
        "    print(f\"Standard Deviation of Degree: {std:.4f} and avg is {round(np.mean(degrees),2)}\")\n",
        "\n",
        "# Standard Deviation of In-Degree and Out-Degree for Directed Graphs\n",
        "\n",
        "# Interpretation (comment only):\n",
        "#  - In-degree std → variation in how much attention nodes receive\n",
        "#  - Out-degree std → variation in how active nodes are\n",
        "#  - Low std → uniform behavior (e.g., botnet)\n",
        "#  - High std → diverse behavior (e.g., real OSNs)\n",
        "\n",
        "def compute_directed_degree_std(G):\n",
        "    if not G.is_directed():\n",
        "        return None\n",
        "\n",
        "    in_degrees = [deg for _, deg in G.in_degree()]\n",
        "    out_degrees = [deg for _, deg in G.out_degree()]\n",
        "\n",
        "    in_std = np.std(in_degrees)\n",
        "    out_std = np.std(out_degrees)\n",
        "\n",
        "    print(f\"In-Degree Std:  {in_std:.4f} and avg is {round(np.mean(in_std),2)}\")\n",
        "    print(f\"Out-Degree Std: {out_std:.4f} and avg is {round(np.mean(out_std),2)}\")\n"
      ],
      "metadata": {
        "id": "gdvtHzPni2ha"
      },
      "execution_count": null,
      "outputs": []
    },
    {
      "cell_type": "code",
      "source": [
        "compute_degree_std(UG)\n",
        "compute_degree_std(UGl)\n",
        "compute_degree_std(UGs)\n",
        "compute_degree_std(UGb)"
      ],
      "metadata": {
        "colab": {
          "base_uri": "https://localhost:8080/"
        },
        "id": "tjjaOBSei2Wf",
        "outputId": "16f30081-f85d-4ad1-a9e8-e4d59a763c69"
      },
      "execution_count": null,
      "outputs": [
        {
          "output_type": "stream",
          "name": "stdout",
          "text": [
            "Standard Deviation of Degree: 6.9198 and avg is 1.61\n",
            "Standard Deviation of Degree: 6.9204 and avg is 1.61\n",
            "Standard Deviation of Degree: 0.5018 and avg is 0.22\n",
            "Standard Deviation of Degree: 10.9137 and avg is 3.92\n"
          ]
        }
      ]
    },
    {
      "cell_type": "code",
      "source": [
        "compute_directed_degree_std(G)\n",
        "compute_directed_degree_std(Gl)\n",
        "compute_directed_degree_std(Gs)\n",
        "compute_directed_degree_std(Gb)"
      ],
      "metadata": {
        "colab": {
          "base_uri": "https://localhost:8080/"
        },
        "id": "NFvYDX7Si2Kv",
        "outputId": "03867fb0-b74d-4660-9c35-d682189b22c1"
      },
      "execution_count": null,
      "outputs": [
        {
          "output_type": "stream",
          "name": "stdout",
          "text": [
            "In-Degree Std:  6.9197 and avg is 6.92\n",
            "Out-Degree Std: 6.9197 and avg is 6.92\n",
            "In-Degree Std:  6.9203 and avg is 6.92\n",
            "Out-Degree Std: 6.9203 and avg is 6.92\n",
            "In-Degree Std:  0.5018 and avg is 0.5\n",
            "Out-Degree Std: 0.5018 and avg is 0.5\n",
            "In-Degree Std:  10.9137 and avg is 10.91\n",
            "Out-Degree Std: 10.9137 and avg is 10.91\n"
          ]
        }
      ]
    },
    {
      "cell_type": "code",
      "source": [
        "def print_sparsity_ratio(G):\n",
        "    n = G.number_of_nodes()\n",
        "    m = G.number_of_edges()\n",
        "    print(n,m)\n",
        "    if nx.is_directed(G):\n",
        "        max_edges = n * (n - 1)\n",
        "        print(\"Graph is directed.\")\n",
        "    else:\n",
        "        max_edges = n * (n - 1) // 2\n",
        "        print(\"Graph is undirected.\")\n",
        "\n",
        "    if max_edges == 0:\n",
        "        sparsity_ratio = 0.0\n",
        "    else:\n",
        "        sparsity_ratio = m / max_edges\n",
        "\n",
        "    print(f\"Sparsity ratio: {sparsity_ratio:.6f}\")\n",
        "\n"
      ],
      "metadata": {
        "id": "ge4lll2-809w"
      },
      "execution_count": null,
      "outputs": []
    },
    {
      "cell_type": "code",
      "source": [
        "print_sparsity_ratio(G)"
      ],
      "metadata": {
        "colab": {
          "base_uri": "https://localhost:8080/"
        },
        "id": "p5nnjVnv9O_k",
        "outputId": "96b7b920-d8db-485a-f237-3cd9f1dac264"
      },
      "execution_count": null,
      "outputs": [
        {
          "output_type": "stream",
          "name": "stdout",
          "text": [
            "5302 8552\n",
            "Graph is directed.\n",
            "Sparsity ratio: 0.000304\n"
          ]
        }
      ]
    },
    {
      "cell_type": "code",
      "source": [
        "print_sparsity_ratio(UG)"
      ],
      "metadata": {
        "colab": {
          "base_uri": "https://localhost:8080/"
        },
        "id": "f_tZUJ3g9PCX",
        "outputId": "e779dca9-a5c3-4fb3-b1d9-b27a9b6f377d"
      },
      "execution_count": null,
      "outputs": [
        {
          "output_type": "stream",
          "name": "stdout",
          "text": [
            "5302 4277\n",
            "Graph is undirected.\n",
            "Sparsity ratio: 0.000304\n"
          ]
        }
      ]
    },
    {
      "cell_type": "code",
      "source": [
        "print_sparsity_ratio(UGl)"
      ],
      "metadata": {
        "colab": {
          "base_uri": "https://localhost:8080/"
        },
        "id": "tWaPwzdb9PF3",
        "outputId": "86735122-b84d-47e9-cdea-3ec6d3761512"
      },
      "execution_count": null,
      "outputs": [
        {
          "output_type": "stream",
          "name": "stdout",
          "text": [
            "5301 4277\n",
            "Graph is undirected.\n",
            "Sparsity ratio: 0.000304\n"
          ]
        }
      ]
    },
    {
      "cell_type": "code",
      "source": [],
      "metadata": {
        "id": "AfmqTmqo9PI5"
      },
      "execution_count": null,
      "outputs": []
    },
    {
      "cell_type": "code",
      "source": [
        "def largest_connected_component(UG):\n",
        "    components = list(nx.connected_components(UG))\n",
        "    largest = max(components, key=len)\n",
        "    UG_largest = UG.subgraph(largest).copy()\n",
        "    print(f\"Number of nodes in largest component: {UG_largest.number_of_nodes()}\")\n",
        "    print(f\"Number of edges in largest component: {UG_largest.number_of_edges()}\")\n",
        "    print(f\"#edge/#node = {round(UG_largest.number_of_edges()/UG_largest.number_of_nodes(),2)}\")\n",
        "    return UG_largest\n",
        "UC_largest_component = largest_connected_component(UG)"
      ],
      "metadata": {
        "colab": {
          "base_uri": "https://localhost:8080/"
        },
        "id": "ynrsdnxe5_30",
        "outputId": "9fe0ae6e-5f6e-4652-9a37-00daea8f5de6"
      },
      "execution_count": null,
      "outputs": [
        {
          "output_type": "stream",
          "name": "stdout",
          "text": [
            "Number of nodes in largest component: 1275\n",
            "Number of edges in largest component: 3897\n",
            "#edge/#node = 3.06\n"
          ]
        }
      ]
    },
    {
      "cell_type": "code",
      "source": [
        "def largest_weakly_connected_component(G):\n",
        "    components = list(nx.weakly_connected_components(G))\n",
        "    largest = max(components, key=len)\n",
        "    G_largest = G.subgraph(largest).copy()\n",
        "    print(f\"Number of nodes in largest weakly connected component: {G_largest.number_of_nodes()}\")\n",
        "    print(f\"Number of edges in largest weakly connected component: {G_largest.number_of_edges()}\")\n",
        "    print(f\"#edge/#node = {round(G_largest.number_of_edges() / G_largest.number_of_nodes(), 2)}\")\n",
        "    return G_largest\n",
        "\n",
        "G_largest_weakly_component = largest_weakly_connected_component(G)"
      ],
      "metadata": {
        "id": "CC-WoJIyG_Yy",
        "colab": {
          "base_uri": "https://localhost:8080/"
        },
        "outputId": "c892ed68-51ec-457d-e5ea-3015ba1b7f71"
      },
      "execution_count": null,
      "outputs": [
        {
          "output_type": "stream",
          "name": "stdout",
          "text": [
            "Number of nodes in largest weakly connected component: 1275\n",
            "Number of edges in largest weakly connected component: 7792\n",
            "#edge/#node = 6.11\n"
          ]
        }
      ]
    },
    {
      "cell_type": "code",
      "source": [
        "def analyze_scc_components(G):\n",
        "    if not isinstance(G, nx.DiGraph):\n",
        "        raise ValueError(\"G must be a directed graph\")\n",
        "\n",
        "    def report_sccs(graph, label):\n",
        "        sccs = list(nx.strongly_connected_components(graph))\n",
        "        sizes = [len(c) for c in sccs]\n",
        "        small = [s for s in sizes if s < 10]\n",
        "        large = sorted([s for s in sizes if s >= 10], reverse=True)\n",
        "\n",
        "        print(f\"\\nSCC Analysis for {label}:\")\n",
        "        print(f\"Total number of SCCs: {len(sccs)}\")\n",
        "        print(f\"Number of SCCs with size < 10: {len(small)}\")\n",
        "        print(f\"Sizes of SCCs with size ≥ 10 (sorted): {large}\")\n",
        "\n",
        "    report_sccs(G, \"original G\")\n",
        "    report_sccs(G.reverse(copy=True), \"reversed G\")\n",
        "\n",
        "\n",
        "analyze_scc_components(G)"
      ],
      "metadata": {
        "id": "szBXD3uz04rB",
        "colab": {
          "base_uri": "https://localhost:8080/"
        },
        "outputId": "26bc96a0-0996-4808-ccc7-640a0904f9f5"
      },
      "execution_count": null,
      "outputs": [
        {
          "output_type": "stream",
          "name": "stdout",
          "text": [
            "\n",
            "SCC Analysis for original G:\n",
            "Total number of SCCs: 3649\n",
            "Number of SCCs with size < 10: 3647\n",
            "Sizes of SCCs with size ≥ 10 (sorted): [1275, 14]\n",
            "\n",
            "SCC Analysis for reversed G:\n",
            "Total number of SCCs: 3649\n",
            "Number of SCCs with size < 10: 3647\n",
            "Sizes of SCCs with size ≥ 10 (sorted): [1275, 14]\n"
          ]
        }
      ]
    },
    {
      "cell_type": "code",
      "source": [
        "def analyze_directional_label_distribution(G, labels_list):\n",
        "    import numpy as np\n",
        "    import matplotlib.pyplot as plt\n",
        "\n",
        "    if not G.is_directed():\n",
        "        raise ValueError(\"Graph must be directed.\")\n",
        "\n",
        "    k = len(labels_list)\n",
        "\n",
        "    def label_of(node):\n",
        "        if node >= k:\n",
        "            return 2  # unknown\n",
        "        return labels_list[node]\n",
        "\n",
        "    label_names = ['Benign', 'Sybil', 'Unknown']\n",
        "\n",
        "    # ----------- Table 1: 3x3 edge direction matrix -----------\n",
        "    edge_table = np.zeros((3, 3), dtype=int)\n",
        "    for u, v in G.edges():\n",
        "        src = label_of(u)\n",
        "        tgt = label_of(v)\n",
        "        edge_table[src][tgt] += 1\n",
        "\n",
        "    # ----------- Table 2: in/out-degree of benign and sybil -----------\n",
        "    degree_table = np.zeros((2, 2), dtype=float)  # Rows: in/out, Cols: benign/sybil\n",
        "    counts = np.zeros(2, dtype=int)  # benign, sybil\n",
        "\n",
        "    for node in G.nodes():\n",
        "        if node >= k:\n",
        "            continue\n",
        "        label = labels_list[node]\n",
        "        if label == 0:\n",
        "            degree_table[0][0] += G.in_degree(node)\n",
        "            degree_table[1][0] += G.out_degree(node)\n",
        "            counts[0] += 1\n",
        "        elif label == 1:\n",
        "            degree_table[0][1] += G.in_degree(node)\n",
        "            degree_table[1][1] += G.out_degree(node)\n",
        "            counts[1] += 1\n",
        "\n",
        "    degree_table[0][0] /= counts[0] if counts[0] > 0 else 1\n",
        "    degree_table[1][0] /= counts[0] if counts[0] > 0 else 1\n",
        "    degree_table[0][1] /= counts[1] if counts[1] > 0 else 1\n",
        "    degree_table[1][1] /= counts[1] if counts[1] > 0 else 1\n",
        "\n",
        "    # ----------- Plot both heatmaps side by side -----------\n",
        "    fig, (ax1, ax2) = plt.subplots(1, 2, figsize=(10, 4))  # Smaller and side-by-side\n",
        "\n",
        "    # Heatmap 1: Edge direction matrix\n",
        "    im1 = ax1.imshow(edge_table, cmap=\"YlOrRd\")\n",
        "    ax1.set_xticks(range(3))\n",
        "    ax1.set_yticks(range(3))\n",
        "    ax1.set_xticklabels(label_names, fontsize=13)\n",
        "    ax1.set_yticklabels(label_names, fontsize=13)\n",
        "    ax1.set_title(\"Edge Ratios (Src ➝ Tgt)\", fontsize=14)\n",
        "    for i in range(3):\n",
        "        for j in range(3):\n",
        "            ax1.text(j, i, edge_table[i, j], ha='center', va='center', color='black', fontsize=11)\n",
        "    ax1.set_xlabel(\"Target\", fontsize=13)\n",
        "    ax1.set_ylabel(\"Source\", fontsize=13)\n",
        "    fig.colorbar(im1, ax=ax1, shrink=0.8)\n",
        "\n",
        "    # Heatmap 2: Degree stats\n",
        "    im2 = ax2.imshow(degree_table, cmap=\"PuBuGn\")\n",
        "    ax2.set_xticks([0, 1])\n",
        "    ax2.set_yticks([0, 1])\n",
        "    ax2.set_xticklabels(['Benign', 'Sybil'], fontsize=13)\n",
        "    ax2.set_yticklabels(['In-degree', 'Out-degree'], fontsize=13)\n",
        "    ax2.set_title(\"Avg In/Out Degree\", fontsize=14)\n",
        "    for i in range(2):\n",
        "        for j in range(2):\n",
        "            ax2.text(j, i, f\"{degree_table[i, j]:.2f}\", ha='center', va='center', color='black', fontsize=11)\n",
        "    fig.colorbar(im2, ax=ax2, shrink=0.8)\n",
        "\n",
        "    plt.tight_layout()\n",
        "    plt.show()\n"
      ],
      "metadata": {
        "id": "z2AAvb3GpICA"
      },
      "execution_count": null,
      "outputs": []
    },
    {
      "cell_type": "code",
      "source": [
        "analyze_directional_label_distribution(G, labels_list)"
      ],
      "metadata": {
        "id": "LZZtTjn6usNR",
        "colab": {
          "base_uri": "https://localhost:8080/",
          "height": 400
        },
        "outputId": "9624d358-4236-449f-e67c-49eef85e2c35"
      },
      "execution_count": null,
      "outputs": [
        {
          "output_type": "display_data",
          "data": {
            "text/plain": [
              "<Figure size 1000x400 with 4 Axes>"
            ],
            "image/png": "[encoded data removed]"
          },
          "metadata": {}
        }
      ]
    },
    {
      "cell_type": "code",
      "source": [
        "analyze_directional_label_distribution(Gl, labels_list)"
      ],
      "metadata": {
        "id": "pXS4mt0Au1T9",
        "colab": {
          "base_uri": "https://localhost:8080/",
          "height": 400
        },
        "outputId": "3f69327e-152f-437d-b9c8-d220ffe8315d"
      },
      "execution_count": null,
      "outputs": [
        {
          "output_type": "display_data",
          "data": {
            "text/plain": [
              "<Figure size 1000x400 with 4 Axes>"
            ],
            "image/png": "[encoded data removed]"
          },
          "metadata": {}
        }
      ]
    },
    {
      "cell_type": "code",
      "source": [
        "def count_isolated_by_label(G, labels_list):\n",
        "    isolated_nodes = list(nx.isolates(G))\n",
        "\n",
        "    benign_isolated = sum(1 for node in isolated_nodes if node < len(labels_list) and labels_list[node] == 0)\n",
        "    sybil_isolated = sum(1 for node in isolated_nodes if node < len(labels_list) and labels_list[node] == 1)\n",
        "\n",
        "    print(f\"Isolated benign nodes in undirected graph of whole nodes: {benign_isolated}, whole benign nodes are {len(labels_list)-sum(labels_list)}\")\n",
        "    print(f\"Isolated  sybil nodes in undirected graph of whole nodes: {sybil_isolated},  whole benign nodes are {sum(labels_list)}\")\n",
        "\n",
        "count_isolated_by_label(UG, labels_list)"
      ],
      "metadata": {
        "id": "_JVf2yskoxxg",
        "colab": {
          "base_uri": "https://localhost:8080/"
        },
        "outputId": "c5c63f76-fc75-4f07-905c-bb2bbe88c2ed"
      },
      "execution_count": null,
      "outputs": [
        {
          "output_type": "stream",
          "name": "stdout",
          "text": [
            "Isolated benign nodes in undirected graph of whole nodes: 728, whole benign nodes are 1950\n",
            "Isolated  sybil nodes in undirected graph of whole nodes: 2653,  whole benign nodes are 3351\n"
          ]
        }
      ]
    },
    {
      "cell_type": "markdown",
      "source": [
        "## Degree Distribution"
      ],
      "metadata": {
        "id": "2nxSw5-Ya6fZ"
      }
    },
    {
      "cell_type": "code",
      "source": [
        "def clip_top_5_percent(values):\n",
        "    values = np.array(values)\n",
        "    threshold = np.percentile(values, 97)  # 95th percentile value\n",
        "    clip_val = np.min(values[values >= threshold])\n",
        "    clipped = np.where(values > clip_val, clip_val, values)\n",
        "    return clipped, clip_val\n",
        "\n",
        "def plot_degree_distributions(G, name=\"Graph\"):\n",
        "    fig, axes = plt.subplots(1, 3, figsize=(18, 5))\n",
        "\n",
        "    if G.is_directed():\n",
        "        in_degrees = [d for _, d in G.in_degree()]\n",
        "        out_degrees = [d for _, d in G.out_degree()]\n",
        "        total_degrees = [in_d + out_d for in_d, out_d in zip(in_degrees, out_degrees)]\n",
        "    else:\n",
        "        in_degrees = out_degrees = total_degrees = [d for _, d in G.degree()]\n",
        "\n",
        "    # Clip top 5% of each list\n",
        "    total_degrees_clipped, clip_total = clip_top_5_percent(total_degrees)\n",
        "    in_degrees_clipped, clip_in = clip_top_5_percent(in_degrees)\n",
        "    out_degrees_clipped, clip_out = clip_top_5_percent(out_degrees)\n",
        "\n",
        "    # Plot Degree\n",
        "    axes[0].hist(total_degrees_clipped, bins=30, color='skyblue', edgecolor='black')\n",
        "    axes[0].set_title(f\"{name} - Degree\")\n",
        "    axes[0].set_xlabel(\"Degree\")\n",
        "    axes[0].set_ylabel(\"Frequency\")\n",
        "\n",
        "    # Plot In-Degree\n",
        "    axes[1].hist(in_degrees_clipped, bins=30, color='lightgreen', edgecolor='black')\n",
        "    axes[1].set_title(f\"{name} - In-Degree\")\n",
        "    axes[1].set_xlabel(\"In-Degree\")\n",
        "    axes[1].set_ylabel(\"Frequency\")\n",
        "\n",
        "    # Plot Out-Degree\n",
        "    axes[2].hist(out_degrees_clipped, bins=30, color='salmon', edgecolor='black')\n",
        "    axes[2].set_title(f\"{name} - Out-Degree\")\n",
        "    axes[2].set_xlabel(\"Out-Degree\")\n",
        "    axes[2].set_ylabel(\"Frequency\")\n",
        "\n",
        "    # Add clipping info\n",
        "    fig.suptitle(f\"Degree Distributions for {name}\", fontsize=16)\n",
        "    fig.text(0.5, 0.01, f\"Clipped top 3% values to: Degree={clip_total}, In-Degree={clip_in}, Out-Degree={clip_out}\",\n",
        "             ha='center', fontsize=10, style='italic')\n",
        "\n",
        "    plt.tight_layout(rect=[0, 0.03, 1, 0.95])\n",
        "    plt.show()\n"
      ],
      "metadata": {
        "id": "Hy8MA57oa0Ku"
      },
      "execution_count": null,
      "outputs": []
    },
    {
      "cell_type": "code",
      "source": [
        "plot_degree_distributions(G, name=\"Main Graph\")"
      ],
      "metadata": {
        "id": "jc6aFgbqbgYv",
        "colab": {
          "base_uri": "https://localhost:8080/",
          "height": 525
        },
        "outputId": "9e6cec8f-914a-4fd6-daad-c08203e9c458"
      },
      "execution_count": null,
      "outputs": [
        {
          "output_type": "display_data",
          "data": {
            "text/plain": [
              "<Figure size 1800x500 with 3 Axes>"
            ],
            "image/png": "[encoded data removed]"
          },
          "metadata": {}
        }
      ]
    },
    {
      "cell_type": "code",
      "source": [
        "plot_degree_distributions(Gl, name=\"Labeled Graph\")"
      ],
      "metadata": {
        "id": "1iqYzLvfbgc7",
        "colab": {
          "base_uri": "https://localhost:8080/",
          "height": 525
        },
        "outputId": "2cc048de-1f7b-454c-963d-0c2d2b8db956"
      },
      "execution_count": null,
      "outputs": [
        {
          "output_type": "display_data",
          "data": {
            "text/plain": [
              "<Figure size 1800x500 with 3 Axes>"
            ],
            "image/png": "[encoded data removed]"
          },
          "metadata": {}
        }
      ]
    },
    {
      "cell_type": "code",
      "source": [
        "plot_degree_distributions(Gb, name=\"Benign Graph\")"
      ],
      "metadata": {
        "id": "cihFB8zQbggo",
        "colab": {
          "base_uri": "https://localhost:8080/",
          "height": 525
        },
        "outputId": "52893a2e-4dff-47e7-face-e40a4a1fe317"
      },
      "execution_count": null,
      "outputs": [
        {
          "output_type": "display_data",
          "data": {
            "text/plain": [
              "<Figure size 1800x500 with 3 Axes>"
            ],
            "image/png": "[encoded data removed]"
          },
          "metadata": {}
        }
      ]
    },
    {
      "cell_type": "code",
      "source": [
        "plot_degree_distributions(Gs, name=\"Sybil Graph\")"
      ],
      "metadata": {
        "id": "2udkfuNbbgjo",
        "colab": {
          "base_uri": "https://localhost:8080/",
          "height": 525
        },
        "outputId": "e3c97f4a-7b9d-4fbd-aff5-57f8de96703a"
      },
      "execution_count": null,
      "outputs": [
        {
          "output_type": "display_data",
          "data": {
            "text/plain": [
              "<Figure size 1800x500 with 3 Axes>"
            ],
            "image/png": "[encoded data removed]"
          },
          "metadata": {}
        }
      ]
    },
    {
      "cell_type": "markdown",
      "source": [
        "# Heteroginity Talk (Undirected Labeled Graph)"
      ],
      "metadata": {
        "id": "HKbO5spgjNuF"
      }
    },
    {
      "cell_type": "code",
      "source": [
        "def plot_node_heterogeneity(G, label_list):\n",
        "    benign_het_ratios = []\n",
        "    sybil_het_ratios = []\n",
        "    all_het_ratios = []\n",
        "\n",
        "    labeled_nodes = {i for i, lbl in enumerate(label_list) if lbl in [0, 1]}\n",
        "    total_labeled = len(labeled_nodes)\n",
        "    isolated_labeled = 0\n",
        "\n",
        "    for node in labeled_nodes:\n",
        "        label = label_list[node]\n",
        "\n",
        "        if G.is_directed():\n",
        "            neighbors = set(G.predecessors(node)) | set(G.successors(node))\n",
        "        else:\n",
        "            neighbors = G.neighbors(node)\n",
        "\n",
        "        labeled_neighbors = [n for n in neighbors if n < len(label_list) and label_list[n] in [0, 1]]\n",
        "\n",
        "        if not labeled_neighbors:\n",
        "            isolated_labeled += 1\n",
        "            continue\n",
        "\n",
        "        het_count = sum(1 for n in labeled_neighbors if label_list[n] != label)\n",
        "        het_ratio = het_count / len(labeled_neighbors)\n",
        "\n",
        "        all_het_ratios.append(het_ratio)\n",
        "        if label == 0:\n",
        "            benign_het_ratios.append(het_ratio)\n",
        "        elif label == 1:\n",
        "            sybil_het_ratios.append(het_ratio)\n",
        "\n",
        "    isolated_ratio = isolated_labeled / total_labeled if total_labeled > 0 else 0\n",
        "\n",
        "    # Plotting\n",
        "    fig, axes = plt.subplots(1, 2, figsize=(14, 5))\n",
        "\n",
        "    # Histogram 1: All labeled nodes\n",
        "    axes[0].hist(all_het_ratios, bins=30, color='steelblue', edgecolor='black', alpha=0.8)\n",
        "    axes[0].set_title(\"Heterogeneity Ratio (All Labeled Nodes)\")\n",
        "    axes[0].set_xlabel(\"Heterogeneity Ratio\")\n",
        "    axes[0].set_ylabel(\"Density\")\n",
        "\n",
        "    # Histogram 2: Benign vs Sybil nodes\n",
        "    axes[1].hist(benign_het_ratios, bins=30, alpha=0.5, label='Benign', color='green', density=True)\n",
        "    axes[1].hist(sybil_het_ratios, bins=30, alpha=0.5, label='Sybil', color='red', density=True)\n",
        "    axes[1].set_title(\"Heterogeneity Ratio by Class\")\n",
        "    axes[1].set_xlabel(\"Heterogeneity Ratio\")\n",
        "    axes[1].set_ylabel(\"Density\")\n",
        "    axes[1].legend()\n",
        "\n",
        "    # Caption below both plots\n",
        "    caption = f\"Note: {round(isolated_ratio * 100, 2)}% of labeled nodes were isolated and excluded from analysis.\"\n",
        "    fig.text(0.5, -0.02, caption, ha='center', fontsize=10, style='italic')\n",
        "\n",
        "    plt.tight_layout(rect=[0, 0.04, 1, 1])\n",
        "    plt.show()"
      ],
      "metadata": {
        "id": "mRFvTxNUcwuu"
      },
      "execution_count": null,
      "outputs": []
    },
    {
      "cell_type": "code",
      "source": [
        "x = list(UGl.nodes())\n",
        "x.sort()\n",
        "x[:10]"
      ],
      "metadata": {
        "id": "kALy-EAT7L6f",
        "colab": {
          "base_uri": "https://localhost:8080/"
        },
        "outputId": "e7a6673d-704b-40a0-cc19-5179d682a70a"
      },
      "execution_count": null,
      "outputs": [
        {
          "output_type": "execute_result",
          "data": {
            "text/plain": [
              "[0, 1, 2, 3, 4, 5, 6, 7, 8, 9]"
            ]
          },
          "metadata": {},
          "execution_count": 196
        }
      ]
    },
    {
      "cell_type": "code",
      "source": [
        "plot_node_heterogeneity(UGl, labels_list)"
      ],
      "metadata": {
        "id": "pqNb-m-BkRjx",
        "colab": {
          "base_uri": "https://localhost:8080/",
          "height": 535
        },
        "outputId": "fed97557-193c-43b2-957e-403465c6cb83"
      },
      "execution_count": null,
      "outputs": [
        {
          "output_type": "display_data",
          "data": {
            "text/plain": [
              "<Figure size 1400x500 with 2 Axes>"
            ],
            "image/png": "[encoded data removed]"
          },
          "metadata": {}
        }
      ]
    },
    {
      "cell_type": "markdown",
      "source": [
        "# BFS (undirected scenario)"
      ],
      "metadata": {
        "id": "ecSeKHQjnjGm"
      }
    },
    {
      "cell_type": "code",
      "source": [
        "def bfs_levels_from_virtual_node(G, first_level_list):\n",
        "    G = G.copy()\n",
        "    virtual_node = -1\n",
        "\n",
        "    G.add_node(virtual_node)\n",
        "    for node in first_level_list:\n",
        "        G.add_edge(virtual_node, node)\n",
        "\n",
        "    visited = set([virtual_node])\n",
        "    level_map = {virtual_node: 0}\n",
        "    queue = deque([virtual_node])\n",
        "\n",
        "    level_nodes = defaultdict(list)\n",
        "\n",
        "    while queue:\n",
        "        current = queue.popleft()\n",
        "        current_level = level_map[current]\n",
        "\n",
        "        for neighbor in G.neighbors(current):\n",
        "            if neighbor not in visited:\n",
        "                visited.add(neighbor)\n",
        "                level_map[neighbor] = current_level + 1\n",
        "                level_nodes[current_level + 1].append(neighbor)\n",
        "                queue.append(neighbor)\n",
        "\n",
        "\n",
        "    original_nodes = set(G.nodes()) - {virtual_node}\n",
        "    print(\"BFS Level Summary (excluding virtual node):\")\n",
        "    for level in sorted(level_nodes.keys()):\n",
        "        nodes_at_level = level_nodes[level]\n",
        "        avg_deg = sum(G.degree(n) for n in nodes_at_level) / len(nodes_at_level)\n",
        "        print(f\"Level {level}: {len(nodes_at_level)} nodes, average degree: {round(avg_deg, 2)}\")\n",
        "\n",
        "    all_reachable = set(level_map.keys()) - {virtual_node}\n",
        "    non_reachable = original_nodes - all_reachable\n",
        "    isolated_nodes = list(nx.isolates(G))\n",
        "    num_non_reachable = len(non_reachable)\n",
        "    num_isolated_non_reachable = len(set(isolated_nodes) & non_reachable)\n",
        "\n",
        "    if len(original_nodes) > 0:\n",
        "        print(f\"Non-reachable nodes: {num_non_reachable} ({round(num_non_reachable / len(original_nodes) * 100, 2)}%)\")\n",
        "        if num_non_reachable > 0:\n",
        "            isolated_ratio = num_isolated_non_reachable / num_non_reachable\n",
        "            print(f\"Among the unreachabel, isolated nodes: {num_isolated_non_reachable} ({round(isolated_ratio * 100, 2)}%)\")\n",
        "\n",
        "    else:\n",
        "        print(\"No nodes in the original graph.\")\n"
      ],
      "metadata": {
        "id": "Ug1ZZTYokVUR"
      },
      "execution_count": null,
      "outputs": []
    },
    {
      "cell_type": "code",
      "source": [
        "bfs_levels_from_virtual_node(UG, first_level_list = labeled_nodes) # whole labeled nodes"
      ],
      "metadata": {
        "id": "A2p0GVGHkj8g",
        "colab": {
          "base_uri": "https://localhost:8080/"
        },
        "outputId": "adc85274-eb85-49f4-cd5a-c1d637b252d2"
      },
      "execution_count": null,
      "outputs": [
        {
          "output_type": "stream",
          "name": "stdout",
          "text": [
            "BFS Level Summary (excluding virtual node):\n",
            "Level 1: 5301 nodes, average degree: 2.61\n",
            "Non-reachable nodes: 1 (0.02%)\n",
            "Among the unreachabel, isolated nodes: 1 (100.0%)\n"
          ]
        }
      ]
    },
    {
      "cell_type": "code",
      "source": [
        "bfs_levels_from_virtual_node(UG, first_level_list = benign_nodes) # Benign nodes"
      ],
      "metadata": {
        "id": "3R5uPlINkmVe",
        "colab": {
          "base_uri": "https://localhost:8080/"
        },
        "outputId": "4afc1a17-096e-4df9-cc61-2c7833436d7c"
      },
      "execution_count": null,
      "outputs": [
        {
          "output_type": "stream",
          "name": "stdout",
          "text": [
            "BFS Level Summary (excluding virtual node):\n",
            "Level 1: 1950 nodes, average degree: 4.96\n",
            "Level 2: 78 nodes, average degree: 1.23\n",
            "Level 3: 17 nodes, average degree: 1.35\n",
            "Level 4: 6 nodes, average degree: 1.33\n",
            "Level 5: 2 nodes, average degree: 1.5\n",
            "Level 6: 1 nodes, average degree: 2.0\n",
            "Level 7: 1 nodes, average degree: 1.0\n",
            "Non-reachable nodes: 3247 (61.24%)\n",
            "Among the unreachabel, isolated nodes: 2654 (81.74%)\n"
          ]
        }
      ]
    },
    {
      "cell_type": "code",
      "source": [
        "bfs_levels_from_virtual_node(UG, first_level_list = sybil_nodes) # Sybil nodes"
      ],
      "metadata": {
        "id": "l0AyGbILqXzp",
        "colab": {
          "base_uri": "https://localhost:8080/"
        },
        "outputId": "40718499-fef9-4a6e-cc71-c0b64e7c7bef"
      },
      "execution_count": null,
      "outputs": [
        {
          "output_type": "stream",
          "name": "stdout",
          "text": [
            "BFS Level Summary (excluding virtual node):\n",
            "Level 1: 3351 nodes, average degree: 1.25\n",
            "Level 2: 5 nodes, average degree: 56.6\n",
            "Level 3: 186 nodes, average degree: 10.13\n",
            "Level 4: 556 nodes, average degree: 8.23\n",
            "Level 5: 380 nodes, average degree: 2.3\n",
            "Level 6: 51 nodes, average degree: 1.31\n",
            "Level 7: 6 nodes, average degree: 1.0\n",
            "Non-reachable nodes: 767 (14.47%)\n",
            "Among the unreachabel, isolated nodes: 729 (95.05%)\n"
          ]
        }
      ]
    },
    {
      "cell_type": "markdown",
      "source": [
        "# Talk abput connected components"
      ],
      "metadata": {
        "id": "o9Sm370DnYCe"
      }
    },
    {
      "cell_type": "code",
      "source": [
        "def format_avg(value):\n",
        "    return f\"{int(value)}\" if value.is_integer() else f\"{value:.2f}\"\n",
        "\n",
        "def analyze_components_with_labels(G, labels_list, plotter):\n",
        "    if G.is_directed():\n",
        "        G = G.to_undirected()\n",
        "\n",
        "    k = len(labels_list)\n",
        "    components = list(nx.connected_components(G))\n",
        "    size_dict = defaultdict(list)\n",
        "    plot_list = []\n",
        "\n",
        "    for comp in components:\n",
        "        subgraph = G.subgraph(comp)\n",
        "        size = subgraph.number_of_nodes()\n",
        "        size_dict[size].append(subgraph)\n",
        "        plot_list.append(size)\n",
        "\n",
        "    sorted_sizes = sorted(size_dict.keys(), reverse=True)\n",
        "\n",
        "    # Track biggest component stats separately\n",
        "    biggest_component = size_dict[sorted_sizes[0]][0]\n",
        "    benign_big = sybil_big = 0\n",
        "    for node in biggest_component.nodes:\n",
        "        if node < k:\n",
        "            if labels_list[node] == 0:\n",
        "                benign_big += 1\n",
        "            elif labels_list[node] == 1:\n",
        "                sybil_big += 1\n",
        "\n",
        "    # Track other components' stats\n",
        "    benign_other = sybil_other = 0\n",
        "    for size in sorted_sizes[1:]:\n",
        "        for sg in size_dict[size]:\n",
        "            for node in sg.nodes:\n",
        "                if node < k:\n",
        "                    if labels_list[node] == 0:\n",
        "                        benign_other += 1\n",
        "                    elif labels_list[node] == 1:\n",
        "                        sybil_other += 1\n",
        "\n",
        "    print(f\"# of sybils and benigns in biggest component is {sybil_big}, {benign_big} respectively.\")\n",
        "    print(f\"# of sybils and benigns in other   components is {sybil_other}, {benign_other} respectively.\")\n",
        "\n",
        "    for size in sorted_sizes:\n",
        "        subgraphs = size_dict[size]\n",
        "        count = len(subgraphs)\n",
        "\n",
        "        total_edges = total_benigns = total_sybils = 0\n",
        "        for sg in subgraphs:\n",
        "            total_edges += sg.number_of_edges()\n",
        "            for node in sg.nodes:\n",
        "                if node < k:\n",
        "                    if labels_list[node] == 0:\n",
        "                        total_benigns += 1\n",
        "                    elif labels_list[node] == 1:\n",
        "                        total_sybils += 1\n",
        "\n",
        "        avg_edges = total_edges / count\n",
        "        avg_benigns = total_benigns / count\n",
        "        avg_sybils = total_sybils / count\n",
        "\n",
        "        print(\n",
        "            f\"{count} component(s) with size {size}, \"\n",
        "            f\"avg edges: {format_avg(avg_edges)}, \"\n",
        "            f\"avg benigns: {format_avg(avg_benigns)}, \"\n",
        "            f\"avg sybils: {format_avg(avg_sybils)}\"\n",
        "        )\n",
        "\n",
        "    if plotter:\n",
        "        plot_list.sort()\n",
        "        plt.figure(figsize=(8, 5))\n",
        "        plt.plot(range(1, len(plot_list) + 1), plot_list)\n",
        "        plt.xlabel(\"Components\")\n",
        "        plt.ylabel(\"Size (Logarithmic)\")\n",
        "        plt.yscale(\"log\")\n",
        "        plt.title(\"Size of components in sorted format\")\n",
        "        plt.grid(True, which=\"both\", linestyle=\"--\", linewidth=0.5)\n",
        "        plt.tight_layout()\n",
        "        plt.show()\n"
      ],
      "metadata": {
        "id": "AyuaxXF4qbpm"
      },
      "execution_count": null,
      "outputs": []
    },
    {
      "cell_type": "code",
      "source": [
        "analyze_components_with_labels(UG, labels_list, plotter = True)"
      ],
      "metadata": {
        "id": "jMV4wC2XoeOo",
        "colab": {
          "base_uri": "https://localhost:8080/",
          "height": 705
        },
        "outputId": "06c5e069-2167-4fd2-f888-02dabf4d0409"
      },
      "execution_count": null,
      "outputs": [
        {
          "output_type": "stream",
          "name": "stdout",
          "text": [
            "# of sybils and benigns in biggest component is 92, 1183 respectively.\n",
            "# of sybils and benigns in other   components is 3259, 767 respectively.\n",
            "1 component(s) with size 1275, avg edges: 3897, avg benigns: 1183, avg sybils: 92\n",
            "1 component(s) with size 14, avg edges: 13, avg benigns: 1, avg sybils: 13\n",
            "1 component(s) with size 7, avg edges: 6, avg benigns: 0, avg sybils: 7\n",
            "3 component(s) with size 6, avg edges: 5, avg benigns: 0, avg sybils: 6\n",
            "6 component(s) with size 5, avg edges: 4, avg benigns: 0, avg sybils: 5\n",
            "14 component(s) with size 4, avg edges: 3, avg benigns: 0, avg sybils: 4\n",
            "38 component(s) with size 3, avg edges: 2.03, avg benigns: 0.16, avg sybils: 2.84\n",
            "203 component(s) with size 2, avg edges: 1, avg benigns: 0.16, avg sybils: 1.84\n",
            "3382 component(s) with size 1, avg edges: 0, avg benigns: 0.22, avg sybils: 0.78\n"
          ]
        },
        {
          "output_type": "display_data",
          "data": {
            "text/plain": [
              "<Figure size 800x500 with 1 Axes>"
            ],
            "image/png": "[encoded data removed]"
          },
          "metadata": {}
        }
      ]
    },
    {
      "cell_type": "code",
      "source": [
        "analyze_components_with_labels(UGb, labels_list, plotter = False)"
      ],
      "metadata": {
        "id": "vQBEy0ApohYp",
        "colab": {
          "base_uri": "https://localhost:8080/"
        },
        "outputId": "ee8f2c3b-068c-4284-eb3e-6984af03074c"
      },
      "execution_count": null,
      "outputs": [
        {
          "output_type": "stream",
          "name": "stdout",
          "text": [
            "# of sybils and benigns in biggest component is 0, 1183 respectively.\n",
            "# of sybils and benigns in other   components is 0, 767 respectively.\n",
            "1 component(s) with size 1183, avg edges: 3804, avg benigns: 1183, avg sybils: 0\n",
            "2 component(s) with size 3, avg edges: 2.50, avg benigns: 3, avg sybils: 0\n",
            "16 component(s) with size 2, avg edges: 1, avg benigns: 2, avg sybils: 0\n",
            "729 component(s) with size 1, avg edges: 0, avg benigns: 1, avg sybils: 0\n"
          ]
        }
      ]
    },
    {
      "cell_type": "code",
      "source": [
        "analyze_components_with_labels(UGs, labels_list, plotter = False)"
      ],
      "metadata": {
        "id": "dIgDeTdXwy_y",
        "colab": {
          "base_uri": "https://localhost:8080/"
        },
        "outputId": "7fdbfcd8-1792-4b28-e8e9-46cfe2051a37"
      },
      "execution_count": null,
      "outputs": [
        {
          "output_type": "stream",
          "name": "stdout",
          "text": [
            "# of sybils and benigns in biggest component is 7, 0 respectively.\n",
            "# of sybils and benigns in other   components is 3337, 0 respectively.\n",
            "2 component(s) with size 7, avg edges: 6, avg benigns: 0, avg sybils: 7\n",
            "3 component(s) with size 6, avg edges: 5, avg benigns: 0, avg sybils: 6\n",
            "7 component(s) with size 5, avg edges: 4, avg benigns: 0, avg sybils: 5\n",
            "14 component(s) with size 4, avg edges: 3, avg benigns: 0, avg sybils: 4\n",
            "39 component(s) with size 3, avg edges: 2, avg benigns: 0, avg sybils: 3\n",
            "198 component(s) with size 2, avg edges: 1, avg benigns: 0, avg sybils: 2\n",
            "2715 component(s) with size 1, avg edges: 0, avg benigns: 0, avg sybils: 1\n"
          ]
        }
      ]
    },
    {
      "cell_type": "code",
      "source": [
        "def analyze_tree_components(G, labels_list):\n",
        "    if G.is_directed():\n",
        "        G = G.to_undirected()\n",
        "\n",
        "    k = len(labels_list)\n",
        "    components = list(nx.connected_components(G))\n",
        "\n",
        "    for comp in components:\n",
        "        subgraph = G.subgraph(comp)\n",
        "        n = subgraph.number_of_nodes()\n",
        "        m = subgraph.number_of_edges()\n",
        "\n",
        "        if n != m + 1 or n == 1:\n",
        "            continue  # Not a tree\n",
        "\n",
        "        degrees = dict(subgraph.degree())\n",
        "        deg_values = list(degrees.values())\n",
        "        is_star = deg_values.count(1) == n - 1 and deg_values.count(n - 1) == 1\n",
        "        is_path = deg_values.count(1) == 2 and deg_values.count(2) == n - 2\n",
        "\n",
        "        center_label_info = \"\"\n",
        "        if is_star:\n",
        "            shape = \"Star\"\n",
        "            center_node = max(degrees, key=degrees.get)\n",
        "            if center_node < k:\n",
        "                if labels_list[center_node] == 0:\n",
        "                    center_label_info = \" Center is benign.\"\n",
        "                elif labels_list[center_node] == 1:\n",
        "                    center_label_info = \" Center is sybil.\"\n",
        "                else:\n",
        "                    center_label_info = \" Center label unknown.\"\n",
        "            else:\n",
        "                center_label_info = \" Center is unlabeled.\"\n",
        "        elif is_path:\n",
        "            shape = \"Path\"\n",
        "        else:\n",
        "            shape = \"Other Tree\"\n",
        "\n",
        "        sybils = benigns = 0\n",
        "        for node in subgraph.nodes:\n",
        "            if node < k:\n",
        "                if labels_list[node] == 0:\n",
        "                    benigns += 1\n",
        "                elif labels_list[node] == 1:\n",
        "                    sybils += 1\n",
        "\n",
        "        print(\n",
        "            f\"Tree component with {n} nodes and {m} edges is a {shape}. \"\n",
        "            f\"Sybils: {sybils}, Benigns: {benigns}.{center_label_info if is_star else ''}\"\n",
        "        )\n"
      ],
      "metadata": {
        "id": "gHsJNaUHZe9s"
      },
      "execution_count": null,
      "outputs": []
    },
    {
      "cell_type": "code",
      "source": [
        "analyze_tree_components(UG, labels_list)"
      ],
      "metadata": {
        "id": "pc1maIBPw0YE",
        "colab": {
          "base_uri": "https://localhost:8080/"
        },
        "outputId": "41397304-e113-4c5d-cfce-fded3d9d56c6"
      },
      "execution_count": null,
      "outputs": [
        {
          "output_type": "stream",
          "name": "stdout",
          "text": [
            "Tree component with 2 nodes and 1 edges is a Path. Sybils: 0, Benigns: 2.\n",
            "Tree component with 2 nodes and 1 edges is a Path. Sybils: 0, Benigns: 2.\n",
            "Tree component with 2 nodes and 1 edges is a Path. Sybils: 0, Benigns: 2.\n",
            "Tree component with 2 nodes and 1 edges is a Path. Sybils: 0, Benigns: 2.\n",
            "Tree component with 2 nodes and 1 edges is a Path. Sybils: 0, Benigns: 2.\n",
            "Tree component with 2 nodes and 1 edges is a Path. Sybils: 0, Benigns: 2.\n",
            "Tree component with 2 nodes and 1 edges is a Path. Sybils: 0, Benigns: 2.\n",
            "Tree component with 2 nodes and 1 edges is a Path. Sybils: 0, Benigns: 2.\n",
            "Tree component with 2 nodes and 1 edges is a Path. Sybils: 0, Benigns: 2.\n",
            "Tree component with 2 nodes and 1 edges is a Path. Sybils: 0, Benigns: 2.\n",
            "Tree component with 14 nodes and 13 edges is a Star. Sybils: 13, Benigns: 1. Center is benign.\n",
            "Tree component with 3 nodes and 2 edges is a Star. Sybils: 0, Benigns: 3. Center is benign.\n",
            "Tree component with 2 nodes and 1 edges is a Path. Sybils: 0, Benigns: 2.\n",
            "Tree component with 2 nodes and 1 edges is a Path. Sybils: 0, Benigns: 2.\n",
            "Tree component with 2 nodes and 1 edges is a Path. Sybils: 0, Benigns: 2.\n",
            "Tree component with 2 nodes and 1 edges is a Path. Sybils: 0, Benigns: 2.\n",
            "Tree component with 2 nodes and 1 edges is a Path. Sybils: 0, Benigns: 2.\n",
            "Tree component with 2 nodes and 1 edges is a Path. Sybils: 0, Benigns: 2.\n",
            "Tree component with 2 nodes and 1 edges is a Path. Sybils: 2, Benigns: 0.\n",
            "Tree component with 2 nodes and 1 edges is a Path. Sybils: 2, Benigns: 0.\n",
            "Tree component with 2 nodes and 1 edges is a Path. Sybils: 2, Benigns: 0.\n",
            "Tree component with 2 nodes and 1 edges is a Path. Sybils: 2, Benigns: 0.\n",
            "Tree component with 6 nodes and 5 edges is a Star. Sybils: 6, Benigns: 0. Center is sybil.\n",
            "Tree component with 2 nodes and 1 edges is a Path. Sybils: 2, Benigns: 0.\n",
            "Tree component with 2 nodes and 1 edges is a Path. Sybils: 2, Benigns: 0.\n",
            "Tree component with 2 nodes and 1 edges is a Path. Sybils: 2, Benigns: 0.\n",
            "Tree component with 6 nodes and 5 edges is a Other Tree. Sybils: 6, Benigns: 0.\n",
            "Tree component with 2 nodes and 1 edges is a Path. Sybils: 2, Benigns: 0.\n",
            "Tree component with 3 nodes and 2 edges is a Star. Sybils: 3, Benigns: 0. Center is sybil.\n",
            "Tree component with 3 nodes and 2 edges is a Star. Sybils: 3, Benigns: 0. Center is sybil.\n",
            "Tree component with 2 nodes and 1 edges is a Path. Sybils: 2, Benigns: 0.\n",
            "Tree component with 2 nodes and 1 edges is a Path. Sybils: 2, Benigns: 0.\n",
            "Tree component with 3 nodes and 2 edges is a Star. Sybils: 3, Benigns: 0. Center is sybil.\n",
            "Tree component with 2 nodes and 1 edges is a Path. Sybils: 2, Benigns: 0.\n",
            "Tree component with 3 nodes and 2 edges is a Star. Sybils: 3, Benigns: 0. Center is sybil.\n",
            "Tree component with 2 nodes and 1 edges is a Path. Sybils: 2, Benigns: 0.\n",
            "Tree component with 2 nodes and 1 edges is a Path. Sybils: 2, Benigns: 0.\n",
            "Tree component with 2 nodes and 1 edges is a Path. Sybils: 2, Benigns: 0.\n",
            "Tree component with 5 nodes and 4 edges is a Other Tree. Sybils: 5, Benigns: 0.\n",
            "Tree component with 2 nodes and 1 edges is a Path. Sybils: 2, Benigns: 0.\n",
            "Tree component with 4 nodes and 3 edges is a Path. Sybils: 4, Benigns: 0.\n",
            "Tree component with 2 nodes and 1 edges is a Path. Sybils: 2, Benigns: 0.\n",
            "Tree component with 5 nodes and 4 edges is a Other Tree. Sybils: 5, Benigns: 0.\n",
            "Tree component with 2 nodes and 1 edges is a Path. Sybils: 2, Benigns: 0.\n",
            "Tree component with 3 nodes and 2 edges is a Star. Sybils: 3, Benigns: 0. Center is sybil.\n",
            "Tree component with 2 nodes and 1 edges is a Path. Sybils: 2, Benigns: 0.\n",
            "Tree component with 2 nodes and 1 edges is a Path. Sybils: 2, Benigns: 0.\n",
            "Tree component with 4 nodes and 3 edges is a Star. Sybils: 4, Benigns: 0. Center is sybil.\n",
            "Tree component with 3 nodes and 2 edges is a Star. Sybils: 3, Benigns: 0. Center is sybil.\n",
            "Tree component with 3 nodes and 2 edges is a Star. Sybils: 3, Benigns: 0. Center is sybil.\n",
            "Tree component with 3 nodes and 2 edges is a Star. Sybils: 3, Benigns: 0. Center is sybil.\n",
            "Tree component with 2 nodes and 1 edges is a Path. Sybils: 2, Benigns: 0.\n",
            "Tree component with 2 nodes and 1 edges is a Path. Sybils: 2, Benigns: 0.\n",
            "Tree component with 2 nodes and 1 edges is a Path. Sybils: 2, Benigns: 0.\n",
            "Tree component with 2 nodes and 1 edges is a Path. Sybils: 2, Benigns: 0.\n",
            "Tree component with 5 nodes and 4 edges is a Other Tree. Sybils: 5, Benigns: 0.\n",
            "Tree component with 2 nodes and 1 edges is a Path. Sybils: 2, Benigns: 0.\n",
            "Tree component with 2 nodes and 1 edges is a Path. Sybils: 2, Benigns: 0.\n",
            "Tree component with 2 nodes and 1 edges is a Path. Sybils: 2, Benigns: 0.\n",
            "Tree component with 4 nodes and 3 edges is a Path. Sybils: 4, Benigns: 0.\n",
            "Tree component with 2 nodes and 1 edges is a Path. Sybils: 2, Benigns: 0.\n",
            "Tree component with 3 nodes and 2 edges is a Star. Sybils: 3, Benigns: 0. Center is sybil.\n",
            "Tree component with 2 nodes and 1 edges is a Path. Sybils: 2, Benigns: 0.\n",
            "Tree component with 2 nodes and 1 edges is a Path. Sybils: 2, Benigns: 0.\n",
            "Tree component with 2 nodes and 1 edges is a Path. Sybils: 2, Benigns: 0.\n",
            "Tree component with 2 nodes and 1 edges is a Path. Sybils: 2, Benigns: 0.\n",
            "Tree component with 2 nodes and 1 edges is a Path. Sybils: 2, Benigns: 0.\n",
            "Tree component with 3 nodes and 2 edges is a Star. Sybils: 3, Benigns: 0. Center is sybil.\n",
            "Tree component with 2 nodes and 1 edges is a Path. Sybils: 2, Benigns: 0.\n",
            "Tree component with 2 nodes and 1 edges is a Path. Sybils: 2, Benigns: 0.\n",
            "Tree component with 2 nodes and 1 edges is a Path. Sybils: 2, Benigns: 0.\n",
            "Tree component with 2 nodes and 1 edges is a Path. Sybils: 2, Benigns: 0.\n",
            "Tree component with 2 nodes and 1 edges is a Path. Sybils: 2, Benigns: 0.\n",
            "Tree component with 2 nodes and 1 edges is a Path. Sybils: 2, Benigns: 0.\n",
            "Tree component with 5 nodes and 4 edges is a Other Tree. Sybils: 5, Benigns: 0.\n",
            "Tree component with 3 nodes and 2 edges is a Star. Sybils: 3, Benigns: 0. Center is sybil.\n",
            "Tree component with 2 nodes and 1 edges is a Path. Sybils: 2, Benigns: 0.\n",
            "Tree component with 2 nodes and 1 edges is a Path. Sybils: 2, Benigns: 0.\n",
            "Tree component with 2 nodes and 1 edges is a Path. Sybils: 2, Benigns: 0.\n",
            "Tree component with 2 nodes and 1 edges is a Path. Sybils: 2, Benigns: 0.\n",
            "Tree component with 3 nodes and 2 edges is a Star. Sybils: 3, Benigns: 0. Center is sybil.\n",
            "Tree component with 2 nodes and 1 edges is a Path. Sybils: 2, Benigns: 0.\n",
            "Tree component with 2 nodes and 1 edges is a Path. Sybils: 2, Benigns: 0.\n",
            "Tree component with 2 nodes and 1 edges is a Path. Sybils: 2, Benigns: 0.\n",
            "Tree component with 3 nodes and 2 edges is a Star. Sybils: 3, Benigns: 0. Center is sybil.\n",
            "Tree component with 2 nodes and 1 edges is a Path. Sybils: 2, Benigns: 0.\n",
            "Tree component with 2 nodes and 1 edges is a Path. Sybils: 2, Benigns: 0.\n",
            "Tree component with 2 nodes and 1 edges is a Path. Sybils: 2, Benigns: 0.\n",
            "Tree component with 2 nodes and 1 edges is a Path. Sybils: 2, Benigns: 0.\n",
            "Tree component with 2 nodes and 1 edges is a Path. Sybils: 2, Benigns: 0.\n",
            "Tree component with 2 nodes and 1 edges is a Path. Sybils: 2, Benigns: 0.\n",
            "Tree component with 2 nodes and 1 edges is a Path. Sybils: 2, Benigns: 0.\n",
            "Tree component with 2 nodes and 1 edges is a Path. Sybils: 2, Benigns: 0.\n",
            "Tree component with 4 nodes and 3 edges is a Path. Sybils: 4, Benigns: 0.\n",
            "Tree component with 2 nodes and 1 edges is a Path. Sybils: 2, Benigns: 0.\n",
            "Tree component with 2 nodes and 1 edges is a Path. Sybils: 2, Benigns: 0.\n",
            "Tree component with 2 nodes and 1 edges is a Path. Sybils: 2, Benigns: 0.\n",
            "Tree component with 2 nodes and 1 edges is a Path. Sybils: 2, Benigns: 0.\n",
            "Tree component with 2 nodes and 1 edges is a Path. Sybils: 2, Benigns: 0.\n",
            "Tree component with 2 nodes and 1 edges is a Path. Sybils: 2, Benigns: 0.\n",
            "Tree component with 2 nodes and 1 edges is a Path. Sybils: 2, Benigns: 0.\n",
            "Tree component with 2 nodes and 1 edges is a Path. Sybils: 2, Benigns: 0.\n",
            "Tree component with 2 nodes and 1 edges is a Path. Sybils: 2, Benigns: 0.\n",
            "Tree component with 2 nodes and 1 edges is a Path. Sybils: 2, Benigns: 0.\n",
            "Tree component with 4 nodes and 3 edges is a Star. Sybils: 4, Benigns: 0. Center is sybil.\n",
            "Tree component with 2 nodes and 1 edges is a Path. Sybils: 2, Benigns: 0.\n",
            "Tree component with 2 nodes and 1 edges is a Path. Sybils: 2, Benigns: 0.\n",
            "Tree component with 2 nodes and 1 edges is a Path. Sybils: 2, Benigns: 0.\n",
            "Tree component with 2 nodes and 1 edges is a Path. Sybils: 2, Benigns: 0.\n",
            "Tree component with 2 nodes and 1 edges is a Path. Sybils: 2, Benigns: 0.\n",
            "Tree component with 2 nodes and 1 edges is a Path. Sybils: 2, Benigns: 0.\n",
            "Tree component with 2 nodes and 1 edges is a Path. Sybils: 2, Benigns: 0.\n",
            "Tree component with 2 nodes and 1 edges is a Path. Sybils: 2, Benigns: 0.\n",
            "Tree component with 2 nodes and 1 edges is a Path. Sybils: 2, Benigns: 0.\n",
            "Tree component with 2 nodes and 1 edges is a Path. Sybils: 2, Benigns: 0.\n",
            "Tree component with 2 nodes and 1 edges is a Path. Sybils: 2, Benigns: 0.\n",
            "Tree component with 2 nodes and 1 edges is a Path. Sybils: 2, Benigns: 0.\n",
            "Tree component with 3 nodes and 2 edges is a Star. Sybils: 3, Benigns: 0. Center is sybil.\n",
            "Tree component with 2 nodes and 1 edges is a Path. Sybils: 2, Benigns: 0.\n",
            "Tree component with 2 nodes and 1 edges is a Path. Sybils: 2, Benigns: 0.\n",
            "Tree component with 2 nodes and 1 edges is a Path. Sybils: 2, Benigns: 0.\n",
            "Tree component with 2 nodes and 1 edges is a Path. Sybils: 2, Benigns: 0.\n",
            "Tree component with 2 nodes and 1 edges is a Path. Sybils: 2, Benigns: 0.\n",
            "Tree component with 2 nodes and 1 edges is a Path. Sybils: 2, Benigns: 0.\n",
            "Tree component with 2 nodes and 1 edges is a Path. Sybils: 2, Benigns: 0.\n",
            "Tree component with 2 nodes and 1 edges is a Path. Sybils: 2, Benigns: 0.\n",
            "Tree component with 2 nodes and 1 edges is a Path. Sybils: 2, Benigns: 0.\n",
            "Tree component with 2 nodes and 1 edges is a Path. Sybils: 2, Benigns: 0.\n",
            "Tree component with 2 nodes and 1 edges is a Path. Sybils: 2, Benigns: 0.\n",
            "Tree component with 2 nodes and 1 edges is a Path. Sybils: 2, Benigns: 0.\n",
            "Tree component with 2 nodes and 1 edges is a Path. Sybils: 2, Benigns: 0.\n",
            "Tree component with 2 nodes and 1 edges is a Path. Sybils: 2, Benigns: 0.\n",
            "Tree component with 2 nodes and 1 edges is a Path. Sybils: 2, Benigns: 0.\n",
            "Tree component with 2 nodes and 1 edges is a Path. Sybils: 2, Benigns: 0.\n",
            "Tree component with 3 nodes and 2 edges is a Star. Sybils: 3, Benigns: 0. Center is sybil.\n",
            "Tree component with 3 nodes and 2 edges is a Star. Sybils: 3, Benigns: 0. Center is sybil.\n",
            "Tree component with 4 nodes and 3 edges is a Path. Sybils: 4, Benigns: 0.\n",
            "Tree component with 2 nodes and 1 edges is a Path. Sybils: 2, Benigns: 0.\n",
            "Tree component with 4 nodes and 3 edges is a Path. Sybils: 4, Benigns: 0.\n",
            "Tree component with 2 nodes and 1 edges is a Path. Sybils: 2, Benigns: 0.\n",
            "Tree component with 6 nodes and 5 edges is a Other Tree. Sybils: 6, Benigns: 0.\n",
            "Tree component with 4 nodes and 3 edges is a Path. Sybils: 4, Benigns: 0.\n",
            "Tree component with 7 nodes and 6 edges is a Other Tree. Sybils: 7, Benigns: 0.\n",
            "Tree component with 2 nodes and 1 edges is a Path. Sybils: 2, Benigns: 0.\n",
            "Tree component with 3 nodes and 2 edges is a Star. Sybils: 3, Benigns: 0. Center is sybil.\n",
            "Tree component with 4 nodes and 3 edges is a Path. Sybils: 4, Benigns: 0.\n",
            "Tree component with 2 nodes and 1 edges is a Path. Sybils: 2, Benigns: 0.\n",
            "Tree component with 4 nodes and 3 edges is a Path. Sybils: 4, Benigns: 0.\n",
            "Tree component with 5 nodes and 4 edges is a Other Tree. Sybils: 5, Benigns: 0.\n",
            "Tree component with 2 nodes and 1 edges is a Path. Sybils: 2, Benigns: 0.\n",
            "Tree component with 2 nodes and 1 edges is a Path. Sybils: 2, Benigns: 0.\n",
            "Tree component with 2 nodes and 1 edges is a Path. Sybils: 2, Benigns: 0.\n",
            "Tree component with 2 nodes and 1 edges is a Path. Sybils: 2, Benigns: 0.\n",
            "Tree component with 2 nodes and 1 edges is a Path. Sybils: 2, Benigns: 0.\n",
            "Tree component with 3 nodes and 2 edges is a Star. Sybils: 3, Benigns: 0. Center is sybil.\n",
            "Tree component with 2 nodes and 1 edges is a Path. Sybils: 2, Benigns: 0.\n",
            "Tree component with 2 nodes and 1 edges is a Path. Sybils: 2, Benigns: 0.\n",
            "Tree component with 2 nodes and 1 edges is a Path. Sybils: 2, Benigns: 0.\n",
            "Tree component with 3 nodes and 2 edges is a Star. Sybils: 3, Benigns: 0. Center is sybil.\n",
            "Tree component with 2 nodes and 1 edges is a Path. Sybils: 2, Benigns: 0.\n",
            "Tree component with 3 nodes and 2 edges is a Star. Sybils: 3, Benigns: 0. Center is sybil.\n",
            "Tree component with 3 nodes and 2 edges is a Star. Sybils: 3, Benigns: 0. Center is sybil.\n",
            "Tree component with 2 nodes and 1 edges is a Path. Sybils: 2, Benigns: 0.\n",
            "Tree component with 2 nodes and 1 edges is a Path. Sybils: 2, Benigns: 0.\n",
            "Tree component with 2 nodes and 1 edges is a Path. Sybils: 2, Benigns: 0.\n",
            "Tree component with 3 nodes and 2 edges is a Star. Sybils: 3, Benigns: 0. Center is sybil.\n",
            "Tree component with 2 nodes and 1 edges is a Path. Sybils: 2, Benigns: 0.\n",
            "Tree component with 2 nodes and 1 edges is a Path. Sybils: 2, Benigns: 0.\n",
            "Tree component with 2 nodes and 1 edges is a Path. Sybils: 2, Benigns: 0.\n",
            "Tree component with 2 nodes and 1 edges is a Path. Sybils: 2, Benigns: 0.\n",
            "Tree component with 3 nodes and 2 edges is a Star. Sybils: 3, Benigns: 0. Center is sybil.\n",
            "Tree component with 2 nodes and 1 edges is a Path. Sybils: 2, Benigns: 0.\n",
            "Tree component with 2 nodes and 1 edges is a Path. Sybils: 2, Benigns: 0.\n",
            "Tree component with 2 nodes and 1 edges is a Path. Sybils: 2, Benigns: 0.\n",
            "Tree component with 3 nodes and 2 edges is a Star. Sybils: 3, Benigns: 0. Center is sybil.\n",
            "Tree component with 2 nodes and 1 edges is a Path. Sybils: 2, Benigns: 0.\n",
            "Tree component with 2 nodes and 1 edges is a Path. Sybils: 2, Benigns: 0.\n",
            "Tree component with 2 nodes and 1 edges is a Path. Sybils: 2, Benigns: 0.\n",
            "Tree component with 2 nodes and 1 edges is a Path. Sybils: 2, Benigns: 0.\n",
            "Tree component with 4 nodes and 3 edges is a Path. Sybils: 4, Benigns: 0.\n",
            "Tree component with 2 nodes and 1 edges is a Path. Sybils: 2, Benigns: 0.\n",
            "Tree component with 2 nodes and 1 edges is a Path. Sybils: 2, Benigns: 0.\n",
            "Tree component with 3 nodes and 2 edges is a Star. Sybils: 3, Benigns: 0. Center is sybil.\n",
            "Tree component with 2 nodes and 1 edges is a Path. Sybils: 2, Benigns: 0.\n",
            "Tree component with 2 nodes and 1 edges is a Path. Sybils: 2, Benigns: 0.\n",
            "Tree component with 2 nodes and 1 edges is a Path. Sybils: 2, Benigns: 0.\n",
            "Tree component with 2 nodes and 1 edges is a Path. Sybils: 2, Benigns: 0.\n",
            "Tree component with 3 nodes and 2 edges is a Star. Sybils: 3, Benigns: 0. Center is sybil.\n",
            "Tree component with 2 nodes and 1 edges is a Path. Sybils: 2, Benigns: 0.\n",
            "Tree component with 3 nodes and 2 edges is a Star. Sybils: 3, Benigns: 0. Center is sybil.\n",
            "Tree component with 2 nodes and 1 edges is a Path. Sybils: 2, Benigns: 0.\n",
            "Tree component with 4 nodes and 3 edges is a Path. Sybils: 4, Benigns: 0.\n",
            "Tree component with 3 nodes and 2 edges is a Star. Sybils: 3, Benigns: 0. Center is sybil.\n",
            "Tree component with 2 nodes and 1 edges is a Path. Sybils: 2, Benigns: 0.\n",
            "Tree component with 2 nodes and 1 edges is a Path. Sybils: 2, Benigns: 0.\n",
            "Tree component with 2 nodes and 1 edges is a Path. Sybils: 2, Benigns: 0.\n",
            "Tree component with 3 nodes and 2 edges is a Star. Sybils: 3, Benigns: 0. Center is sybil.\n",
            "Tree component with 3 nodes and 2 edges is a Star. Sybils: 3, Benigns: 0. Center is sybil.\n",
            "Tree component with 4 nodes and 3 edges is a Path. Sybils: 4, Benigns: 0.\n",
            "Tree component with 2 nodes and 1 edges is a Path. Sybils: 2, Benigns: 0.\n",
            "Tree component with 2 nodes and 1 edges is a Path. Sybils: 2, Benigns: 0.\n",
            "Tree component with 3 nodes and 2 edges is a Star. Sybils: 3, Benigns: 0. Center is sybil.\n",
            "Tree component with 2 nodes and 1 edges is a Path. Sybils: 2, Benigns: 0.\n",
            "Tree component with 2 nodes and 1 edges is a Path. Sybils: 2, Benigns: 0.\n",
            "Tree component with 3 nodes and 2 edges is a Star. Sybils: 3, Benigns: 0. Center is sybil.\n",
            "Tree component with 2 nodes and 1 edges is a Path. Sybils: 2, Benigns: 0.\n",
            "Tree component with 2 nodes and 1 edges is a Path. Sybils: 2, Benigns: 0.\n",
            "Tree component with 2 nodes and 1 edges is a Path. Sybils: 2, Benigns: 0.\n",
            "Tree component with 2 nodes and 1 edges is a Path. Sybils: 2, Benigns: 0.\n",
            "Tree component with 2 nodes and 1 edges is a Path. Sybils: 2, Benigns: 0.\n",
            "Tree component with 2 nodes and 1 edges is a Path. Sybils: 2, Benigns: 0.\n",
            "Tree component with 2 nodes and 1 edges is a Path. Sybils: 2, Benigns: 0.\n",
            "Tree component with 2 nodes and 1 edges is a Path. Sybils: 2, Benigns: 0.\n",
            "Tree component with 3 nodes and 2 edges is a Star. Sybils: 3, Benigns: 0. Center is sybil.\n",
            "Tree component with 2 nodes and 1 edges is a Path. Sybils: 2, Benigns: 0.\n",
            "Tree component with 2 nodes and 1 edges is a Path. Sybils: 2, Benigns: 0.\n",
            "Tree component with 5 nodes and 4 edges is a Path. Sybils: 5, Benigns: 0.\n",
            "Tree component with 2 nodes and 1 edges is a Path. Sybils: 2, Benigns: 0.\n",
            "Tree component with 2 nodes and 1 edges is a Path. Sybils: 2, Benigns: 0.\n",
            "Tree component with 2 nodes and 1 edges is a Path. Sybils: 2, Benigns: 0.\n",
            "Tree component with 2 nodes and 1 edges is a Path. Sybils: 2, Benigns: 0.\n",
            "Tree component with 2 nodes and 1 edges is a Path. Sybils: 2, Benigns: 0.\n",
            "Tree component with 2 nodes and 1 edges is a Path. Sybils: 2, Benigns: 0.\n",
            "Tree component with 2 nodes and 1 edges is a Path. Sybils: 2, Benigns: 0.\n",
            "Tree component with 3 nodes and 2 edges is a Star. Sybils: 3, Benigns: 0. Center is sybil.\n",
            "Tree component with 3 nodes and 2 edges is a Star. Sybils: 3, Benigns: 0. Center is sybil.\n",
            "Tree component with 2 nodes and 1 edges is a Path. Sybils: 2, Benigns: 0.\n",
            "Tree component with 2 nodes and 1 edges is a Path. Sybils: 2, Benigns: 0.\n",
            "Tree component with 2 nodes and 1 edges is a Path. Sybils: 2, Benigns: 0.\n",
            "Tree component with 2 nodes and 1 edges is a Path. Sybils: 2, Benigns: 0.\n",
            "Tree component with 2 nodes and 1 edges is a Path. Sybils: 2, Benigns: 0.\n",
            "Tree component with 2 nodes and 1 edges is a Path. Sybils: 2, Benigns: 0.\n",
            "Tree component with 2 nodes and 1 edges is a Path. Sybils: 2, Benigns: 0.\n",
            "Tree component with 2 nodes and 1 edges is a Path. Sybils: 2, Benigns: 0.\n",
            "Tree component with 2 nodes and 1 edges is a Path. Sybils: 2, Benigns: 0.\n",
            "Tree component with 2 nodes and 1 edges is a Path. Sybils: 2, Benigns: 0.\n",
            "Tree component with 2 nodes and 1 edges is a Path. Sybils: 2, Benigns: 0.\n",
            "Tree component with 2 nodes and 1 edges is a Path. Sybils: 2, Benigns: 0.\n",
            "Tree component with 2 nodes and 1 edges is a Path. Sybils: 2, Benigns: 0.\n",
            "Tree component with 2 nodes and 1 edges is a Path. Sybils: 2, Benigns: 0.\n",
            "Tree component with 2 nodes and 1 edges is a Path. Sybils: 2, Benigns: 0.\n",
            "Tree component with 2 nodes and 1 edges is a Path. Sybils: 2, Benigns: 0.\n",
            "Tree component with 2 nodes and 1 edges is a Path. Sybils: 2, Benigns: 0.\n",
            "Tree component with 3 nodes and 2 edges is a Star. Sybils: 3, Benigns: 0. Center is sybil.\n",
            "Tree component with 2 nodes and 1 edges is a Path. Sybils: 2, Benigns: 0.\n",
            "Tree component with 4 nodes and 3 edges is a Star. Sybils: 4, Benigns: 0. Center is sybil.\n",
            "Tree component with 2 nodes and 1 edges is a Path. Sybils: 2, Benigns: 0.\n",
            "Tree component with 2 nodes and 1 edges is a Path. Sybils: 2, Benigns: 0.\n",
            "Tree component with 2 nodes and 1 edges is a Path. Sybils: 2, Benigns: 0.\n",
            "Tree component with 2 nodes and 1 edges is a Path. Sybils: 2, Benigns: 0.\n",
            "Tree component with 2 nodes and 1 edges is a Path. Sybils: 2, Benigns: 0.\n",
            "Tree component with 2 nodes and 1 edges is a Path. Sybils: 2, Benigns: 0.\n",
            "Tree component with 2 nodes and 1 edges is a Path. Sybils: 2, Benigns: 0.\n",
            "Tree component with 2 nodes and 1 edges is a Path. Sybils: 2, Benigns: 0.\n",
            "Tree component with 2 nodes and 1 edges is a Path. Sybils: 2, Benigns: 0.\n",
            "Tree component with 2 nodes and 1 edges is a Path. Sybils: 2, Benigns: 0.\n",
            "Tree component with 2 nodes and 1 edges is a Path. Sybils: 2, Benigns: 0.\n",
            "Tree component with 2 nodes and 1 edges is a Path. Sybils: 2, Benigns: 0.\n",
            "Tree component with 2 nodes and 1 edges is a Path. Sybils: 2, Benigns: 0.\n",
            "Tree component with 2 nodes and 1 edges is a Path. Sybils: 2, Benigns: 0.\n",
            "Tree component with 2 nodes and 1 edges is a Path. Sybils: 2, Benigns: 0.\n",
            "Tree component with 2 nodes and 1 edges is a Path. Sybils: 2, Benigns: 0.\n",
            "Tree component with 2 nodes and 1 edges is a Path. Sybils: 2, Benigns: 0.\n",
            "Tree component with 2 nodes and 1 edges is a Path. Sybils: 2, Benigns: 0.\n",
            "Tree component with 2 nodes and 1 edges is a Path. Sybils: 2, Benigns: 0.\n"
          ]
        }
      ]
    },
    {
      "cell_type": "markdown",
      "source": [
        "# clustering"
      ],
      "metadata": {
        "id": "N8WbyOumfxVW"
      }
    },
    {
      "cell_type": "code",
      "source": [
        "def analyze_louvain_on_large_components(G, labels_list,print_clusters = False):\n",
        "    if G.is_directed():\n",
        "        G = G.to_undirected()\n",
        "\n",
        "    k = len(labels_list)\n",
        "    total_nodes = G.number_of_nodes()\n",
        "    components = list(nx.connected_components(G))\n",
        "    threshold = total_nodes / 5\n",
        "\n",
        "    for idx, comp in enumerate(components):\n",
        "        if len(comp) < threshold:\n",
        "            continue\n",
        "\n",
        "        subgraph = G.subgraph(comp).copy()\n",
        "        nodes = list(subgraph.nodes)\n",
        "        size = len(nodes)\n",
        "\n",
        "        benigns = sybils = 0\n",
        "        for node in nodes:\n",
        "            if node < k:\n",
        "                if labels_list[node] == 0:\n",
        "                    benigns += 1\n",
        "                elif labels_list[node] == 1:\n",
        "                    sybils += 1\n",
        "\n",
        "        print(f\"\\nConnected component {idx+1} has {size} nodes: Benigns = {benigns}, Sybils = {sybils}\")\n",
        "\n",
        "        partition = community.best_partition(subgraph)\n",
        "        clusters = defaultdict(list)\n",
        "        for node, comm_id in partition.items():\n",
        "            clusters[comm_id].append(node)\n",
        "\n",
        "        small_clusters_total = 0\n",
        "        small_clusters_benign = 0\n",
        "        small_clusters_sybil = 0\n",
        "\n",
        "        all_clusters = []  # [(comm_id, cluster_size, c_benign, c_sybil)]\n",
        "\n",
        "        for comm_id, cluster_nodes in clusters.items():\n",
        "            cluster_size = len(cluster_nodes)\n",
        "            c_benign = c_sybil = 0\n",
        "            for node in cluster_nodes:\n",
        "                if node < k:\n",
        "                    if labels_list[node] == 0:\n",
        "                        c_benign += 1\n",
        "                    elif labels_list[node] == 1:\n",
        "                        c_sybil += 1\n",
        "\n",
        "            all_clusters.append((comm_id, cluster_size, c_benign, c_sybil))\n",
        "            if print_clusters:\n",
        "                if cluster_size <= 5:\n",
        "                    small_clusters_total += cluster_size\n",
        "                    small_clusters_benign += c_benign\n",
        "                    small_clusters_sybil += c_sybil\n",
        "                else:\n",
        "                    print(f\"  Cluster {comm_id}: Size = {cluster_size}, Benigns = {c_benign}, Sybils = {c_sybil}\")\n",
        "\n",
        "        print(f\"  (Skipped {small_clusters_total} nodes in small clusters ≤ 5; Benigns = {small_clusters_benign}, Sybils = {small_clusters_sybil})\")\n",
        "\n",
        "        # === Analysis: Dominant Clusters ===\n",
        "        sybil_dominated = [\n",
        "            (cid, sz, b, s) for cid, sz, b, s in all_clusters\n",
        "            if s >= 3 * (b + 1e-6) and s >= 30\n",
        "        ]\n",
        "        benign_dominated = [\n",
        "            (cid, sz, b, s) for cid, sz, b, s in all_clusters\n",
        "            if b >= 3 * (s + 1e-6) and b >= 30\n",
        "        ]\n",
        "\n",
        "        print(f\"  Number of sybil-dominated clusters  (sybils ≥3× benigns and sybils ≥30 ): {len(sybil_dominated)}\")\n",
        "        print(f\"  Number of benign-dominated clusters (benigns ≥3× sybils and benigns ≥30): {len(benign_dominated)}\")\n",
        "\n",
        "        # === Analysis: Skewed Distribution ===\n",
        "        total_sybils = sum(s for _, _, _, s in all_clusters)\n",
        "        total_benigns = sum(b for _, _, b, _ in all_clusters)\n",
        "\n",
        "        sybil_sorted = sorted(all_clusters, key=lambda x: x[3], reverse=True)\n",
        "        benign_sorted = sorted(all_clusters, key=lambda x: x[2], reverse=True)\n",
        "\n",
        "        sybil_cumulative = 0\n",
        "        benign_cumulative = 0\n",
        "        top_sybil_clusters = 0\n",
        "        top_benign_clusters = 0\n",
        "\n",
        "        for i, (_, _, _, s) in enumerate(sybil_sorted):\n",
        "            sybil_cumulative += s\n",
        "            if sybil_cumulative >= 0.8 * total_sybils:\n",
        "                top_sybil_clusters = i + 1\n",
        "                break\n",
        "\n",
        "        for i, (_, _, b, _) in enumerate(benign_sorted):\n",
        "            benign_cumulative += b\n",
        "            if benign_cumulative >= 0.8 * total_benigns:\n",
        "                top_benign_clusters = i + 1\n",
        "                break\n",
        "        print(f\"\\n While there are {len(benign_sorted)} clusters, \")\n",
        "        print(f\"  Top {top_sybil_clusters} clusters contain 80% of all sybils.\")\n",
        "        print(f\"  Top {top_benign_clusters} clusters contain 80% of all benigns.\")\n"
      ],
      "metadata": {
        "id": "3EmGXYPZcSbf"
      },
      "execution_count": null,
      "outputs": []
    },
    {
      "cell_type": "code",
      "source": [
        "analyze_louvain_on_large_components(UG, labels_list, print_clusters=False)"
      ],
      "metadata": {
        "id": "SniktebXeiv_",
        "colab": {
          "base_uri": "https://localhost:8080/"
        },
        "outputId": "9c3a970f-2c26-4d4d-efe3-a0df5c66a9e0"
      },
      "execution_count": null,
      "outputs": [
        {
          "output_type": "stream",
          "name": "stdout",
          "text": [
            "\n",
            "Connected component 1 has 1275 nodes: Benigns = 1183, Sybils = 92\n",
            "  (Skipped 0 nodes in small clusters ≤ 5; Benigns = 0, Sybils = 0)\n",
            "  Number of sybil-dominated clusters  (sybils ≥3× benigns and sybils ≥30 ): 1\n",
            "  Number of benign-dominated clusters (benigns ≥3× sybils and benigns ≥30): 10\n",
            "\n",
            " While there are 14 clusters, \n",
            "  Top 2 clusters contain 80% of all sybils.\n",
            "  Top 6 clusters contain 80% of all benigns.\n"
          ]
        }
      ]
    },
    {
      "cell_type": "markdown",
      "source": [
        "# More parameters"
      ],
      "metadata": {
        "id": "PEPPQthVv_9W"
      }
    },
    {
      "cell_type": "code",
      "source": [
        "def compute_graph_metrics(G, UG, UC_largest_component):\n",
        "\n",
        "    results = {}\n",
        "\n",
        "    # 1. Global Clustering Coefficient\n",
        "    # Meaning: Fraction of closed triplets (triangles) over all connected triplets\n",
        "    # Use: High in social networks (0.3–0.6); low (<0.1) suggests weak community\n",
        "    # Complexity: O(n * d^2)\n",
        "    gcc = nx.transitivity(UG)\n",
        "    results['Global Clustering Coefficient'] = gcc\n",
        "\n",
        "    # 2. Average Clustering Coefficient\n",
        "    # Meaning: Average local clustering over all nodes\n",
        "    # Use: Similar to GCC; high (>0.3) = strong local communities\n",
        "    # Complexity: O(n * d^2)\n",
        "    acc = nx.average_clustering(UG)\n",
        "    results['Average Clustering Coefficient'] = acc\n",
        "\n",
        "    # 3. Degree Assortativity Coefficient\n",
        "    # Meaning: Correlation of degree between connected nodes\n",
        "    # Use: Positive in social graphs; negative in hubs-to-lows (e.g., sybils)\n",
        "    # Complexity: O(m)\n",
        "    assort = nx.degree_assortativity_coefficient(UG)\n",
        "    results['Degree Assortativity'] = assort\n",
        "\n",
        "    # 4. Diameter (Approximated)\n",
        "    # Meaning: Longest shortest path; smaller = tighter network\n",
        "    # Use: OSNs typically have small diameter (6–10)\n",
        "    # Complexity: O(n) using approximation like eccentricity sampling\n",
        "    try:\n",
        "        from networkx.algorithms.approximation import diameter as approx_diameter\n",
        "        diam = approx_diameter(UC_largest_component)\n",
        "    except:\n",
        "        diam = -1  # fallback if approximation not available\n",
        "    results['Approx. Diameter'] = diam\n",
        "\n",
        "    # 5. Reciprocity\n",
        "    # Meaning: Ratio of mutual edges to total directed edges\n",
        "    # Use: High (0.3–0.6) in mutual-friend OSNs; low in follower networks\n",
        "    # Complexity: O(m)\n",
        "    rec = nx.reciprocity(G)\n",
        "    results['Reciprocity'] = rec\n",
        "\n",
        "    # 6. K-core Number\n",
        "    # Meaning: Max k such that G has a non-empty k-core (each node has >=k neighbors)\n",
        "    # Use: High k-core depth (e.g., >10) suggests dense real OSNs\n",
        "    # Complexity: O(n + m)\n",
        "    try:\n",
        "        kcore = max(nx.core_number(UG).values())\n",
        "    except:\n",
        "        kcore = -1\n",
        "    results['K-core Max'] = kcore\n",
        "\n",
        "    # 7. PageRank Entropy (instead of list)\n",
        "    # Meaning: Influence score of nodes via link structure\n",
        "    # Use: Real OSNs have skewed PageRank; uniform = fake/flat\n",
        "    # Complexity: O(k(n + m))\n",
        "    pr = nx.pagerank(G, alpha=0.85)\n",
        "    pr_values = np.array(list(pr.values()))\n",
        "    pr_entropy = -np.sum(pr_values * np.log(pr_values + 1e-10))  # entropy as a number\n",
        "    results['PageRank Entropy'] = pr_entropy\n",
        "\n",
        "    # Print with explanations\n",
        "    for key, val in results.items():\n",
        "        print(f\"{key}: {val:.4f}\")\n",
        "\n",
        "    # return results\n"
      ],
      "metadata": {
        "id": "IjZGyhqUwj7I"
      },
      "execution_count": null,
      "outputs": []
    },
    {
      "cell_type": "code",
      "source": [
        "compute_graph_metrics(G, UG, UC_largest_component)"
      ],
      "metadata": {
        "id": "dHOvbqQEyhm6",
        "colab": {
          "base_uri": "https://localhost:8080/"
        },
        "outputId": "a7840f3c-2c46-4677-d13a-a1bec7166484"
      },
      "execution_count": null,
      "outputs": [
        {
          "output_type": "stream",
          "name": "stdout",
          "text": [
            "Global Clustering Coefficient: 0.0658\n",
            "Average Clustering Coefficient: 0.0310\n",
            "Degree Assortativity: -0.1641\n",
            "Approx. Diameter: 12.0000\n",
            "Reciprocity: 0.9998\n",
            "K-core Max: -1.0000\n",
            "PageRank Entropy: 7.8549\n"
          ]
        }
      ]
    },
    {
      "cell_type": "code",
      "source": [
        "compute_graph_metrics(G, UC_largest_component, UC_largest_component)"
      ],
      "metadata": {
        "id": "ZSMdZQZn3GXE",
        "colab": {
          "base_uri": "https://localhost:8080/"
        },
        "outputId": "b61414c9-586e-4b7e-fa67-c004c60c1998"
      },
      "execution_count": null,
      "outputs": [
        {
          "output_type": "stream",
          "name": "stdout",
          "text": [
            "Global Clustering Coefficient: 0.0658\n",
            "Average Clustering Coefficient: 0.1265\n",
            "Degree Assortativity: -0.2029\n",
            "Approx. Diameter: 12.0000\n",
            "Reciprocity: 0.9998\n",
            "K-core Max: -1.0000\n",
            "PageRank Entropy: 7.8549\n"
          ]
        }
      ]
    },
    {
      "cell_type": "code",
      "source": [
        "# Gini coefficient formula:\n",
        "# Measures inequality in the degree distribution of the graph.\n",
        "# 0 = perfect equality (all nodes same degree)\n",
        "# 1 = maximal inequality (one node connects to all, others to none)\n",
        "\n",
        "# Interpretation (comment only):\n",
        "#  Gini ≈ 0.0–0.2 → Very equal degree distribution\n",
        "#  Gini ≈ 0.2–0.4 → Moderately equal\n",
        "#  Gini ≈ 0.4–0.6 → Noticeable inequality\n",
        "#  Gini ≈ 0.6–0.8 → Strong hubs dominate\n",
        "#  Gini ≈ 0.8–1.0 → Star-like or scale-free dominance\n",
        "\n",
        "\n",
        "def compute_gini_coefficient(G):\n",
        "    degrees = np.array([deg for _, deg in G.degree()])\n",
        "    sorted_degrees = np.sort(degrees)\n",
        "    n = len(degrees)\n",
        "    gini = (2 * np.sum((np.arange(1, n + 1) * sorted_degrees))) / (n * np.sum(sorted_degrees)) - (n + 1) / n\n",
        "    return gini\n",
        "\n",
        "compute_gini_coefficient(UG)"
      ],
      "metadata": {
        "id": "QZ-hRf7Acphp",
        "colab": {
          "base_uri": "https://localhost:8080/"
        },
        "outputId": "8693f4fd-3b59-41e1-ee86-9412f5959fb4"
      },
      "execution_count": null,
      "outputs": [
        {
          "output_type": "execute_result",
          "data": {
            "text/plain": [
              "np.float64(0.8698374989537696)"
            ]
          },
          "metadata": {},
          "execution_count": 213
        }
      ]
    },
    {
      "cell_type": "code",
      "source": [
        "Gs.edges()"
      ],
      "metadata": {
        "colab": {
          "base_uri": "https://localhost:8080/"
        },
        "id": "oHWpQo0qXFjy",
        "outputId": "e6f1424d-93fa-4fb2-f66d-228466155d04"
      },
      "execution_count": null,
      "outputs": [
        {
          "output_type": "execute_result",
          "data": {
            "text/plain": [
              "OutEdgeView([(1966, 2125), (1967, 2510), (1969, 3062), (1972, 2102), (1974, 2615), (1976, 2117), (1978, 2115), (1981, 2412), (1983, 2809), (1985, 2908), (1990, 2912), (1997, 2833), (2003, 2980), (2010, 2214), (2011, 2128), (2013, 2099), (2016, 2368), (2016, 2521), (2017, 2252), (2018, 2281), (2020, 2298), (2021, 2548), (2027, 2844), (2028, 2542), (2031, 2425), (2035, 2779), (2035, 3129), (2035, 2754), (2036, 3032), (2041, 2764), (2047, 2089), (2050, 2880), (2051, 2539), (2060, 2241), (2061, 2791), (2065, 2488), (2066, 2522), (2074, 2492), (2081, 2479), (2083, 2659), (2084, 2887), (2089, 2047), (2089, 2542), (2099, 2013), (2101, 2784), (2102, 1972), (2107, 2314), (2115, 1978), (2116, 2405), (2117, 1976), (2119, 2224), (2120, 2944), (2124, 2263), (2125, 1966), (2128, 2011), (2128, 2147), (2131, 2842), (2141, 2811), (2141, 2599), (2143, 2199), (2144, 2651), (2147, 2128), (2154, 2753), (2156, 3136), (2157, 3055), (2160, 2472), (2163, 3103), (2165, 2721), (2170, 2791), (2171, 2624), (2174, 2333), (2187, 2612), (2194, 2585), (2196, 2955), (2199, 2143), (2200, 2912), (2207, 2573), (2213, 2960), (2214, 2010), (2224, 2119), (2229, 2444), (2230, 2581), (2231, 2652), (2232, 2460), (2234, 2931), (2235, 2390), (2239, 2371), (2241, 2060), (2242, 2615), (2252, 2017), (2261, 2735), (2263, 2124), (2263, 2266), (2266, 2263), (2266, 3125), (2269, 2615), (2271, 2772), (2277, 2948), (2278, 2295), (2280, 2656), (2281, 2018), (2283, 2673), (2290, 3046), (2293, 2393), (2295, 2278), (2298, 2020), (2303, 2810), (2306, 2609), (2313, 2374), (2313, 2757), (2314, 2955), (2314, 2107), (2315, 3013), (2321, 2489), (2325, 2352), (2327, 2749), (2327, 2809), (2327, 2901), (2329, 2977), (2333, 2174), (2342, 2914), (2352, 2325), (2353, 2446), (2353, 2573), (2354, 2509), (2359, 2833), (2363, 2738), (2368, 2016), (2371, 2239), (2374, 2313), (2374, 2400), (2390, 2235), (2393, 2293), (2395, 2929), (2399, 2722), (2400, 2374), (2402, 2765), (2403, 2488), (2405, 2116), (2412, 1981), (2425, 2031), (2427, 3016), (2428, 3032), (2429, 2779), (2432, 3042), (2440, 2522), (2444, 2229), (2446, 2353), (2448, 2809), (2451, 2730), (2452, 2547), (2460, 2232), (2466, 2606), (2472, 2160), (2472, 2841), (2479, 2081), (2488, 2065), (2488, 2403), (2489, 2321), (2492, 2074), (2492, 2567), (2498, 2772), (2499, 2583), (2507, 2963), (2509, 2354), (2510, 1967), (2521, 2016), (2522, 2066), (2522, 2440), (2523, 3016), (2536, 2667), (2537, 2688), (2539, 2051), (2542, 2028), (2542, 2089), (2547, 2452), (2548, 2021), (2548, 3032), (2550, 2960), (2551, 3093), (2563, 3006), (2567, 2492), (2573, 2353), (2573, 2207), (2573, 2893), (2575, 3025), (2581, 2230), (2583, 2499), (2585, 2194), (2599, 2141), (2606, 2466), (2609, 2306), (2612, 2187), (2614, 2880), (2615, 1974), (2615, 2269), (2615, 2242), (2615, 2629), (2615, 3041), (2624, 2171), (2629, 2615), (2630, 2882), (2639, 2837), (2639, 2907), (2651, 2144), (2652, 2231), (2656, 2280), (2659, 2083), (2667, 2536), (2673, 2283), (2675, 2969), (2676, 2705), (2688, 2537), (2691, 2802), (2705, 2676), (2718, 2927), (2721, 2165), (2722, 2399), (2730, 2451), (2733, 2993), (2735, 2261), (2738, 2363), (2749, 2327), (2753, 2154), (2754, 2035), (2757, 2313), (2764, 2041), (2765, 2402), (2772, 2271), (2772, 2498), (2777, 2861), (2779, 2035), (2779, 2429), (2784, 2101), (2791, 2061), (2791, 2170), (2791, 2872), (2796, 2803), (2801, 2820), (2802, 2691), (2803, 2796), (2809, 1983), (2809, 2327), (2809, 2448), (2810, 2303), (2811, 2141), (2820, 2801), (2833, 1997), (2833, 2359), (2837, 2639), (2841, 2472), (2842, 2131), (2844, 2027), (2853, 2881), (2857, 3066), (2861, 2777), (2872, 2791), (2880, 2050), (2880, 2614), (2881, 2853), (2882, 2630), (2887, 2084), (2891, 2931), (2893, 2573), (2901, 2327), (2907, 2639), (2908, 1985), (2912, 2200), (2912, 1990), (2914, 2342), (2919, 3018), (2927, 2718), (2929, 2395), (2931, 2234), (2931, 2891), (2935, 3016), (2944, 2120), (2948, 2277), (2955, 3216), (2955, 2196), (2955, 2314), (2958, 3068), (2960, 2550), (2960, 2213), (2963, 2507), (2969, 2675), (2976, 2991), (2977, 2329), (2980, 2003), (2991, 2976), (2993, 2733), (3006, 2563), (3013, 2315), (3016, 2427), (3016, 2523), (3016, 2935), (3018, 2919), (3025, 2575), (3032, 2036), (3032, 2428), (3032, 2548), (3041, 2615), (3042, 2432), (3043, 3096), (3046, 2290), (3055, 2157), (3062, 1969), (3066, 2857), (3068, 2958), (3093, 2551), (3096, 3043), (3103, 2163), (3125, 2266), (3129, 2035), (3136, 2156), (3216, 2955), (3783, 4131), (4131, 3783), (4136, 4454), (4138, 4524), (4139, 5038), (4144, 4242), (4149, 4210), (4150, 5117), (4152, 4274), (4156, 4306), (4156, 5012), (4158, 4591), (4162, 5067), (4163, 5285), (4169, 4843), (4170, 4324), (4170, 4555), (4170, 5023), (4171, 4311), (4172, 4754), (4175, 5095), (4175, 4291), (4177, 4524), (4178, 4922), (4182, 4263), (4184, 5067), (4190, 4434), (4191, 5299), (4196, 5122), (4197, 5282), (4203, 5077), (4206, 4251), (4207, 4470), (4208, 5176), (4210, 4149), (4211, 4622), (4212, 4862), (4213, 4814), (4220, 4465), (4221, 4850), (4222, 4317), (4223, 4334), (4228, 5255), (4239, 4435), (4242, 4657), (4242, 4144), (4247, 4852), (4250, 4370), (4250, 4874), (4251, 4206), (4254, 4569), (4257, 4987), (4259, 4723), (4263, 4182), (4274, 4152), (4274, 4452), (4276, 4331), (4277, 4806), (4279, 4709), (4282, 4322), (4291, 4175), (4291, 5277), (4292, 4472), (4295, 4298), (4298, 4295), (4303, 4502), (4306, 4156), (4306, 4382), (4307, 5091), (4311, 4171), (4317, 4222), (4320, 4952), (4322, 4282), (4324, 4170), (4325, 4393), (4331, 4276), (4332, 4698), (4334, 4223), (4334, 5031), (4341, 5287), (4344, 4612), (4345, 5268), (4347, 4353), (4350, 5067), (4350, 4381), (4352, 4713), (4353, 4347), (4355, 5172), (4359, 4977), (4360, 4909), (4361, 4412), (4363, 4887), (4365, 5208), (4369, 5058), (4369, 4653), (4370, 4670), (4370, 4250), (4371, 4807), (4372, 5069), (4380, 5157), (4381, 4350), (4382, 4306), (4388, 4639), (4393, 4325), (4394, 5032), (4397, 4833), (4405, 4443), (4408, 5247), (4409, 5239), (4410, 4803), (4412, 4361), (4417, 5293), (4417, 5026), (4418, 5229), (4429, 4830), (4434, 5231), (4434, 4190), (4435, 4239), (4435, 4444), (4439, 4600), (4440, 4876), (4443, 4405), (4444, 4435), (4447, 4509), (4449, 4931), (4449, 5063), (4452, 4274), (4452, 4637), (4453, 5135), (4454, 4136), (4459, 4795), (4459, 4978), (4462, 5093), (4463, 4795), (4465, 4220), (4467, 4688), (4469, 5270), (4470, 5053), (4470, 5299), (4470, 4207), (4471, 4886), (4472, 4292), (4473, 4874), (4477, 5202), (4478, 4961), (4478, 4611), (4485, 4871), (4488, 4542), (4491, 4907), (4496, 4896), (4502, 4303), (4509, 4447), (4509, 4555), (4513, 5071), (4522, 5230), (4524, 4138), (4524, 4177), (4528, 4938), (4529, 5256), (4530, 4685), (4540, 4977), (4541, 4885), (4542, 4488), (4550, 4937), (4553, 4585), (4555, 4170), (4555, 4509), (4555, 4904), (4556, 4690), (4560, 4576), (4565, 4966), (4568, 5171), (4569, 4254), (4570, 5000), (4572, 4888), (4573, 5028), (4576, 4560), (4584, 4616), (4585, 4553), (4589, 4776), (4591, 4158), (4593, 5015), (4598, 4867), (4600, 4439), (4602, 4733), (4603, 4936), (4606, 4676), (4608, 4959), (4611, 4478), (4612, 4780), (4612, 4344), (4616, 4584), (4622, 4211), (4622, 5164), (4623, 5156), (4623, 5162), (4633, 5040), (4635, 4719), (4637, 4452), (4637, 4641), (4637, 4723), (4639, 4388), (4641, 4637), (4643, 5191), (4646, 5104), (4653, 4369), (4657, 5033), (4657, 4242), (4665, 4769), (4670, 4370), (4676, 4606), (4684, 5045), (4685, 5115), (4685, 4530), (4688, 4467), (4690, 4556), (4690, 5156), (4691, 5231), (4698, 4332), (4699, 5261), (4703, 4709), (4704, 4855), (4709, 4703), (4709, 4279), (4710, 5247), (4713, 4352), (4719, 4635), (4722, 4764), (4722, 4803), (4723, 4259), (4723, 4637), (4727, 4776), (4732, 5128), (4732, 4909), (4733, 4602), (4740, 4876), (4741, 4825), (4744, 5070), (4754, 4172), (4754, 5226), (4758, 5252), (4761, 4895), (4762, 5289), (4764, 4722), (4769, 4665), (4776, 4589), (4776, 4727), (4780, 4612), (4781, 4802), (4783, 4921), (4788, 5168), (4792, 4920), (4795, 4459), (4795, 4463), (4796, 5098), (4801, 5242), (4802, 4781), (4803, 4722), (4803, 4410), (4804, 4831), (4806, 4277), (4807, 4371), (4809, 5078), (4814, 4213), (4821, 4995), (4825, 4741), (4830, 4429), (4831, 4804), (4833, 4397), (4833, 5118), (4839, 4856), (4843, 4855), (4843, 4169), (4846, 5081), (4847, 4883), (4850, 4221), (4852, 4247), (4852, 5292), (4854, 5051), (4855, 4704), (4855, 4843), (4856, 4839), (4860, 5004), (4862, 4212), (4862, 4914), (4867, 4598), (4871, 4485), (4874, 4250), (4874, 4473), (4876, 4740), (4876, 4440), (4878, 4921), (4883, 4847), (4885, 4541), (4886, 4471), (4887, 4965), (4887, 4363), (4888, 4572), (4895, 4761), (4896, 4496), (4904, 4555), (4907, 4491), (4909, 4732), (4909, 4360), (4914, 4862), (4920, 4792), (4920, 5062), (4920, 5280), (4921, 4783), (4921, 4878), (4922, 4178), (4923, 5121), (4931, 4449), (4936, 4603), (4937, 4550), (4938, 4528), (4948, 5038), (4950, 5161), (4952, 4320), (4952, 5276), (4959, 4608), (4961, 4478), (4965, 4887), (4966, 4565), (4977, 4540), (4977, 4359), (4978, 4459), (4984, 5005), (4987, 4257), (4995, 4821), (4998, 5112), (5000, 4570), (5001, 5067), (5004, 4860), (5005, 4984), (5011, 5015), (5012, 4156), (5013, 5199), (5015, 4593), (5015, 5011), (5019, 5219), (5023, 4170), (5026, 4417), (5028, 4573), (5031, 4334), (5032, 4394), (5033, 4657), (5038, 4139), (5038, 4948), (5040, 4633), (5045, 4684), (5051, 4854), (5053, 4470), (5054, 5197), (5058, 4369), (5062, 4920), (5063, 4449), (5067, 4162), (5067, 4184), (5067, 4350), (5067, 5001), (5069, 4372), (5070, 4744), (5071, 4513), (5077, 4203), (5078, 4809), (5081, 4846), (5091, 4307), (5093, 4462), (5095, 4175), (5098, 4796), (5104, 4646), (5109, 5234), (5112, 4998), (5115, 4685), (5117, 4150), (5118, 4833), (5121, 4923), (5122, 4196), (5128, 4732), (5135, 4453), (5143, 5224), (5145, 5279), (5156, 4623), (5156, 4690), (5157, 4380), (5161, 4950), (5162, 4623), (5164, 4622), (5168, 4788), (5169, 5270), (5171, 4568), (5172, 4355), (5176, 4208), (5191, 4643), (5197, 5054), (5199, 5013), (5202, 4477), (5208, 4365), (5219, 5019), (5224, 5143), (5226, 4754), (5229, 4418), (5230, 4522), (5231, 4691), (5231, 4434), (5234, 5109), (5239, 4409), (5242, 4801), (5247, 4710), (5247, 4408), (5252, 4758), (5255, 4228), (5256, 4529), (5261, 4699), (5268, 4345), (5270, 4469), (5270, 5169), (5276, 4952), (5277, 4291), (5279, 5145), (5280, 4920), (5282, 4197), (5285, 4163), (5287, 4341), (5289, 4762), (5292, 4852), (5293, 4417), (5299, 4191), (5299, 4470)])"
            ]
          },
          "metadata": {},
          "execution_count": 214
        }
      ]
    },
    {
      "cell_type": "code",
      "source": [
        "# Edge Reciprocity\n",
        "# Measures fraction of directed edges that are reciprocated\n",
        "\n",
        "# Interpretation (comment only):\n",
        "#  - Value in [0, 1]\n",
        "#  - 0.0 → No mutual links at all\n",
        "#  - 1.0 → All links are bidirectional\n",
        "#  - High values suggest social-like structure; low values may suggest spam/sybil or hierarchy\n",
        "\n",
        "def compute_edge_reciprocity(G):\n",
        "    if not G.is_directed():\n",
        "        return None\n",
        "    return nx.reciprocity(G)  # Float in [0, 1]\n",
        "\n",
        "print(compute_edge_reciprocity(G))\n",
        "print(compute_edge_reciprocity(Gl))\n",
        "print(compute_edge_reciprocity(Gb))\n",
        "print(compute_edge_reciprocity(Gs))"
      ],
      "metadata": {
        "id": "pdknNmP1cpX0",
        "colab": {
          "base_uri": "https://localhost:8080/"
        },
        "outputId": "d3e8dc90-fe6b-4cb0-df81-920f13532a60"
      },
      "execution_count": null,
      "outputs": [
        {
          "output_type": "stream",
          "name": "stdout",
          "text": [
            "0.9997661365762395\n",
            "0.9997661365762395\n",
            "0.9997384937238494\n",
            "1.0\n"
          ]
        }
      ]
    },
    {
      "cell_type": "code",
      "source": [
        "# Approximate average, max, and std of shortest path lengths using random sampling\n",
        "\n",
        "# Interpretation (comment only):\n",
        "#  - Average shortest path length → how close nodes are on average\n",
        "#  - Std → variation in distances (dispersion)\n",
        "#  - Max → approximate graph diameter (upper bound)\n",
        "\n",
        "def approximate_shortest_path_stats(G, num_samples=200):\n",
        "    nodes = list(G.nodes())\n",
        "    sample_nodes = np.random.choice(nodes, size=min(num_samples, len(nodes)), replace=False)\n",
        "\n",
        "    all_lengths = []\n",
        "\n",
        "    for node in sample_nodes:\n",
        "        lengths = nx.single_source_shortest_path_length(G, node)\n",
        "        all_lengths.extend(lengths.values())\n",
        "\n",
        "    all_lengths = np.array(all_lengths)\n",
        "    avg = np.mean(all_lengths)\n",
        "    std = np.std(all_lengths)\n",
        "    maxv = np.max(all_lengths)\n",
        "\n",
        "    print(f\"Avg: {avg:.4f}, Std: {std:.4f}, Max: {maxv:.2f}\")\n",
        "\n",
        "\n",
        "approximate_shortest_path_stats(G_largest_weakly_component, num_samples=200) # should be connected component"
      ],
      "metadata": {
        "id": "oyN5guIIcpTo",
        "colab": {
          "base_uri": "https://localhost:8080/"
        },
        "outputId": "138c8355-d374-47a8-ce22-bc3da7ee1857"
      },
      "execution_count": null,
      "outputs": [
        {
          "output_type": "stream",
          "name": "stdout",
          "text": [
            "Avg: 3.7089, Std: 1.1397, Max: 12.00\n"
          ]
        }
      ]
    },
    {
      "cell_type": "code",
      "source": [
        "# Degree Entropy\n",
        "# Measures uncertainty in degree distribution\n",
        "\n",
        "# Interpretation (comment only):\n",
        "#  - Low entropy → most nodes have similar degree (e.g., regular graphs)\n",
        "#  - High entropy → degree values are diverse (e.g., real OSNs)\n",
        "#  - Useful to detect unnatural or flat degree patterns in synthetic or Sybil networks\n",
        "\n",
        "def compute_degree_entropy(G):\n",
        "    degrees = [deg for _, deg in G.degree()]\n",
        "    values, counts = np.unique(degrees, return_counts=True)\n",
        "    probs = counts / counts.sum()\n",
        "\n",
        "    entropy = -np.sum(probs * np.log2(probs))\n",
        "    print(f\"Degree Entropy: {entropy:.4f}\")\n",
        "\n",
        "compute_degree_entropy(UG)"
      ],
      "metadata": {
        "id": "ErSIPX1W5tCn",
        "colab": {
          "base_uri": "https://localhost:8080/"
        },
        "outputId": "7654357e-4b8c-4545-fa25-588245329b62"
      },
      "execution_count": null,
      "outputs": [
        {
          "output_type": "stream",
          "name": "stdout",
          "text": [
            "Degree Entropy: 1.9593\n"
          ]
        }
      ]
    },
    {
      "cell_type": "code",
      "source": [
        "# Degree Entropy for Directed Graphs\n",
        "# Measures diversity in in-degree and out-degree distributions\n",
        "\n",
        "# Interpretation (comment only):\n",
        "#  - In-degree entropy: diversity of how nodes receive links (e.g., popularity)\n",
        "#  - Out-degree entropy: diversity of how nodes send links (e.g., activity)\n",
        "#  - Low entropy → uniform behavior (e.g., bots, sybils)\n",
        "#  - High entropy → varied behavior (typical of real OSNs)\n",
        "\n",
        "def compute_directed_degree_entropy(G):\n",
        "    if not G.is_directed():\n",
        "        return None\n",
        "\n",
        "    in_degrees = [deg for _, deg in G.in_degree()]\n",
        "    out_degrees = [deg for _, deg in G.out_degree()]\n",
        "\n",
        "    def entropy(degree_list):\n",
        "        values, counts = np.unique(degree_list, return_counts=True)\n",
        "        probs = counts / counts.sum()\n",
        "        return -np.sum(probs * np.log2(probs))\n",
        "\n",
        "    in_entropy = entropy(in_degrees)\n",
        "    out_entropy = entropy(out_degrees)\n",
        "\n",
        "    print(f\"In-Degree Entropy:  {in_entropy:.4f}\")\n",
        "    print(f\"Out-Degree Entropy: {out_entropy:.4f}\")\n",
        "\n",
        "compute_directed_degree_entropy(G)"
      ],
      "metadata": {
        "id": "7kbPXZ4EEuUR",
        "colab": {
          "base_uri": "https://localhost:8080/"
        },
        "outputId": "f18c021b-5b82-4ebf-84bf-662ca5876890"
      },
      "execution_count": null,
      "outputs": [
        {
          "output_type": "stream",
          "name": "stdout",
          "text": [
            "In-Degree Entropy:  1.9590\n",
            "Out-Degree Entropy: 1.9590\n"
          ]
        }
      ]
    },
    {
      "cell_type": "code",
      "source": [
        "# K-shell (core) index distribution\n",
        "\n",
        "# Interpretation (comment only):\n",
        "#  - Nodes with higher k-shell index are deeper in the graph's dense core\n",
        "#  - Helps detect structural layering (core vs. periphery)\n",
        "#  - In OSNs: sybils likely to appear in shallow shells\n",
        "\n",
        "def compute_kshell_distribution(G):\n",
        "\n",
        "    selfloops = list(nx.selfloop_edges(G))\n",
        "    print(f\"Removed {len(selfloops)} self-loops.\")\n",
        "    G.remove_edges_from(selfloops)\n",
        "\n",
        "    core_indices = nx.core_number(G)\n",
        "\n",
        "    values = list(core_indices.values())\n",
        "    shell_values, counts = np.unique(values, return_counts=True)\n",
        "\n",
        "    print(\"K-shell index distribution:\")\n",
        "    for k, count in zip(shell_values, counts):\n",
        "        print(f\"  Shell {k}: {count} nodes\")\n",
        "\n",
        "compute_kshell_distribution(UG)"
      ],
      "metadata": {
        "id": "oY34wNCuEzVy",
        "colab": {
          "base_uri": "https://localhost:8080/"
        },
        "outputId": "2f7602fd-a830-4d82-ca1d-9c415a4ed5ee"
      },
      "execution_count": null,
      "outputs": [
        {
          "output_type": "stream",
          "name": "stdout",
          "text": [
            "Removed 2 self-loops.\n",
            "K-shell index distribution:\n",
            "  Shell 0: 3382 nodes\n",
            "  Shell 1: 1133 nodes\n",
            "  Shell 2: 222 nodes\n",
            "  Shell 3: 141 nodes\n",
            "  Shell 4: 95 nodes\n",
            "  Shell 5: 82 nodes\n",
            "  Shell 6: 46 nodes\n",
            "  Shell 7: 40 nodes\n",
            "  Shell 8: 41 nodes\n",
            "  Shell 9: 38 nodes\n",
            "  Shell 10: 82 nodes\n"
          ]
        }
      ]
    },
    {
      "cell_type": "code",
      "source": [
        "# Influence Concentration\n",
        "# Measures inequality in influence using Gini coefficient over PageRank scores\n",
        "\n",
        "# Interpretation (comment only):\n",
        "#  - High Gini → a few nodes dominate the network (influential hubs)\n",
        "#  - Low Gini → influence is spread out (egalitarian structure)\n",
        "#  - In FAD, sybil networks often exhibit low influence concentration by design\n",
        "\n",
        "def compute_influence_concentration(G):\n",
        "    pr = nx.pagerank(G, alpha=0.85)\n",
        "    scores = np.array(list(pr.values()))\n",
        "    scores.sort()\n",
        "    n = len(scores)\n",
        "\n",
        "    # Gini coefficient for influence concentration\n",
        "    gini = (2 * np.sum((np.arange(1, n + 1) * scores))) / (n * np.sum(scores)) - (n + 1) / n\n",
        "    print(f\"Influence Concentration (Gini over PageRank): {gini:.4f}\")\n",
        "\n",
        "compute_influence_concentration(G)"
      ],
      "metadata": {
        "id": "9F1J-HyRh0ln",
        "colab": {
          "base_uri": "https://localhost:8080/"
        },
        "outputId": "b88219dd-6ed8-4ba7-e298-8a0836fb020d"
      },
      "execution_count": null,
      "outputs": [
        {
          "output_type": "stream",
          "name": "stdout",
          "text": [
            "Influence Concentration (Gini over PageRank): 0.5472\n"
          ]
        }
      ]
    },
    {
      "cell_type": "code",
      "source": [
        "# Periphery Edge Ratio\n",
        "# Measures fraction of edges incident to peripheral (low k-shell) nodes\n",
        "# Periphery refers to the outer, weakly connected, or structurally shallow nodes in a graph — the opposite of the core\n",
        "\n",
        "# Interpretation (comment only):\n",
        "#  - High PER → sparse periphery, typical of noisy or sybil regions\n",
        "#  - Low PER → well-connected graph with a strong core\n",
        "\n",
        "def compute_periphery_edge_ratio(G, threshold_shell=1):\n",
        "    selfloops = list(nx.selfloop_edges(G))\n",
        "    print(f\"Removed {len(selfloops)} self-loops.\")\n",
        "    G.remove_edges_from(selfloops)\n",
        "\n",
        "    core_indices = nx.core_number(G)\n",
        "    periphery_nodes = {node for node, shell in core_indices.items() if shell <= threshold_shell}\n",
        "\n",
        "    # Count edges touching peripheral nodes\n",
        "    peripheral_edges = sum(1 for u, v in G.edges() if u in periphery_nodes or v in periphery_nodes)\n",
        "    total_edges = G.number_of_edges()\n",
        "\n",
        "    ratio = peripheral_edges / total_edges if total_edges > 0 else 0.0\n",
        "    print(f\"Periphery Edge Ratio: {ratio:.4f}\")\n",
        "\n",
        "compute_periphery_edge_ratio(UG, threshold_shell=1)"
      ],
      "metadata": {
        "id": "omGLF14ziHgY",
        "colab": {
          "base_uri": "https://localhost:8080/"
        },
        "outputId": "15356e01-f9aa-4fbf-be88-8b1df7aaa542"
      },
      "execution_count": null,
      "outputs": [
        {
          "output_type": "stream",
          "name": "stdout",
          "text": [
            "Removed 0 self-loops.\n",
            "Periphery Edge Ratio: 0.2030\n"
          ]
        }
      ]
    },
    {
      "cell_type": "code",
      "source": [
        "# Approximate average rewiring probability (APL_real / APL_random)\n",
        "# Uses sampled average shortest path length to keep it fast\n",
        "\n",
        "# Interpretation (comment only):\n",
        "#  - Ratio ≈ 1 → graph behaves like a random graph (high rewiring)\n",
        "#  - Ratio > 1 → graph is more regular or clustered (low rewiring)\n",
        "\n",
        "def approximate_rewiring_probability(G, num_samples=200):\n",
        "    if not nx.is_connected(G):\n",
        "        G = G.subgraph(max(nx.connected_components(G), key=len)).copy()\n",
        "\n",
        "    # Approximate APL of real graph\n",
        "    nodes = list(G.nodes())\n",
        "    sample_nodes = np.random.choice(nodes, size=min(num_samples, len(nodes)), replace=False)\n",
        "\n",
        "    all_lengths = []\n",
        "    for node in tqdm(sample_nodes):\n",
        "        lengths = nx.single_source_shortest_path_length(G, node)\n",
        "        all_lengths.extend(lengths.values())\n",
        "\n",
        "    apl_real = np.mean(all_lengths)\n",
        "\n",
        "    # Generate a random graph with same number of nodes and edges\n",
        "    n = G.number_of_nodes()\n",
        "    m = G.number_of_edges()\n",
        "    G_rand = nx.gnm_random_graph(n, m)\n",
        "\n",
        "    # Approximate APL of random graph\n",
        "    if not nx.is_connected(G_rand):\n",
        "        G_rand = G_rand.subgraph(max(nx.connected_components(G_rand), key=len)).copy()\n",
        "\n",
        "    rand_nodes = list(G_rand.nodes())\n",
        "    sample_rand = np.random.choice(rand_nodes, size=min(num_samples, len(rand_nodes)), replace=False)\n",
        "\n",
        "    rand_lengths = []\n",
        "    for node in tqdm(sample_rand):\n",
        "        lengths = nx.single_source_shortest_path_length(G_rand, node)\n",
        "        rand_lengths.extend(lengths.values())\n",
        "\n",
        "    apl_rand = np.mean(rand_lengths)\n",
        "\n",
        "    # Rewiring approximation = ratio of path lengths\n",
        "    ratio = apl_real / apl_rand if apl_rand > 0 else None\n",
        "\n",
        "    print(f\"Approx Avg Path Length (Real):  {apl_real:.4f}\")\n",
        "    print(f\"Approx Avg Path Length (Rand):  {apl_rand:.4f}\")\n",
        "    print(f\"Approx Rewiring Probability:    {ratio:.4f}\")\n",
        "\n",
        "approximate_rewiring_probability(UC_largest_component)"
      ],
      "metadata": {
        "id": "oYnx7eVtio1m",
        "colab": {
          "base_uri": "https://localhost:8080/",
          "height": 135,
          "referenced_widgets": [
            "0578288c2a9b485d809afab0cadf70fc",
            "7d362460131e43f2b8456a25a7717214",
            "7a622f42d2754652b345bd85bd1f9539",
            "59c0aa20a41a46e7b9cab4d9d78d3f06",
            "cfd0878a8e5849768213c2bac6c3f5ef",
            "25fca9f0966547a6a6444416824e37da",
            "ee7a6c3f75924f0595fb62d21f1afdb2",
            "665f3b105ac448e999e79b888e30f3df",
            "9518be80941846f5ad2002e6037ab466",
            "198d241600674a96a420ffc2db38d622",
            "f78f07e387a3448a905700c48beb29e1",
            "dada22e8e1e146069eccfb1f05ad65e6",
            "4c0cfca27ead404195c0d2e2e1487d47",
            "5ca9ebd86ec345fdb039162565a9afaa",
            "8d217c27584444ec8813a4eba16a3714",
            "12528b7697414e8a954c25833363726a",
            "96b047f8ba6b46f098be367077a953c2",
            "1052c6b7149b409ebf16413874a186ff",
            "a4529d14a7484322a9b88adc7b2e59cc",
            "35a6bbc55dab4383a0d17e809bd0222c",
            "d0483f600b4f4b87b857f74ffc242089",
            "9c004ce4ec6d4f449abc9ade55da868d"
          ]
        },
        "outputId": "14bc16ce-c0f4-40b1-9c48-d06a12e90fa0"
      },
      "execution_count": null,
      "outputs": [
        {
          "output_type": "display_data",
          "data": {
            "text/plain": [
              "  0%|          | 0/200 [00:00<?, ?it/s]"
            ],
            "application/vnd.jupyter.widget-view+json": {
              "version_major": 2,
              "version_minor": 0,
              "model_id": "0578288c2a9b485d809afab0cadf70fc"
            }
          },
          "metadata": {}
        },
        {
          "output_type": "display_data",
          "data": {
            "text/plain": [
              "  0%|          | 0/200 [00:00<?, ?it/s]"
            ],
            "application/vnd.jupyter.widget-view+json": {
              "version_major": 2,
              "version_minor": 0,
              "model_id": "dada22e8e1e146069eccfb1f05ad65e6"
            }
          },
          "metadata": {}
        },
        {
          "output_type": "stream",
          "name": "stdout",
          "text": [
            "Approx Avg Path Length (Real):  3.7533\n",
            "Approx Avg Path Length (Rand):  4.1110\n",
            "Approx Rewiring Probability:    0.9130\n"
          ]
        }
      ]
    },
    {
      "cell_type": "code",
      "source": [],
      "metadata": {
        "id": "_Eu0-Tt80kyp"
      },
      "execution_count": null,
      "outputs": []
    }
  ]
}