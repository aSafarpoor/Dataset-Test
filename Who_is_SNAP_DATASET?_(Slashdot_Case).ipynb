{
  "nbformat": 4,
  "nbformat_minor": 0,
  "metadata": {
    "colab": {
      "provenance": [],
      "toc_visible": true,
      "authorship_tag": "ABX9TyOppd3NaTKx/gvY3PENu+19",
      "include_colab_link": true
    },
    "kernelspec": {
      "name": "python3",
      "display_name": "Python 3"
    },
    "language_info": {
      "name": "python"
    }
  },
  "cells": [
    {
      "cell_type": "markdown",
      "metadata": {
        "id": "view-in-github",
        "colab_type": "text"
      },
      "source": [
        "<a href=\"https://colab.research.google.com/github/aSafarpoor/Dataset-Test/blob/main/Who_is_SNAP_DATASET%3F_(Slashdot_Case).ipynb\" target=\"_parent\"><img src=\"https://colab.research.google.com/assets/colab-badge.svg\" alt=\"Open In Colab\"/></a>"
      ]
    },
    {
      "cell_type": "code",
      "source": [
        "!wget https://snap.stanford.edu/data/soc-Slashdot0902.txt.gz\n",
        "!gunzip soc-Slashdot0902.txt"
      ],
      "metadata": {
        "colab": {
          "base_uri": "https://localhost:8080/"
        },
        "id": "N1n9weQAUDQC",
        "outputId": "b8fc44b5-beca-48f1-c1bd-9330a6cd72d6"
      },
      "execution_count": null,
      "outputs": [
        {
          "output_type": "stream",
          "name": "stdout",
          "text": [
            "--2025-05-07 03:28:57--  https://snap.stanford.edu/data/soc-Slashdot0902.txt.gz\n",
            "Resolving snap.stanford.edu (snap.stanford.edu)... 171.64.75.80\n",
            "Connecting to snap.stanford.edu (snap.stanford.edu)|171.64.75.80|:443... connected.\n",
            "HTTP request sent, awaiting response... 200 OK\n",
            "Length: 3246518 (3.1M) [application/x-gzip]\n",
            "Saving to: ‘soc-Slashdot0902.txt.gz’\n",
            "\n",
            "soc-Slashdot0902.tx 100%[===================>]   3.10M  1.68MB/s    in 1.8s    \n",
            "\n",
            "2025-05-07 03:28:59 (1.68 MB/s) - ‘soc-Slashdot0902.txt.gz’ saved [3246518/3246518]\n",
            "\n",
            "gzip: soc-Slashdot0902.txt: unknown suffix -- ignored\n"
          ]
        }
      ]
    },
    {
      "cell_type": "code",
      "source": [
        "# !cat soc-Slashdot0902.txt"
      ],
      "metadata": {
        "id": "E4NXP1vfyiIv"
      },
      "execution_count": null,
      "outputs": []
    },
    {
      "cell_type": "code",
      "source": [
        "!pip install networkit"
      ],
      "metadata": {
        "colab": {
          "base_uri": "https://localhost:8080/"
        },
        "id": "0A8fTwbeEmpQ",
        "outputId": "1d68d245-533d-4cb2-9024-fad174622afe"
      },
      "execution_count": null,
      "outputs": [
        {
          "output_type": "stream",
          "name": "stdout",
          "text": [
            "Collecting networkit\n",
            "  Downloading networkit-11.1.post1-cp311-cp311-manylinux_2_17_x86_64.manylinux2014_x86_64.whl.metadata (14 kB)\n",
            "Requirement already satisfied: scipy in /usr/local/lib/python3.11/dist-packages (from networkit) (1.15.2)\n",
            "Requirement already satisfied: numpy in /usr/local/lib/python3.11/dist-packages (from networkit) (2.0.2)\n",
            "Downloading networkit-11.1.post1-cp311-cp311-manylinux_2_17_x86_64.manylinux2014_x86_64.whl (11.0 MB)\n",
            "\u001b[2K   \u001b[90m━━━━━━━━━━━━━━━━━━━━━━━━━━━━━━━━━━━━━━━━\u001b[0m \u001b[32m11.0/11.0 MB\u001b[0m \u001b[31m68.2 MB/s\u001b[0m eta \u001b[36m0:00:00\u001b[0m\n",
            "\u001b[?25hInstalling collected packages: networkit\n",
            "Successfully installed networkit-11.1.post1\n"
          ]
        }
      ]
    },
    {
      "cell_type": "code",
      "execution_count": null,
      "metadata": {
        "id": "SsJ7WCo1V4o7",
        "colab": {
          "base_uri": "https://localhost:8080/",
          "height": 17
        },
        "outputId": "98e7b4b6-bcb1-4fb2-e073-81130a06d137"
      },
      "outputs": [
        {
          "output_type": "display_data",
          "data": {
            "text/html": [
              "\n",
              "\t\t\t<script type=\"text/javascript\">\n",
              "\t\t\t<!--\n",
              "\t\t\t\t\n",
              "\t\t\t{\n",
              "\t\t\t\tvar element = document.getElementById('NetworKit_script');\n",
              "\t\t\t\tif (element) {\n",
              "\t\t\t\t\telement.parentNode.removeChild(element);\n",
              "\t\t\t\t}\n",
              "\t\t\t\telement = document.createElement('script');\n",
              "\t\t\t\telement.type = 'text/javascript';\n",
              "\t\t\t\telement.innerHTML = 'function NetworKit_pageEmbed(id) { var i, j; var elements; elements = document.getElementById(id).getElementsByClassName(\"Plot\"); for (i=0; i<elements.length; i++) { elements[i].id = id + \"_Plot_\" + i; var data = elements[i].getAttribute(\"data-image\").split(\"|\"); elements[i].removeAttribute(\"data-image\"); var content = \"<div class=\\\\\"Image\\\\\" id=\\\\\"\" + elements[i].id + \"_Image\\\\\" />\"; elements[i].innerHTML = content; elements[i].setAttribute(\"data-image-index\", 0); elements[i].setAttribute(\"data-image-length\", data.length); for (j=0; j<data.length; j++) { elements[i].setAttribute(\"data-image-\" + j, data[j]); } NetworKit_plotUpdate(elements[i]); elements[i].onclick = function (e) { NetworKit_overlayShow((e.target) ? e.target : e.srcElement); } } elements = document.getElementById(id).getElementsByClassName(\"HeatCell\"); for (i=0; i<elements.length; i++) { var data = parseFloat(elements[i].getAttribute(\"data-heat\")); var color = \"#00FF00\"; if (data <= 1 && data > 0) { color = \"hsla(0, 100%, 75%, \" + (data) + \")\"; } else if (data <= 0 && data >= -1) { color = \"hsla(240, 100%, 75%, \" + (-data) + \")\"; } elements[i].style.backgroundColor = color; } elements = document.getElementById(id).getElementsByClassName(\"Details\"); for (i=0; i<elements.length; i++) { elements[i].setAttribute(\"data-title\", \"-\"); NetworKit_toggleDetails(elements[i]); elements[i].onclick = function (e) { NetworKit_toggleDetails((e.target) ? e.target : e.srcElement); } } elements = document.getElementById(id).getElementsByClassName(\"MathValue\"); for (i=elements.length-1; i>=0; i--) { value = elements[i].innerHTML.trim(); if (value === \"nan\") { elements[i].parentNode.innerHTML = \"\" } } elements = document.getElementById(id).getElementsByClassName(\"SubCategory\"); for (i=elements.length-1; i>=0; i--) { value = elements[i].innerHTML.trim(); if (value === \"\") { elements[i].parentNode.removeChild(elements[i]) } } elements = document.getElementById(id).getElementsByClassName(\"Category\"); for (i=elements.length-1; i>=0; i--) { value = elements[i].innerHTML.trim(); if (value === \"\") { elements[i].parentNode.removeChild(elements[i]) } } var isFirefox = false; try { isFirefox = typeof InstallTrigger !== \"undefined\"; } catch (e) {} if (!isFirefox) { alert(\"Currently the function\\'s output is only fully supported by Firefox.\"); } } function NetworKit_plotUpdate(source) { var index = source.getAttribute(\"data-image-index\"); var data = source.getAttribute(\"data-image-\" + index); var image = document.getElementById(source.id + \"_Image\"); image.style.backgroundImage = \"url(\" + data + \")\"; } function NetworKit_showElement(id, show) { var element = document.getElementById(id); element.style.display = (show) ? \"block\" : \"none\"; } function NetworKit_overlayShow(source) { NetworKit_overlayUpdate(source); NetworKit_showElement(\"NetworKit_Overlay\", true); } function NetworKit_overlayUpdate(source) { document.getElementById(\"NetworKit_Overlay_Title\").innerHTML = source.title; var index = source.getAttribute(\"data-image-index\"); var data = source.getAttribute(\"data-image-\" + index); var image = document.getElementById(\"NetworKit_Overlay_Image\"); image.setAttribute(\"data-id\", source.id); image.style.backgroundImage = \"url(\" + data + \")\"; var link = document.getElementById(\"NetworKit_Overlay_Toolbar_Bottom_Save\"); link.href = data; link.download = source.title + \".svg\"; } function NetworKit_overlayImageShift(delta) { var image = document.getElementById(\"NetworKit_Overlay_Image\"); var source = document.getElementById(image.getAttribute(\"data-id\")); var index = parseInt(source.getAttribute(\"data-image-index\")); var length = parseInt(source.getAttribute(\"data-image-length\")); var index = (index+delta) % length; if (index < 0) { index = length + index; } source.setAttribute(\"data-image-index\", index); NetworKit_overlayUpdate(source); } function NetworKit_toggleDetails(source) { var childs = source.children; var show = false; if (source.getAttribute(\"data-title\") == \"-\") { source.setAttribute(\"data-title\", \"+\"); show = false; } else { source.setAttribute(\"data-title\", \"-\"); show = true; } for (i=0; i<childs.length; i++) { if (show) { childs[i].style.display = \"block\"; } else { childs[i].style.display = \"none\"; } } }';\n",
              "\t\t\t\telement.setAttribute('id', 'NetworKit_script');\n",
              "\t\t\t\tdocument.head.appendChild(element);\n",
              "\t\t\t}\n",
              "\t\t\n",
              "\t\t\t\t\n",
              "\t\t\t{\n",
              "\t\t\t\tvar element = document.getElementById('NetworKit_style');\n",
              "\t\t\t\tif (element) {\n",
              "\t\t\t\t\telement.parentNode.removeChild(element);\n",
              "\t\t\t\t}\n",
              "\t\t\t\telement = document.createElement('style');\n",
              "\t\t\t\telement.type = 'text/css';\n",
              "\t\t\t\telement.innerHTML = '.NetworKit_Page { font-family: Arial, Helvetica, sans-serif; font-size: 14px; } .NetworKit_Page .Value:before { font-family: Arial, Helvetica, sans-serif; font-size: 1.05em; content: attr(data-title) \":\"; margin-left: -2.5em; padding-right: 0.5em; } .NetworKit_Page .Details .Value:before { display: block; } .NetworKit_Page .Value { font-family: monospace; white-space: pre; padding-left: 2.5em; white-space: -moz-pre-wrap !important; white-space: -pre-wrap; white-space: -o-pre-wrap; white-space: pre-wrap; word-wrap: break-word; tab-size: 4; -moz-tab-size: 4; } .NetworKit_Page .Category { clear: both; padding-left: 1em; margin-bottom: 1.5em; } .NetworKit_Page .Category:before { content: attr(data-title); font-size: 1.75em; display: block; margin-left: -0.8em; margin-bottom: 0.5em; } .NetworKit_Page .SubCategory { margin-bottom: 1.5em; padding-left: 1em; } .NetworKit_Page .SubCategory:before { font-size: 1.6em; display: block; margin-left: -0.8em; margin-bottom: 0.5em; } .NetworKit_Page .SubCategory[data-title]:before { content: attr(data-title); } .NetworKit_Page .Block { display: block; } .NetworKit_Page .Block:after { content: \".\"; visibility: hidden; display: block; height: 0; clear: both; } .NetworKit_Page .Block .Thumbnail_Overview, .NetworKit_Page .Block .Thumbnail_ScatterPlot { width: 260px; float: left; } .NetworKit_Page .Block .Thumbnail_Overview img, .NetworKit_Page .Block .Thumbnail_ScatterPlot img { width: 260px; } .NetworKit_Page .Block .Thumbnail_Overview:before, .NetworKit_Page .Block .Thumbnail_ScatterPlot:before { display: block; text-align: center; font-weight: bold; } .NetworKit_Page .Block .Thumbnail_Overview:before { content: attr(data-title); } .NetworKit_Page .HeatCell { font-family: \"Courier New\", Courier, monospace; cursor: pointer; } .NetworKit_Page .HeatCell, .NetworKit_Page .HeatCellName { display: inline; padding: 0.1em; margin-right: 2px; background-color: #FFFFFF } .NetworKit_Page .HeatCellName { margin-left: 0.25em; } .NetworKit_Page .HeatCell:before { content: attr(data-heat); display: inline-block; color: #000000; width: 4em; text-align: center; } .NetworKit_Page .Measure { clear: both; } .NetworKit_Page .Measure .Details { cursor: pointer; } .NetworKit_Page .Measure .Details:before { content: \"[\" attr(data-title) \"]\"; display: block; } .NetworKit_Page .Measure .Details .Value { border-left: 1px dotted black; margin-left: 0.4em; padding-left: 3.5em; pointer-events: none; } .NetworKit_Page .Measure .Details .Spacer:before { content: \".\"; opacity: 0.0; pointer-events: none; } .NetworKit_Page .Measure .Plot { width: 440px; height: 440px; cursor: pointer; float: left; margin-left: -0.9em; margin-right: 20px; } .NetworKit_Page .Measure .Plot .Image { background-repeat: no-repeat; background-position: center center; background-size: contain; height: 100%; pointer-events: none; } .NetworKit_Page .Measure .Stat { width: 500px; float: left; } .NetworKit_Page .Measure .Stat .Group { padding-left: 1.25em; margin-bottom: 0.75em; } .NetworKit_Page .Measure .Stat .Group .Title { font-size: 1.1em; display: block; margin-bottom: 0.3em; margin-left: -0.75em; border-right-style: dotted; border-right-width: 1px; border-bottom-style: dotted; border-bottom-width: 1px; background-color: #D0D0D0; padding-left: 0.2em; } .NetworKit_Page .Measure .Stat .Group .List { -webkit-column-count: 3; -moz-column-count: 3; column-count: 3; } .NetworKit_Page .Measure .Stat .Group .List .Entry { position: relative; line-height: 1.75em; } .NetworKit_Page .Measure .Stat .Group .List .Entry[data-tooltip]:before { position: absolute; left: 0; top: -40px; background-color: #808080; color: #ffffff; height: 30px; line-height: 30px; border-radius: 5px; padding: 0 15px; content: attr(data-tooltip); white-space: nowrap; display: none; } .NetworKit_Page .Measure .Stat .Group .List .Entry[data-tooltip]:after { position: absolute; left: 15px; top: -10px; border-top: 7px solid #808080; border-left: 7px solid transparent; border-right: 7px solid transparent; content: \"\"; display: none; } .NetworKit_Page .Measure .Stat .Group .List .Entry[data-tooltip]:hover:after, .NetworKit_Page .Measure .Stat .Group .List .Entry[data-tooltip]:hover:before { display: block; } .NetworKit_Page .Measure .Stat .Group .List .Entry .MathValue { font-family: \"Courier New\", Courier, monospace; } .NetworKit_Page .Measure:after { content: \".\"; visibility: hidden; display: block; height: 0; clear: both; } .NetworKit_Page .PartitionPie { clear: both; } .NetworKit_Page .PartitionPie img { width: 600px; } #NetworKit_Overlay { left: 0px; top: 0px; display: none; position: absolute; width: 100%; height: 100%; background-color: rgba(0,0,0,0.6); z-index: 1000; } #NetworKit_Overlay_Title { position: absolute; color: white; transform: rotate(-90deg); width: 32em; height: 32em; padding-right: 0.5em; padding-top: 0.5em; text-align: right; font-size: 40px; } #NetworKit_Overlay .button { background: white; cursor: pointer; } #NetworKit_Overlay .button:before { size: 13px; display: inline-block; text-align: center; margin-top: 0.5em; margin-bottom: 0.5em; width: 1.5em; height: 1.5em; } #NetworKit_Overlay .icon-close:before { content: \"X\"; } #NetworKit_Overlay .icon-previous:before { content: \"P\"; } #NetworKit_Overlay .icon-next:before { content: \"N\"; } #NetworKit_Overlay .icon-save:before { content: \"S\"; } #NetworKit_Overlay_Toolbar_Top, #NetworKit_Overlay_Toolbar_Bottom { position: absolute; width: 40px; right: 13px; text-align: right; z-index: 1100; } #NetworKit_Overlay_Toolbar_Top { top: 0.5em; } #NetworKit_Overlay_Toolbar_Bottom { Bottom: 0.5em; } #NetworKit_Overlay_ImageContainer { position: absolute; top: 5%; left: 5%; height: 90%; width: 90%; background-repeat: no-repeat; background-position: center center; background-size: contain; } #NetworKit_Overlay_Image { height: 100%; width: 100%; background-repeat: no-repeat; background-position: center center; background-size: contain; }';\n",
              "\t\t\t\telement.setAttribute('id', 'NetworKit_style');\n",
              "\t\t\t\tdocument.head.appendChild(element);\n",
              "\t\t\t}\n",
              "\t\t\n",
              "\t\t\t\t\n",
              "\t\t\t{\n",
              "\t\t\t\tvar element = document.getElementById('NetworKit_Overlay');\n",
              "\t\t\t\tif (element) {\n",
              "\t\t\t\t\telement.parentNode.removeChild(element);\n",
              "\t\t\t\t}\n",
              "\t\t\t\telement = document.createElement('div');\n",
              "\t\t\t\telement.innerHTML = '<div id=\"NetworKit_Overlay_Toolbar_Top\"><div class=\"button icon-close\" id=\"NetworKit_Overlay_Close\" /></div><div id=\"NetworKit_Overlay_Title\" /> <div id=\"NetworKit_Overlay_ImageContainer\"> <div id=\"NetworKit_Overlay_Image\" /> </div> <div id=\"NetworKit_Overlay_Toolbar_Bottom\"> <div class=\"button icon-previous\" onclick=\"NetworKit_overlayImageShift(-1)\" /> <div class=\"button icon-next\" onclick=\"NetworKit_overlayImageShift(1)\" /> <a id=\"NetworKit_Overlay_Toolbar_Bottom_Save\"><div class=\"button icon-save\" /></a> </div>';\n",
              "\t\t\t\telement.setAttribute('id', 'NetworKit_Overlay');\n",
              "\t\t\t\tdocument.body.appendChild(element);\n",
              "\t\t\t\tdocument.getElementById('NetworKit_Overlay_Close').onclick = function (e) {\n",
              "\t\t\t\t\tdocument.getElementById('NetworKit_Overlay').style.display = 'none';\n",
              "\t\t\t\t}\n",
              "\t\t\t}\n",
              "\t\t\n",
              "\t\t\t-->\n",
              "\t\t\t</script>\n",
              "\t\t"
            ]
          },
          "metadata": {}
        }
      ],
      "source": [
        "\n",
        "import numpy as np\n",
        "import networkx as nx\n",
        "from tqdm import tqdm\n",
        "from matplotlib import pyplot as plt\n",
        "import random\n",
        "import torch\n",
        "from collections import deque, defaultdict\n",
        "import community  # This is from the 'python-louvain' package\n",
        "from scipy.stats import entropy\n",
        "import math\n",
        "import networkit as nk\n",
        "from networkx.algorithms.approximation import maxcut"
      ]
    },
    {
      "cell_type": "code",
      "source": [
        "def set_random_seed(seed):\n",
        "    random.seed(seed)\n",
        "    np.random.seed(seed)\n",
        "\n",
        "    try:\n",
        "        torch.manual_seed(seed)\n",
        "        torch.cuda.manual_seed(seed)\n",
        "        torch.cuda.manual_seed_all(seed)\n",
        "        torch.backends.cudnn.deterministic = True\n",
        "        torch.backends.cudnn.benchmark = False\n",
        "        print(\"torch: imported\")\n",
        "    except:\n",
        "        print(\"torch: not imported\")\n",
        "    print(f\"Random set by seed = {seed}\")\n",
        "\n",
        "set_random_seed(seed = 1)"
      ],
      "metadata": {
        "colab": {
          "base_uri": "https://localhost:8080/"
        },
        "id": "Lh_h84sLWkpG",
        "outputId": "a8b0dd6c-b7ed-45ae-88e9-bc8d7b8142fd"
      },
      "execution_count": null,
      "outputs": [
        {
          "output_type": "stream",
          "name": "stdout",
          "text": [
            "torch: imported\n",
            "Random set by seed = 1\n"
          ]
        }
      ]
    },
    {
      "cell_type": "code",
      "source": [
        "edges = []\n",
        "with open('soc-Slashdot0902.txt', 'r') as f:\n",
        "    for i,line in enumerate(tqdm(f)):\n",
        "        try:\n",
        "            u, v = map(int, line.strip().split())\n",
        "            edges.append([u, v])\n",
        "        except:\n",
        "            print(i, line)\n",
        "            # break"
      ],
      "metadata": {
        "id": "Pq07V_nYDuOc",
        "colab": {
          "base_uri": "https://localhost:8080/"
        },
        "outputId": "93262a5a-e62c-4c7b-c116-ec5d516b7982"
      },
      "execution_count": null,
      "outputs": [
        {
          "output_type": "stream",
          "name": "stderr",
          "text": [
            "3951it [00:00, 36679.76it/s]"
          ]
        },
        {
          "output_type": "stream",
          "name": "stdout",
          "text": [
            "0 # Directed graph (each unordered pair of nodes is saved once): Slashdot0902.txt \n",
            "\n",
            "1 # Slashdot Zoo social network from February 0 2009\n",
            "\n",
            "2 # Nodes: 82168 Edges: 948464\n",
            "\n",
            "3 # FromNodeId\tToNodeId\n",
            "\n"
          ]
        },
        {
          "output_type": "stream",
          "name": "stderr",
          "text": [
            "948468it [00:02, 464200.30it/s]\n"
          ]
        }
      ]
    },
    {
      "cell_type": "code",
      "source": [
        "G = nx.DiGraph()\n",
        "G.add_edges_from(edges)\n",
        "mapping = {old: new for new, old in enumerate(sorted(G.nodes()), start=1)} # eindex nodes to 1..n\n",
        "G = nx.relabel_nodes(G, mapping)\n",
        "UG = G.to_undirected()"
      ],
      "metadata": {
        "id": "CT0aAQCPVoXp"
      },
      "execution_count": null,
      "outputs": []
    },
    {
      "cell_type": "markdown",
      "source": [
        "# simple parameters"
      ],
      "metadata": {
        "id": "d3x8eNOfZ_EU"
      }
    },
    {
      "cell_type": "markdown",
      "source": [
        "## Single Simple Value"
      ],
      "metadata": {
        "id": "UWY4ZsDldPBc"
      }
    },
    {
      "cell_type": "code",
      "source": [
        "def analyze_graph(G):\n",
        "    num_nodes = G.number_of_nodes()\n",
        "    print(\"Number of nodes:\", num_nodes)\n",
        "    print(\"Number of edges:\", G.number_of_edges())\n",
        "\n",
        "    if G.is_directed():\n",
        "        in_degrees = dict(G.in_degree())\n",
        "        out_degrees = dict(G.out_degree())\n",
        "\n",
        "        avg_in_deg = sum(in_degrees.values()) / num_nodes\n",
        "        avg_out_deg = sum(out_degrees.values()) / num_nodes\n",
        "        degrees = [in_degrees[n] + out_degrees[n] for n in G.nodes()]\n",
        "\n",
        "        only_in = sum(1 for n in G.nodes() if in_degrees[n] > 0 and out_degrees[n] == 0)\n",
        "        only_out = sum(1 for n in G.nodes() if in_degrees[n] == 0 and out_degrees[n] > 0)\n",
        "        both = sum(1 for n in G.nodes() if in_degrees[n] > 0 and out_degrees[n] > 0)\n",
        "        isolated = sum(1 for n in G.nodes() if in_degrees[n] == 0 and out_degrees[n] == 0)\n",
        "\n",
        "        print(\"Average in-degree:\", round(avg_in_deg, 3))\n",
        "        print(\"Average out-degree:\", round(avg_out_deg, 3))\n",
        "        print(\"Only in-edge nodes ratio:\", round(only_in / num_nodes, 3))\n",
        "        print(\"Only out-edge nodes ratio:\", round(only_out / num_nodes, 3))\n",
        "        print(\"Nodes with both in and out edges ratio:\", round(both / num_nodes, 3))\n",
        "        print(\"Isolated nodes ratio:\", round(isolated / num_nodes, 3))\n",
        "    else:\n",
        "        degrees = dict(G.degree()).values()\n",
        "        avg_in_deg = avg_out_deg = None\n",
        "        isolated = sum(1 for n in G.nodes() if G.degree(n) == 0)\n",
        "        print(\"Average degree:\", round(sum(degrees) / num_nodes, 3))\n",
        "        print(\"Isolated nodes ratio:\", round(isolated / num_nodes, 3))\n",
        "\n",
        "    print(\"Maximum degree:\", max(degrees))\n",
        "    leaf_nodes = [n for n in G.nodes() if G.degree(n) == 1]\n",
        "    print(\"Number of leaf nodes:\", len(leaf_nodes))"
      ],
      "metadata": {
        "id": "jJpUSVASX5-S"
      },
      "execution_count": null,
      "outputs": []
    },
    {
      "cell_type": "code",
      "source": [
        "analyze_graph(G)"
      ],
      "metadata": {
        "colab": {
          "base_uri": "https://localhost:8080/"
        },
        "id": "ZJGK2Ux4YKZU",
        "outputId": "8a5a8779-b624-4a80-edd3-97e0a97f85ff"
      },
      "execution_count": null,
      "outputs": [
        {
          "output_type": "stream",
          "name": "stdout",
          "text": [
            "Number of nodes: 82168\n",
            "Number of edges: 948464\n",
            "Average in-degree: 11.543\n",
            "Average out-degree: 11.543\n",
            "Only in-edge nodes ratio: 0.045\n",
            "Only out-edge nodes ratio: 0.0\n",
            "Nodes with both in and out edges ratio: 0.955\n",
            "Isolated nodes ratio: 0.0\n",
            "Maximum degree: 5064\n",
            "Number of leaf nodes: 1803\n"
          ]
        }
      ]
    },
    {
      "cell_type": "code",
      "source": [
        "analyze_graph(UG)"
      ],
      "metadata": {
        "colab": {
          "base_uri": "https://localhost:8080/"
        },
        "id": "TU1nEb_8axQA",
        "outputId": "e747532f-1f2b-4689-f917-adc0dd4a4f8c"
      },
      "execution_count": null,
      "outputs": [
        {
          "output_type": "stream",
          "name": "stdout",
          "text": [
            "Number of nodes: 82168\n",
            "Number of edges: 582533\n",
            "Average degree: 14.179\n",
            "Isolated nodes ratio: 0.0\n",
            "Maximum degree: 2554\n",
            "Number of leaf nodes: 1803\n"
          ]
        }
      ]
    },
    {
      "cell_type": "code",
      "source": [
        "def print_sparsity_ratio(G):\n",
        "    n = G.number_of_nodes()\n",
        "    m = G.number_of_edges()\n",
        "    print(n,m)\n",
        "    if nx.is_directed(G):\n",
        "        max_edges = n * (n - 1)\n",
        "        print(\"Graph is directed.\")\n",
        "    else:\n",
        "        max_edges = n * (n - 1) // 2\n",
        "        print(\"Graph is undirected.\")\n",
        "\n",
        "    if max_edges == 0:\n",
        "        sparsity_ratio = 0.0\n",
        "    else:\n",
        "        sparsity_ratio = m / max_edges\n",
        "\n",
        "    print(f\"Sparsity ratio: {sparsity_ratio:.6f}\")"
      ],
      "metadata": {
        "id": "ge4lll2-809w"
      },
      "execution_count": null,
      "outputs": []
    },
    {
      "cell_type": "code",
      "source": [
        "print_sparsity_ratio(G)"
      ],
      "metadata": {
        "colab": {
          "base_uri": "https://localhost:8080/"
        },
        "id": "p5nnjVnv9O_k",
        "outputId": "9354c16e-6ebc-471d-bf87-8e41815f1bea"
      },
      "execution_count": null,
      "outputs": [
        {
          "output_type": "stream",
          "name": "stdout",
          "text": [
            "82168 948464\n",
            "Graph is directed.\n",
            "Sparsity ratio: 0.000140\n"
          ]
        }
      ]
    },
    {
      "cell_type": "code",
      "source": [
        "print_sparsity_ratio(UG)"
      ],
      "metadata": {
        "colab": {
          "base_uri": "https://localhost:8080/"
        },
        "id": "f_tZUJ3g9PCX",
        "outputId": "2b78638a-7674-47bd-a55d-328ceec9d071"
      },
      "execution_count": null,
      "outputs": [
        {
          "output_type": "stream",
          "name": "stdout",
          "text": [
            "82168 582533\n",
            "Graph is undirected.\n",
            "Sparsity ratio: 0.000173\n"
          ]
        }
      ]
    },
    {
      "cell_type": "code",
      "source": [
        "def largest_connected_component(UG):\n",
        "    components = list(nx.connected_components(UG))\n",
        "    largest = max(components, key=len)\n",
        "    UG_largest = UG.subgraph(largest).copy()\n",
        "    print(f\"Number of nodes in largest component: {UG_largest.number_of_nodes()}\")\n",
        "    print(f\"Number of edges in largest component: {UG_largest.number_of_edges()}\")\n",
        "    print(f\"#edge/#node = {round(UG_largest.number_of_edges()/UG_largest.number_of_nodes(),2)}\")\n",
        "    return UG_largest\n",
        "UGlCC = largest_connected_component(UG)"
      ],
      "metadata": {
        "colab": {
          "base_uri": "https://localhost:8080/"
        },
        "id": "ynrsdnxe5_30",
        "outputId": "7309809b-a85b-4e11-f140-a9b4f2122ad1"
      },
      "execution_count": null,
      "outputs": [
        {
          "output_type": "stream",
          "name": "stdout",
          "text": [
            "Number of nodes in largest component: 82168\n",
            "Number of edges in largest component: 582533\n",
            "#edge/#node = 7.09\n"
          ]
        }
      ]
    },
    {
      "cell_type": "code",
      "source": [
        "def largest_strongly_connected_component(G):\n",
        "    components = list(nx.strongly_connected_components(G))\n",
        "    largest = max(components, key=len)\n",
        "    G_largest = G.subgraph(largest).copy()\n",
        "    print(f\"Number of nodes in largest strongly connected component: {G_largest.number_of_nodes()}\")\n",
        "    print(f\"Number of edges in largest strongly connected component: {G_largest.number_of_edges()}\")\n",
        "    print(f\"#edge/#node = {round(G_largest.number_of_edges() / G_largest.number_of_nodes(), 2)}\")\n",
        "    return G_largest\n",
        "\n",
        "GlSCC = largest_strongly_connected_component(G)"
      ],
      "metadata": {
        "colab": {
          "base_uri": "https://localhost:8080/"
        },
        "id": "CC-WoJIyG_Yy",
        "outputId": "f1698b60-ac61-4721-f043-0411c5034a85"
      },
      "execution_count": null,
      "outputs": [
        {
          "output_type": "stream",
          "name": "stdout",
          "text": [
            "Number of nodes in largest strongly connected component: 71307\n",
            "Number of edges in largest strongly connected component: 912381\n",
            "#edge/#node = 12.8\n"
          ]
        }
      ]
    },
    {
      "cell_type": "code",
      "source": [
        "def analyze_scc_components(G):\n",
        "    if not isinstance(G, nx.DiGraph):\n",
        "        raise ValueError(\"G must be a directed graph\")\n",
        "\n",
        "    def report_sccs(graph, label):\n",
        "        sccs = list(nx.strongly_connected_components(graph))\n",
        "        sizes = [len(c) for c in sccs]\n",
        "        small = [s for s in sizes if s < 10]\n",
        "        large = sorted([s for s in sizes if s >= 10], reverse=True)\n",
        "\n",
        "        print(f\"\\nSCC Analysis for {label}:\")\n",
        "        print(f\"Total number of SCCs: {len(sccs)}\")\n",
        "        print(f\"Number of SCCs with size < 10: {len(small)}\")\n",
        "        print(f\"Sizes of SCCs with size ≥ 10 (sorted): {large}\")\n",
        "\n",
        "    report_sccs(G, \"original G\")\n",
        "\n",
        "\n",
        "analyze_scc_components(G)"
      ],
      "metadata": {
        "colab": {
          "base_uri": "https://localhost:8080/"
        },
        "id": "szBXD3uz04rB",
        "outputId": "10bc9589-2332-458b-dc83-16b5cbf5516e"
      },
      "execution_count": null,
      "outputs": [
        {
          "output_type": "stream",
          "name": "stdout",
          "text": [
            "\n",
            "SCC Analysis for original G:\n",
            "Total number of SCCs: 10559\n",
            "Number of SCCs with size < 10: 10558\n",
            "Sizes of SCCs with size ≥ 10 (sorted): [71307]\n"
          ]
        }
      ]
    },
    {
      "cell_type": "markdown",
      "source": [
        "## Degree Distribution"
      ],
      "metadata": {
        "id": "2nxSw5-Ya6fZ"
      }
    },
    {
      "cell_type": "code",
      "source": [
        "def clip_top_5_percent(values):\n",
        "    values = np.array(values)\n",
        "    threshold = np.percentile(values, 97)  # 95th percentile value\n",
        "    clip_val = np.min(values[values >= threshold])\n",
        "    clipped = np.where(values > clip_val, clip_val, values)\n",
        "    return clipped, clip_val\n",
        "\n",
        "def plot_degree_distributions(G, name=\"Graph\"):\n",
        "    fig, axes = plt.subplots(1, 3, figsize=(18, 5))\n",
        "\n",
        "    if G.is_directed():\n",
        "        in_degrees = [d for _, d in G.in_degree()]\n",
        "        out_degrees = [d for _, d in G.out_degree()]\n",
        "        total_degrees = [in_d + out_d for in_d, out_d in zip(in_degrees, out_degrees)]\n",
        "    else:\n",
        "        in_degrees = out_degrees = total_degrees = [d for _, d in G.degree()]\n",
        "\n",
        "    # Clip top 5% of each list\n",
        "    total_degrees_clipped, clip_total = clip_top_5_percent(total_degrees)\n",
        "    in_degrees_clipped, clip_in = clip_top_5_percent(in_degrees)\n",
        "    out_degrees_clipped, clip_out = clip_top_5_percent(out_degrees)\n",
        "\n",
        "    # Plot Degree\n",
        "    axes[0].hist(total_degrees_clipped, bins=30, color='skyblue', edgecolor='black')\n",
        "    axes[0].set_title(f\"{name} - Degree\")\n",
        "    axes[0].set_xlabel(\"Degree\")\n",
        "    axes[0].set_ylabel(\"Frequency\")\n",
        "\n",
        "    # Plot In-Degree\n",
        "    axes[1].hist(in_degrees_clipped, bins=30, color='lightgreen', edgecolor='black')\n",
        "    axes[1].set_title(f\"{name} - In-Degree\")\n",
        "    axes[1].set_xlabel(\"In-Degree\")\n",
        "    axes[1].set_ylabel(\"Frequency\")\n",
        "\n",
        "    # Plot Out-Degree\n",
        "    axes[2].hist(out_degrees_clipped, bins=30, color='salmon', edgecolor='black')\n",
        "    axes[2].set_title(f\"{name} - Out-Degree\")\n",
        "    axes[2].set_xlabel(\"Out-Degree\")\n",
        "    axes[2].set_ylabel(\"Frequency\")\n",
        "\n",
        "    # Add clipping info\n",
        "    fig.suptitle(f\"Degree Distributions for {name}\", fontsize=16)\n",
        "    fig.text(0.5, 0.01, f\"Clipped top 3% values to: Degree={clip_total}, In-Degree={clip_in}, Out-Degree={clip_out}\",\n",
        "             ha='center', fontsize=10, style='italic')\n",
        "\n",
        "    plt.tight_layout(rect=[0, 0.03, 1, 0.95])\n",
        "    plt.show()\n"
      ],
      "metadata": {
        "id": "Hy8MA57oa0Ku"
      },
      "execution_count": null,
      "outputs": []
    },
    {
      "cell_type": "code",
      "source": [
        "plot_degree_distributions(G, name=\"Main Graph\")"
      ],
      "metadata": {
        "colab": {
          "base_uri": "https://localhost:8080/",
          "height": 525
        },
        "id": "jc6aFgbqbgYv",
        "outputId": "7015951a-ed76-43e0-a501-0894e3471a25"
      },
      "execution_count": null,
      "outputs": [
        {
          "output_type": "display_data",
          "data": {
            "text/plain": [
              "<Figure size 1800x500 with 3 Axes>"
            ],
            "image/png": "[encoded data removed]"
          },
          "metadata": {}
        }
      ]
    },
    {
      "cell_type": "markdown",
      "source": [
        "# BFS (undirected scenario)"
      ],
      "metadata": {
        "id": "ecSeKHQjnjGm"
      }
    },
    {
      "cell_type": "code",
      "source": [
        "def bfs_levels_from_virtual_node(G, first_level_list):\n",
        "    G = G.copy()\n",
        "    virtual_node = -1\n",
        "\n",
        "    G.add_node(virtual_node)\n",
        "    for node in first_level_list:\n",
        "        G.add_edge(virtual_node, node)\n",
        "\n",
        "    visited = set([virtual_node])\n",
        "    level_map = {virtual_node: 0}\n",
        "    queue = deque([virtual_node])\n",
        "\n",
        "    level_nodes = defaultdict(list)\n",
        "\n",
        "    while queue:\n",
        "        current = queue.popleft()\n",
        "        current_level = level_map[current]\n",
        "\n",
        "        for neighbor in G.neighbors(current):\n",
        "            if neighbor not in visited:\n",
        "                visited.add(neighbor)\n",
        "                level_map[neighbor] = current_level + 1\n",
        "                level_nodes[current_level + 1].append(neighbor)\n",
        "                queue.append(neighbor)\n",
        "\n",
        "\n",
        "    original_nodes = set(G.nodes()) - {virtual_node}\n",
        "    print(\"BFS Level Summary (excluding virtual node):\")\n",
        "    for level in sorted(level_nodes.keys()):\n",
        "        nodes_at_level = level_nodes[level]\n",
        "        avg_deg = sum(G.degree(n) for n in nodes_at_level) / len(nodes_at_level)\n",
        "        print(f\"Level {level}: {len(nodes_at_level)} nodes, average degree: {round(avg_deg, 2)}\")\n",
        "\n",
        "    all_reachable = set(level_map.keys()) - {virtual_node}\n",
        "    non_reachable = original_nodes - all_reachable\n",
        "    isolated_nodes = list(nx.isolates(G))\n",
        "    num_non_reachable = len(non_reachable)\n",
        "    num_isolated_non_reachable = len(set(isolated_nodes) & non_reachable)\n",
        "\n",
        "    if len(original_nodes) > 0:\n",
        "        print(f\"Non-reachable nodes: {num_non_reachable} ({round(num_non_reachable / len(original_nodes) * 100, 2)}%)\")\n",
        "        if num_non_reachable > 0:\n",
        "            isolated_ratio = num_isolated_non_reachable / num_non_reachable\n",
        "            print(f\"Among the unreachabel, isolated nodes: {num_isolated_non_reachable} ({round(isolated_ratio * 100, 2)}%)\")\n",
        "\n",
        "    else:\n",
        "        print(\"No nodes in the original graph.\")\n"
      ],
      "metadata": {
        "id": "Ug1ZZTYokVUR"
      },
      "execution_count": null,
      "outputs": []
    },
    {
      "cell_type": "code",
      "source": [
        "subset = random.sample(list(UG.nodes()),int(UG.number_of_nodes()*0.4) )\n",
        "\n",
        "bfs_levels_from_virtual_node(UG, first_level_list = subset) # whole labeled nodes"
      ],
      "metadata": {
        "colab": {
          "base_uri": "https://localhost:8080/"
        },
        "id": "A2p0GVGHkj8g",
        "outputId": "f4597833-08cc-46d5-bf60-307c370b95f8"
      },
      "execution_count": null,
      "outputs": [
        {
          "output_type": "stream",
          "name": "stdout",
          "text": [
            "BFS Level Summary (excluding virtual node):\n",
            "Level 1: 32867 nodes, average degree: 15.26\n",
            "Level 2: 35050 nodes, average degree: 18.5\n",
            "Level 3: 13666 nodes, average degree: 3.37\n",
            "Level 4: 559 nodes, average degree: 2.88\n",
            "Level 5: 25 nodes, average degree: 2.32\n",
            "Level 6: 1 nodes, average degree: 3.0\n",
            "Non-reachable nodes: 0 (0.0%)\n"
          ]
        }
      ]
    },
    {
      "cell_type": "code",
      "source": [
        "subset = random.sample(list(UG.nodes()),int(UG.number_of_nodes()*0.4) )\n",
        "\n",
        "bfs_levels_from_virtual_node(UG, first_level_list = subset) # whole labeled nodes"
      ],
      "metadata": {
        "colab": {
          "base_uri": "https://localhost:8080/"
        },
        "id": "jgbyXb43Z9CB",
        "outputId": "d87111f1-482f-4ac6-865b-3309c86af12c"
      },
      "execution_count": null,
      "outputs": [
        {
          "output_type": "stream",
          "name": "stdout",
          "text": [
            "BFS Level Summary (excluding virtual node):\n",
            "Level 1: 32867 nodes, average degree: 15.09\n",
            "Level 2: 34351 nodes, average degree: 18.96\n",
            "Level 3: 14315 nodes, average degree: 3.43\n",
            "Level 4: 597 nodes, average degree: 2.94\n",
            "Level 5: 37 nodes, average degree: 2.7\n",
            "Level 6: 1 nodes, average degree: 3.0\n",
            "Non-reachable nodes: 0 (0.0%)\n"
          ]
        }
      ]
    },
    {
      "cell_type": "code",
      "source": [
        "subset = random.sample(list(UG.nodes()),int(UG.number_of_nodes()*0.1) )\n",
        "\n",
        "bfs_levels_from_virtual_node(UG, first_level_list = subset) # whole labeled nodes"
      ],
      "metadata": {
        "colab": {
          "base_uri": "https://localhost:8080/"
        },
        "id": "mpXNkybYZ7my",
        "outputId": "4b17cd04-d489-4e7e-d24a-f731f3d74d8c"
      },
      "execution_count": null,
      "outputs": [
        {
          "output_type": "stream",
          "name": "stdout",
          "text": [
            "BFS Level Summary (excluding virtual node):\n",
            "Level 1: 8216 nodes, average degree: 14.28\n",
            "Level 2: 25732 nodes, average degree: 32.11\n",
            "Level 3: 42710 nodes, average degree: 4.99\n",
            "Level 4: 5075 nodes, average degree: 3.03\n",
            "Level 5: 410 nodes, average degree: 2.69\n",
            "Level 6: 25 nodes, average degree: 2.84\n",
            "Non-reachable nodes: 0 (0.0%)\n"
          ]
        }
      ]
    },
    {
      "cell_type": "code",
      "source": [
        "subset = random.sample(list(UG.nodes()),int(UG.number_of_nodes()*0.01) )\n",
        "\n",
        "bfs_levels_from_virtual_node(UG, first_level_list = subset) # whole labeled nodes"
      ],
      "metadata": {
        "colab": {
          "base_uri": "https://localhost:8080/"
        },
        "id": "l0AyGbILqXzp",
        "outputId": "b57b3c07-f720-4f08-d263-81c8cf9243a8"
      },
      "execution_count": null,
      "outputs": [
        {
          "output_type": "stream",
          "name": "stdout",
          "text": [
            "BFS Level Summary (excluding virtual node):\n",
            "Level 1: 821 nodes, average degree: 14.67\n",
            "Level 2: 6447 nodes, average degree: 77.82\n",
            "Level 3: 52222 nodes, average degree: 11.04\n",
            "Level 4: 20713 nodes, average degree: 3.38\n",
            "Level 5: 1817 nodes, average degree: 2.85\n",
            "Level 6: 138 nodes, average degree: 2.74\n",
            "Level 7: 9 nodes, average degree: 3.11\n",
            "Level 8: 1 nodes, average degree: 1.0\n",
            "Non-reachable nodes: 0 (0.0%)\n"
          ]
        }
      ]
    },
    {
      "cell_type": "code",
      "source": [
        "subset = random.sample(list(UG.nodes()),int(UG.number_of_nodes()*0.1) )\n",
        "\n",
        "bfs_levels_from_virtual_node(UG, first_level_list = subset) # whole labeled nodes"
      ],
      "metadata": {
        "colab": {
          "base_uri": "https://localhost:8080/"
        },
        "id": "3R5uPlINkmVe",
        "outputId": "84eb012d-77c3-42da-86fb-a3d027f62f0a"
      },
      "execution_count": null,
      "outputs": [
        {
          "output_type": "stream",
          "name": "stdout",
          "text": [
            "BFS Level Summary (excluding virtual node):\n",
            "Level 1: 8216 nodes, average degree: 16.12\n",
            "Level 2: 28685 nodes, average degree: 29.17\n",
            "Level 3: 40282 nodes, average degree: 4.7\n",
            "Level 4: 4614 nodes, average degree: 2.98\n",
            "Level 5: 346 nodes, average degree: 2.72\n",
            "Level 6: 24 nodes, average degree: 2.96\n",
            "Level 7: 1 nodes, average degree: 1.0\n",
            "Non-reachable nodes: 0 (0.0%)\n"
          ]
        }
      ]
    },
    {
      "cell_type": "code",
      "source": [
        "subset = random.sample(list(UG.nodes()),int(UG.number_of_nodes()*0.01) )\n",
        "\n",
        "bfs_levels_from_virtual_node(UG, first_level_list = subset) # whole labeled nodes"
      ],
      "metadata": {
        "colab": {
          "base_uri": "https://localhost:8080/"
        },
        "id": "aWYcsdT-Ztlm",
        "outputId": "9743bc74-3085-4f5d-e409-6a2b4213079b"
      },
      "execution_count": null,
      "outputs": [
        {
          "output_type": "stream",
          "name": "stdout",
          "text": [
            "BFS Level Summary (excluding virtual node):\n",
            "Level 1: 821 nodes, average degree: 13.32\n",
            "Level 2: 5954 nodes, average degree: 78.64\n",
            "Level 3: 51638 nodes, average degree: 11.76\n",
            "Level 4: 21717 nodes, average degree: 3.4\n",
            "Level 5: 1870 nodes, average degree: 2.89\n",
            "Level 6: 158 nodes, average degree: 2.71\n",
            "Level 7: 9 nodes, average degree: 3.33\n",
            "Level 8: 1 nodes, average degree: 1.0\n",
            "Non-reachable nodes: 0 (0.0%)\n"
          ]
        }
      ]
    },
    {
      "cell_type": "markdown",
      "source": [
        "# Talk abput connected components"
      ],
      "metadata": {
        "id": "o9Sm370DnYCe"
      }
    },
    {
      "cell_type": "code",
      "source": [
        "def analyze_connected_components(UG):\n",
        "\n",
        "    components = list(nx.connected_components(UG))\n",
        "    sizes = [len(c) for c in components]\n",
        "\n",
        "    print(f\"Number of connected components: {len(components)}\")\n",
        "\n",
        "    plt.figure(figsize=(8, 4))\n",
        "    plt.hist(sizes, bins=30)\n",
        "    plt.xlabel(\"Component size\")\n",
        "    plt.ylabel(\"Frequency\")\n",
        "    plt.title(\"Histogram of Connected Component Sizes\")\n",
        "    plt.tight_layout()\n",
        "    plt.show()\n",
        "\n",
        "    return sizes\n",
        "\n",
        "sizes = analyze_connected_components(UG)"
      ],
      "metadata": {
        "id": "AyuaxXF4qbpm",
        "colab": {
          "base_uri": "https://localhost:8080/",
          "height": 425
        },
        "outputId": "0c9fba72-de15-4d54-9b34-f18c73a59385"
      },
      "execution_count": null,
      "outputs": [
        {
          "output_type": "stream",
          "name": "stdout",
          "text": [
            "Number of connected components: 1\n"
          ]
        },
        {
          "output_type": "display_data",
          "data": {
            "text/plain": [
              "<Figure size 800x400 with 1 Axes>"
            ],
            "image/png": "[encoded data removed]"
          },
          "metadata": {}
        }
      ]
    },
    {
      "cell_type": "code",
      "source": [
        "def analyze_strongly_connected_components(G):\n",
        "    # Step 1: Compute strongly connected components\n",
        "    components = list(nx.strongly_connected_components(G))\n",
        "    sizes = [len(c) for c in components]\n",
        "\n",
        "    # Step 2: Print number of SCCs\n",
        "    print(f\"Number of strongly connected components: {len(components)}\")\n",
        "\n",
        "    # Step 3: Plot histogram\n",
        "    plt.figure(figsize=(8, 4))\n",
        "    plt.hist(sizes, bins=100)\n",
        "    plt.xlabel(\"Component size\")\n",
        "    plt.ylabel(\"Frequency\")\n",
        "    plt.title(\"Histogram of Strongly Connected Component Sizes\")\n",
        "    plt.tight_layout()\n",
        "    plt.show()\n",
        "\n",
        "    return sizes\n",
        "\n",
        "sizes = analyze_strongly_connected_components(G)"
      ],
      "metadata": {
        "id": "vQBEy0ApohYp",
        "colab": {
          "base_uri": "https://localhost:8080/",
          "height": 425
        },
        "outputId": "ba651dd8-99c8-4234-b965-12aa55f27175"
      },
      "execution_count": null,
      "outputs": [
        {
          "output_type": "stream",
          "name": "stdout",
          "text": [
            "Number of strongly connected components: 10559\n"
          ]
        },
        {
          "output_type": "display_data",
          "data": {
            "text/plain": [
              "<Figure size 800x400 with 1 Axes>"
            ],
            "image/png": "[encoded data removed]"
          },
          "metadata": {}
        }
      ]
    },
    {
      "cell_type": "markdown",
      "source": [
        "# clustering"
      ],
      "metadata": {
        "id": "N8WbyOumfxVW"
      }
    },
    {
      "cell_type": "code",
      "source": [
        "import community as community_louvain\n",
        "from collections import defaultdict\n",
        "\n",
        "def analyze_louvain_clustering(UG):\n",
        "    partition = community_louvain.best_partition(UG)\n",
        "\n",
        "    clusters = defaultdict(list)\n",
        "    for node, cid in partition.items():\n",
        "        clusters[cid].append(node)\n",
        "\n",
        "    print(f\"Number of clusters: {len(clusters)}\")\n",
        "\n",
        "    sorted_clusters = sorted(clusters.items(), key=lambda x: len(x[1]), reverse=True)\n",
        "\n",
        "    cluster_sizes = []\n",
        "    cluster_edges = []\n",
        "    for _, nodes in sorted_clusters:\n",
        "        subgraph = UG.subgraph(nodes)\n",
        "        cluster_sizes.append(len(nodes))\n",
        "        cluster_edges.append(subgraph.number_of_edges()/len(nodes))\n",
        "\n",
        "    fig, axes = plt.subplots(2, 1, figsize=(10, 6), sharex=True)\n",
        "\n",
        "    axes[0].plot(range(len(cluster_sizes)), cluster_sizes)\n",
        "    axes[0].set_ylabel(\"Cluster Size\")\n",
        "    axes[0].set_title(\"Sizes of Louvain Clusters\")\n",
        "\n",
        "    axes[1].plot(range(len(cluster_edges)), cluster_edges)\n",
        "    axes[1].set_ylabel(\"Internal # Edges / # Nodes\")\n",
        "    axes[1].set_title(\"# Edges / # Nodes in Each Cluster\")\n",
        "    axes[1].set_xlabel(\"Cluster Index (Sorted by Size)\")\n",
        "\n",
        "    plt.tight_layout()\n",
        "    plt.show()\n",
        "\n",
        "    return sorted_clusters,cluster_sizes,cluster_edges"
      ],
      "metadata": {
        "id": "3EmGXYPZcSbf"
      },
      "execution_count": null,
      "outputs": []
    },
    {
      "cell_type": "code",
      "source": [
        "sorted_clusters,cluster_sizes,cluster_edges = analyze_louvain_clustering(UG)"
      ],
      "metadata": {
        "colab": {
          "base_uri": "https://localhost:8080/",
          "height": 625
        },
        "id": "SniktebXeiv_",
        "outputId": "16c2fd78-9aca-4ef2-d4e5-7faeec38d7d2"
      },
      "execution_count": null,
      "outputs": [
        {
          "output_type": "stream",
          "name": "stdout",
          "text": [
            "Number of clusters: 1393\n"
          ]
        },
        {
          "output_type": "display_data",
          "data": {
            "text/plain": [
              "<Figure size 1000x600 with 2 Axes>"
            ],
            "image/png": "[encoded data removed]"
          },
          "metadata": {}
        }
      ]
    },
    {
      "cell_type": "code",
      "source": [
        "cluster_sizes"
      ],
      "metadata": {
        "colab": {
          "base_uri": "https://localhost:8080/"
        },
        "id": "z_uiGRkZ4rY9",
        "outputId": "74e2abc0-c44b-43a9-f8de-b7bf34fcc740"
      },
      "execution_count": null,
      "outputs": [
        {
          "output_type": "execute_result",
          "data": {
            "text/plain": [
              "[15429,\n",
              " 12479,\n",
              " 10488,\n",
              " 8757,\n",
              " 4499,\n",
              " 2323,\n",
              " 2288,\n",
              " 1546,\n",
              " 1098,\n",
              " 1097,\n",
              " 977,\n",
              " 729,\n",
              " 720,\n",
              " 653,\n",
              " 650,\n",
              " 632,\n",
              " 602,\n",
              " 588,\n",
              " 565,\n",
              " 552,\n",
              " 548,\n",
              " 541,\n",
              " 540,\n",
              " 518,\n",
              " 501,\n",
              " 500,\n",
              " 464,\n",
              " 434,\n",
              " 415,\n",
              " 412,\n",
              " 400,\n",
              " 399,\n",
              " 358,\n",
              " 354,\n",
              " 334,\n",
              " 325,\n",
              " 311,\n",
              " 308,\n",
              " 300,\n",
              " 288,\n",
              " 280,\n",
              " 265,\n",
              " 262,\n",
              " 245,\n",
              " 242,\n",
              " 222,\n",
              " 219,\n",
              " 206,\n",
              " 194,\n",
              " 190,\n",
              " 185,\n",
              " 166,\n",
              " 163,\n",
              " 161,\n",
              " 158,\n",
              " 145,\n",
              " 19,\n",
              " 18,\n",
              " 17,\n",
              " 15,\n",
              " 15,\n",
              " 13,\n",
              " 13,\n",
              " 12,\n",
              " 12,\n",
              " 11,\n",
              " 11,\n",
              " 10,\n",
              " 10,\n",
              " 9,\n",
              " 9,\n",
              " 9,\n",
              " 9,\n",
              " 9,\n",
              " 9,\n",
              " 9,\n",
              " 9,\n",
              " 9,\n",
              " 8,\n",
              " 8,\n",
              " 8,\n",
              " 8,\n",
              " 8,\n",
              " 8,\n",
              " 8,\n",
              " 8,\n",
              " 8,\n",
              " 8,\n",
              " 8,\n",
              " 8,\n",
              " 8,\n",
              " 7,\n",
              " 7,\n",
              " 7,\n",
              " 7,\n",
              " 7,\n",
              " 7,\n",
              " 7,\n",
              " 7,\n",
              " 7,\n",
              " 7,\n",
              " 7,\n",
              " 7,\n",
              " 7,\n",
              " 7,\n",
              " 7,\n",
              " 7,\n",
              " 6,\n",
              " 6,\n",
              " 6,\n",
              " 6,\n",
              " 6,\n",
              " 6,\n",
              " 6,\n",
              " 6,\n",
              " 6,\n",
              " 6,\n",
              " 6,\n",
              " 6,\n",
              " 6,\n",
              " 6,\n",
              " 6,\n",
              " 6,\n",
              " 6,\n",
              " 6,\n",
              " 6,\n",
              " 6,\n",
              " 6,\n",
              " 6,\n",
              " 6,\n",
              " 6,\n",
              " 6,\n",
              " 6,\n",
              " 6,\n",
              " 5,\n",
              " 5,\n",
              " 5,\n",
              " 5,\n",
              " 5,\n",
              " 5,\n",
              " 5,\n",
              " 5,\n",
              " 5,\n",
              " 5,\n",
              " 5,\n",
              " 5,\n",
              " 5,\n",
              " 5,\n",
              " 5,\n",
              " 5,\n",
              " 5,\n",
              " 5,\n",
              " 5,\n",
              " 5,\n",
              " 5,\n",
              " 5,\n",
              " 5,\n",
              " 5,\n",
              " 5,\n",
              " 5,\n",
              " 5,\n",
              " 5,\n",
              " 5,\n",
              " 5,\n",
              " 5,\n",
              " 5,\n",
              " 5,\n",
              " 5,\n",
              " 5,\n",
              " 5,\n",
              " 5,\n",
              " 5,\n",
              " 5,\n",
              " 5,\n",
              " 5,\n",
              " 5,\n",
              " 5,\n",
              " 5,\n",
              " 5,\n",
              " 5,\n",
              " 5,\n",
              " 5,\n",
              " 5,\n",
              " 5,\n",
              " 5,\n",
              " 5,\n",
              " 5,\n",
              " 5,\n",
              " 5,\n",
              " 5,\n",
              " 5,\n",
              " 5,\n",
              " 5,\n",
              " 5,\n",
              " 5,\n",
              " 5,\n",
              " 5,\n",
              " 4,\n",
              " 4,\n",
              " 4,\n",
              " 4,\n",
              " 4,\n",
              " 4,\n",
              " 4,\n",
              " 4,\n",
              " 4,\n",
              " 4,\n",
              " 4,\n",
              " 4,\n",
              " 4,\n",
              " 4,\n",
              " 4,\n",
              " 4,\n",
              " 4,\n",
              " 4,\n",
              " 4,\n",
              " 4,\n",
              " 4,\n",
              " 4,\n",
              " 4,\n",
              " 4,\n",
              " 4,\n",
              " 4,\n",
              " 4,\n",
              " 4,\n",
              " 4,\n",
              " 4,\n",
              " 4,\n",
              " 4,\n",
              " 4,\n",
              " 4,\n",
              " 4,\n",
              " 4,\n",
              " 4,\n",
              " 4,\n",
              " 4,\n",
              " 4,\n",
              " 4,\n",
              " 4,\n",
              " 4,\n",
              " 4,\n",
              " 4,\n",
              " 4,\n",
              " 4,\n",
              " 4,\n",
              " 4,\n",
              " 4,\n",
              " 4,\n",
              " 4,\n",
              " 4,\n",
              " 4,\n",
              " 4,\n",
              " 4,\n",
              " 4,\n",
              " 4,\n",
              " 4,\n",
              " 4,\n",
              " 4,\n",
              " 4,\n",
              " 4,\n",
              " 4,\n",
              " 4,\n",
              " 4,\n",
              " 4,\n",
              " 4,\n",
              " 4,\n",
              " 4,\n",
              " 4,\n",
              " 4,\n",
              " 4,\n",
              " 4,\n",
              " 4,\n",
              " 4,\n",
              " 4,\n",
              " 4,\n",
              " 4,\n",
              " 4,\n",
              " 4,\n",
              " 4,\n",
              " 4,\n",
              " 4,\n",
              " 4,\n",
              " 4,\n",
              " 4,\n",
              " 4,\n",
              " 4,\n",
              " 4,\n",
              " 4,\n",
              " 4,\n",
              " 4,\n",
              " 4,\n",
              " 4,\n",
              " 4,\n",
              " 4,\n",
              " 4,\n",
              " 4,\n",
              " 4,\n",
              " 4,\n",
              " 4,\n",
              " 4,\n",
              " 4,\n",
              " 4,\n",
              " 4,\n",
              " 4,\n",
              " 4,\n",
              " 4,\n",
              " 4,\n",
              " 4,\n",
              " 4,\n",
              " 4,\n",
              " 4,\n",
              " 4,\n",
              " 4,\n",
              " 4,\n",
              " 4,\n",
              " 4,\n",
              " 4,\n",
              " 4,\n",
              " 4,\n",
              " 4,\n",
              " 4,\n",
              " 4,\n",
              " 4,\n",
              " 3,\n",
              " 3,\n",
              " 3,\n",
              " 3,\n",
              " 3,\n",
              " 3,\n",
              " 3,\n",
              " 3,\n",
              " 3,\n",
              " 3,\n",
              " 3,\n",
              " 3,\n",
              " 3,\n",
              " 3,\n",
              " 3,\n",
              " 3,\n",
              " 3,\n",
              " 3,\n",
              " 3,\n",
              " 3,\n",
              " 3,\n",
              " 3,\n",
              " 3,\n",
              " 3,\n",
              " 3,\n",
              " 3,\n",
              " 3,\n",
              " 3,\n",
              " 3,\n",
              " 3,\n",
              " 3,\n",
              " 3,\n",
              " 3,\n",
              " 3,\n",
              " 3,\n",
              " 3,\n",
              " 3,\n",
              " 3,\n",
              " 3,\n",
              " 3,\n",
              " 3,\n",
              " 3,\n",
              " 3,\n",
              " 3,\n",
              " 3,\n",
              " 3,\n",
              " 3,\n",
              " 3,\n",
              " 3,\n",
              " 3,\n",
              " 3,\n",
              " 3,\n",
              " 3,\n",
              " 3,\n",
              " 3,\n",
              " 3,\n",
              " 3,\n",
              " 3,\n",
              " 3,\n",
              " 3,\n",
              " 3,\n",
              " 3,\n",
              " 3,\n",
              " 3,\n",
              " 3,\n",
              " 3,\n",
              " 3,\n",
              " 3,\n",
              " 3,\n",
              " 3,\n",
              " 3,\n",
              " 3,\n",
              " 3,\n",
              " 3,\n",
              " 3,\n",
              " 3,\n",
              " 3,\n",
              " 3,\n",
              " 3,\n",
              " 3,\n",
              " 3,\n",
              " 3,\n",
              " 3,\n",
              " 3,\n",
              " 3,\n",
              " 3,\n",
              " 3,\n",
              " 3,\n",
              " 3,\n",
              " 3,\n",
              " 3,\n",
              " 3,\n",
              " 3,\n",
              " 3,\n",
              " 3,\n",
              " 3,\n",
              " 3,\n",
              " 3,\n",
              " 3,\n",
              " 3,\n",
              " 3,\n",
              " 3,\n",
              " 3,\n",
              " 3,\n",
              " 3,\n",
              " 3,\n",
              " 3,\n",
              " 3,\n",
              " 3,\n",
              " 3,\n",
              " 3,\n",
              " 3,\n",
              " 3,\n",
              " 3,\n",
              " 3,\n",
              " 3,\n",
              " 3,\n",
              " 3,\n",
              " 3,\n",
              " 3,\n",
              " 3,\n",
              " 3,\n",
              " 3,\n",
              " 3,\n",
              " 3,\n",
              " 3,\n",
              " 3,\n",
              " 3,\n",
              " 3,\n",
              " 3,\n",
              " 3,\n",
              " 3,\n",
              " 3,\n",
              " 3,\n",
              " 3,\n",
              " 3,\n",
              " 3,\n",
              " 3,\n",
              " 3,\n",
              " 3,\n",
              " 3,\n",
              " 3,\n",
              " 3,\n",
              " 3,\n",
              " 3,\n",
              " 3,\n",
              " 3,\n",
              " 3,\n",
              " 3,\n",
              " 3,\n",
              " 3,\n",
              " 3,\n",
              " 3,\n",
              " 3,\n",
              " 3,\n",
              " 3,\n",
              " 3,\n",
              " 3,\n",
              " 3,\n",
              " 3,\n",
              " 3,\n",
              " 3,\n",
              " 3,\n",
              " 3,\n",
              " 3,\n",
              " 3,\n",
              " 3,\n",
              " 3,\n",
              " 3,\n",
              " 3,\n",
              " 3,\n",
              " 3,\n",
              " 3,\n",
              " 3,\n",
              " 3,\n",
              " 3,\n",
              " 3,\n",
              " 3,\n",
              " 3,\n",
              " 3,\n",
              " 3,\n",
              " 3,\n",
              " 3,\n",
              " 3,\n",
              " 3,\n",
              " 3,\n",
              " 3,\n",
              " 3,\n",
              " 3,\n",
              " 3,\n",
              " 3,\n",
              " 3,\n",
              " 3,\n",
              " 3,\n",
              " 3,\n",
              " 3,\n",
              " 3,\n",
              " 3,\n",
              " 3,\n",
              " 3,\n",
              " 3,\n",
              " 3,\n",
              " 3,\n",
              " 3,\n",
              " 3,\n",
              " 3,\n",
              " 3,\n",
              " 3,\n",
              " 3,\n",
              " 3,\n",
              " 3,\n",
              " 3,\n",
              " 3,\n",
              " 3,\n",
              " 3,\n",
              " 3,\n",
              " 3,\n",
              " 3,\n",
              " 3,\n",
              " 3,\n",
              " 3,\n",
              " 3,\n",
              " 3,\n",
              " 3,\n",
              " 3,\n",
              " 3,\n",
              " 3,\n",
              " 3,\n",
              " 3,\n",
              " 3,\n",
              " 3,\n",
              " 3,\n",
              " 3,\n",
              " 3,\n",
              " 3,\n",
              " 3,\n",
              " 3,\n",
              " 3,\n",
              " 3,\n",
              " 3,\n",
              " 3,\n",
              " 3,\n",
              " 3,\n",
              " 3,\n",
              " 3,\n",
              " 3,\n",
              " 3,\n",
              " 3,\n",
              " 3,\n",
              " 3,\n",
              " 3,\n",
              " 3,\n",
              " 3,\n",
              " 3,\n",
              " 3,\n",
              " 3,\n",
              " 3,\n",
              " 3,\n",
              " 3,\n",
              " 3,\n",
              " 3,\n",
              " 3,\n",
              " 3,\n",
              " 3,\n",
              " 3,\n",
              " 3,\n",
              " 3,\n",
              " 3,\n",
              " 3,\n",
              " 3,\n",
              " 3,\n",
              " 3,\n",
              " 3,\n",
              " 3,\n",
              " 3,\n",
              " 3,\n",
              " 3,\n",
              " 3,\n",
              " 3,\n",
              " 3,\n",
              " 3,\n",
              " 3,\n",
              " 3,\n",
              " 3,\n",
              " 3,\n",
              " 3,\n",
              " 3,\n",
              " 3,\n",
              " 3,\n",
              " 3,\n",
              " 3,\n",
              " 3,\n",
              " 3,\n",
              " 3,\n",
              " 3,\n",
              " 3,\n",
              " 3,\n",
              " 3,\n",
              " 3,\n",
              " 3,\n",
              " 3,\n",
              " 3,\n",
              " 3,\n",
              " 3,\n",
              " 3,\n",
              " 3,\n",
              " 3,\n",
              " 3,\n",
              " 3,\n",
              " 3,\n",
              " 3,\n",
              " 3,\n",
              " 3,\n",
              " 3,\n",
              " 3,\n",
              " 2,\n",
              " 2,\n",
              " 2,\n",
              " 2,\n",
              " 2,\n",
              " 2,\n",
              " 2,\n",
              " 2,\n",
              " 2,\n",
              " 2,\n",
              " 2,\n",
              " 2,\n",
              " 2,\n",
              " 2,\n",
              " 2,\n",
              " 2,\n",
              " 2,\n",
              " 2,\n",
              " 2,\n",
              " 2,\n",
              " 2,\n",
              " 2,\n",
              " 2,\n",
              " 2,\n",
              " 2,\n",
              " 2,\n",
              " 2,\n",
              " 2,\n",
              " 2,\n",
              " 2,\n",
              " 2,\n",
              " 2,\n",
              " 2,\n",
              " 2,\n",
              " 2,\n",
              " 2,\n",
              " 2,\n",
              " 2,\n",
              " 2,\n",
              " 2,\n",
              " 2,\n",
              " 2,\n",
              " 2,\n",
              " 2,\n",
              " 2,\n",
              " 2,\n",
              " 2,\n",
              " 2,\n",
              " 2,\n",
              " 2,\n",
              " 2,\n",
              " 2,\n",
              " 2,\n",
              " 2,\n",
              " 2,\n",
              " 2,\n",
              " 2,\n",
              " 2,\n",
              " 2,\n",
              " 2,\n",
              " 2,\n",
              " 2,\n",
              " 2,\n",
              " 2,\n",
              " 2,\n",
              " 2,\n",
              " 2,\n",
              " 2,\n",
              " 2,\n",
              " 2,\n",
              " 2,\n",
              " 2,\n",
              " 2,\n",
              " 2,\n",
              " 2,\n",
              " 2,\n",
              " 2,\n",
              " 2,\n",
              " 2,\n",
              " 2,\n",
              " 2,\n",
              " 2,\n",
              " 2,\n",
              " 2,\n",
              " 2,\n",
              " 2,\n",
              " 2,\n",
              " 2,\n",
              " 2,\n",
              " 2,\n",
              " 2,\n",
              " 2,\n",
              " 2,\n",
              " 2,\n",
              " 2,\n",
              " 2,\n",
              " 2,\n",
              " 2,\n",
              " 2,\n",
              " 2,\n",
              " 2,\n",
              " 2,\n",
              " 2,\n",
              " 2,\n",
              " 2,\n",
              " 2,\n",
              " 2,\n",
              " 2,\n",
              " 2,\n",
              " 2,\n",
              " 2,\n",
              " 2,\n",
              " 2,\n",
              " 2,\n",
              " 2,\n",
              " 2,\n",
              " 2,\n",
              " 2,\n",
              " 2,\n",
              " 2,\n",
              " 2,\n",
              " 2,\n",
              " 2,\n",
              " 2,\n",
              " 2,\n",
              " 2,\n",
              " 2,\n",
              " 2,\n",
              " 2,\n",
              " 2,\n",
              " 2,\n",
              " 2,\n",
              " 2,\n",
              " 2,\n",
              " 2,\n",
              " 2,\n",
              " 2,\n",
              " 2,\n",
              " 2,\n",
              " 2,\n",
              " 2,\n",
              " 2,\n",
              " 2,\n",
              " 2,\n",
              " 2,\n",
              " 2,\n",
              " 2,\n",
              " 2,\n",
              " 2,\n",
              " 2,\n",
              " 2,\n",
              " 2,\n",
              " 2,\n",
              " 2,\n",
              " 2,\n",
              " 2,\n",
              " 2,\n",
              " 2,\n",
              " 2,\n",
              " 2,\n",
              " 2,\n",
              " 2,\n",
              " 2,\n",
              " 2,\n",
              " 2,\n",
              " 2,\n",
              " 2,\n",
              " 2,\n",
              " 2,\n",
              " 2,\n",
              " 2,\n",
              " 2,\n",
              " 2,\n",
              " 2,\n",
              " 2,\n",
              " 2,\n",
              " 2,\n",
              " 2,\n",
              " 2,\n",
              " 2,\n",
              " 2,\n",
              " 2,\n",
              " 2,\n",
              " 2,\n",
              " 2,\n",
              " 2,\n",
              " 2,\n",
              " 2,\n",
              " 2,\n",
              " 2,\n",
              " 2,\n",
              " 2,\n",
              " 2,\n",
              " 2,\n",
              " 2,\n",
              " 2,\n",
              " 2,\n",
              " 2,\n",
              " 2,\n",
              " 2,\n",
              " 2,\n",
              " 2,\n",
              " 2,\n",
              " 2,\n",
              " 2,\n",
              " 2,\n",
              " 2,\n",
              " 2,\n",
              " 2,\n",
              " 2,\n",
              " 2,\n",
              " 2,\n",
              " 2,\n",
              " 2,\n",
              " 2,\n",
              " 2,\n",
              " 2,\n",
              " 2,\n",
              " 2,\n",
              " 2,\n",
              " 2,\n",
              " 2,\n",
              " 2,\n",
              " 2,\n",
              " 2,\n",
              " 2,\n",
              " 2,\n",
              " 2,\n",
              " 2,\n",
              " 2,\n",
              " 2,\n",
              " 2,\n",
              " 2,\n",
              " 2,\n",
              " 2,\n",
              " 2,\n",
              " 2,\n",
              " 2,\n",
              " 2,\n",
              " 2,\n",
              " 2,\n",
              " 2,\n",
              " 2,\n",
              " 2,\n",
              " 2,\n",
              " 2,\n",
              " 2,\n",
              " 2,\n",
              " 2,\n",
              " 2,\n",
              " 2,\n",
              " 2,\n",
              " 2,\n",
              " 2,\n",
              " 2,\n",
              " 2,\n",
              " 2,\n",
              " 2,\n",
              " 2,\n",
              " 2,\n",
              " 2,\n",
              " 2,\n",
              " 2,\n",
              " 2,\n",
              " 2,\n",
              " 2,\n",
              " 2,\n",
              " 2,\n",
              " 2,\n",
              " 2,\n",
              " 2,\n",
              " 2,\n",
              " 2,\n",
              " 2,\n",
              " 2,\n",
              " 2,\n",
              " 2,\n",
              " 2,\n",
              " 2,\n",
              " 2,\n",
              " 2,\n",
              " 2,\n",
              " 2,\n",
              " 2,\n",
              " 2,\n",
              " 2,\n",
              " 2,\n",
              " 2,\n",
              " 2,\n",
              " 2,\n",
              " 2,\n",
              " 2,\n",
              " 2,\n",
              " 2,\n",
              " 2,\n",
              " 2,\n",
              " 2,\n",
              " 2,\n",
              " 2,\n",
              " 2,\n",
              " 2,\n",
              " 2,\n",
              " 2,\n",
              " 2,\n",
              " 2,\n",
              " 2,\n",
              " 2,\n",
              " 2,\n",
              " 2,\n",
              " 2,\n",
              " 2,\n",
              " 2,\n",
              " 2,\n",
              " 2,\n",
              " 2,\n",
              " 2,\n",
              " 2,\n",
              " 2,\n",
              " 2,\n",
              " 2,\n",
              " 2,\n",
              " 2,\n",
              " 2,\n",
              " 2,\n",
              " 2,\n",
              " 2,\n",
              " 2,\n",
              " 2,\n",
              " 2,\n",
              " 2,\n",
              " 2,\n",
              " 2,\n",
              " 2,\n",
              " 2,\n",
              " 2,\n",
              " 2,\n",
              " 2,\n",
              " 2,\n",
              " 2,\n",
              " 2,\n",
              " 2,\n",
              " 2,\n",
              " 2,\n",
              " 2,\n",
              " 2,\n",
              " 2,\n",
              " 2,\n",
              " 2,\n",
              " 2,\n",
              " 2,\n",
              " 2,\n",
              " 2,\n",
              " 2,\n",
              " 2,\n",
              " 2,\n",
              " 2,\n",
              " 2,\n",
              " 2,\n",
              " 2,\n",
              " 2,\n",
              " 2,\n",
              " 2,\n",
              " ...]"
            ]
          },
          "metadata": {},
          "execution_count": 52
        }
      ]
    },
    {
      "cell_type": "markdown",
      "source": [
        "# More parameters"
      ],
      "metadata": {
        "id": "PEPPQthVv_9W"
      }
    },
    {
      "cell_type": "code",
      "source": [
        "def compute_graph_metrics(G, UG, UC_largest_component):\n",
        "\n",
        "    results = {}\n",
        "\n",
        "    # 1. Global Clustering Coefficient\n",
        "    # Meaning: Fraction of closed triplets (triangles) over all connected triplets\n",
        "    # Use: High in social networks (0.3–0.6); low (<0.1) suggests weak community\n",
        "    # Complexity: O(n * d^2)\n",
        "    gcc = nx.transitivity(UG)\n",
        "    results['Global Clustering Coefficient'] = gcc\n",
        "\n",
        "    # 2. Average Clustering Coefficient\n",
        "    # Meaning: Average local clustering over all nodes\n",
        "    # Use: Similar to GCC; high (>0.3) = strong local communities\n",
        "    # Complexity: O(n * d^2)\n",
        "    acc = nx.average_clustering(UG)\n",
        "    results['Average Clustering Coefficient'] = acc\n",
        "\n",
        "    # 3. Degree Assortativity Coefficient\n",
        "    # Meaning: Correlation of degree between connected nodes\n",
        "    # Use: Positive in social graphs; negative in hubs-to-lows (e.g., sybils)\n",
        "    # Complexity: O(m)\n",
        "    assort = nx.degree_assortativity_coefficient(UG)\n",
        "    results['Degree Assortativity'] = assort\n",
        "\n",
        "    # 4. Diameter (Approximated)\n",
        "    # Meaning: Longest shortest path; smaller = tighter network\n",
        "    # Use: OSNs typically have small diameter (6–10)\n",
        "    # Complexity: O(n) using approximation like eccentricity sampling\n",
        "    try:\n",
        "        from networkx.algorithms.approximation import diameter as approx_diameter\n",
        "        diam = approx_diameter(UC_largest_component)\n",
        "    except:\n",
        "        diam = -1  # fallback if approximation not available\n",
        "    results['Approx. Diameter'] = diam\n",
        "\n",
        "    # 5. Reciprocity\n",
        "    # Meaning: Ratio of mutual edges to total directed edges\n",
        "    # Use: High (0.3–0.6) in mutual-friend OSNs; low in follower networks\n",
        "    # Complexity: O(m)\n",
        "    rec = nx.reciprocity(G)\n",
        "    results['Reciprocity'] = rec\n",
        "\n",
        "    # 6. K-core Number\n",
        "    # Meaning: Max k such that G has a non-empty k-core (each node has >=k neighbors)\n",
        "    # Use: High k-core depth (e.g., >10) suggests dense real OSNs\n",
        "    # Complexity: O(n + m)\n",
        "    try:\n",
        "        kcore = max(nx.core_number(UG).values())\n",
        "    except:\n",
        "        kcore = -1\n",
        "    results['K-core Max'] = kcore\n",
        "\n",
        "    # 7. PageRank Entropy (instead of list)\n",
        "    # Meaning: Influence score of nodes via link structure\n",
        "    # Use: Real OSNs have skewed PageRank; uniform = fake/flat\n",
        "    # Complexity: O(k(n + m))\n",
        "    pr = nx.pagerank(G, alpha=0.85)\n",
        "    pr_values = np.array(list(pr.values()))\n",
        "    pr_entropy = -np.sum(pr_values * np.log(pr_values + 1e-10))  # entropy as a number\n",
        "    results['PageRank Entropy'] = pr_entropy\n",
        "\n",
        "    # Print with explanations\n",
        "    for key, val in results.items():\n",
        "        print(f\"{key}: {val:.4f}\")\n",
        "\n",
        "    # return results\n"
      ],
      "metadata": {
        "id": "IjZGyhqUwj7I"
      },
      "execution_count": null,
      "outputs": []
    },
    {
      "cell_type": "code",
      "source": [
        "compute_graph_metrics(G, UG, UGlCC)"
      ],
      "metadata": {
        "colab": {
          "base_uri": "https://localhost:8080/"
        },
        "id": "dHOvbqQEyhm6",
        "outputId": "a16b7e6e-ec10-4a4d-8654-8f214201002f"
      },
      "execution_count": null,
      "outputs": [
        {
          "output_type": "stream",
          "name": "stdout",
          "text": [
            "Global Clustering Coefficient: 0.0241\n",
            "Average Clustering Coefficient: 0.0603\n",
            "Degree Assortativity: -0.0541\n",
            "Approx. Diameter: 13.0000\n",
            "Reciprocity: 0.7716\n",
            "K-core Max: -1.0000\n",
            "PageRank Entropy: 10.7300\n"
          ]
        }
      ]
    },
    {
      "cell_type": "code",
      "source": [
        "# Gini coefficient formula:\n",
        "# Measures inequality in the degree distribution of the graph.\n",
        "# 0 = perfect equality (all nodes same degree)\n",
        "# 1 = maximal inequality (one node connects to all, others to none)\n",
        "\n",
        "# Interpretation (comment only):\n",
        "#  Gini ≈ 0.0–0.2 → Very equal degree distribution\n",
        "#  Gini ≈ 0.2–0.4 → Moderately equal\n",
        "#  Gini ≈ 0.4–0.6 → Noticeable inequality\n",
        "#  Gini ≈ 0.6–0.8 → Strong hubs dominate\n",
        "#  Gini ≈ 0.8–1.0 → Star-like or scale-free dominance\n",
        "\n",
        "\n",
        "def compute_gini_coefficient(G):\n",
        "    degrees = np.array([deg for _, deg in G.degree()])\n",
        "    sorted_degrees = np.sort(degrees)\n",
        "    n = len(degrees)\n",
        "    gini = (2 * np.sum((np.arange(1, n + 1) * sorted_degrees))) / (n * np.sum(sorted_degrees)) - (n + 1) / n\n",
        "    return gini\n",
        "\n",
        "compute_gini_coefficient(UG)"
      ],
      "metadata": {
        "colab": {
          "base_uri": "https://localhost:8080/"
        },
        "id": "QZ-hRf7Acphp",
        "outputId": "f7e24a66-7c54-4391-c9be-be50486cdd70"
      },
      "execution_count": null,
      "outputs": [
        {
          "output_type": "execute_result",
          "data": {
            "text/plain": [
              "np.float64(0.668013459039289)"
            ]
          },
          "metadata": {},
          "execution_count": 41
        }
      ]
    },
    {
      "cell_type": "code",
      "source": [
        "# Edge Reciprocity\n",
        "# Measures fraction of directed edges that are reciprocated\n",
        "\n",
        "# Interpretation (comment only):\n",
        "#  - Value in [0, 1]\n",
        "#  - 0.0 → No mutual links at all\n",
        "#  - 1.0 → All links are bidirectional\n",
        "#  - High values suggest social-like structure; low values may suggest spam/sybil or hierarchy\n",
        "\n",
        "def compute_edge_reciprocity(G):\n",
        "    if not G.is_directed():\n",
        "        return None\n",
        "    return nx.reciprocity(G)  # Float in [0, 1]\n",
        "\n",
        "print(compute_edge_reciprocity(G))"
      ],
      "metadata": {
        "colab": {
          "base_uri": "https://localhost:8080/"
        },
        "id": "pdknNmP1cpX0",
        "outputId": "431861ad-987e-499f-acbd-dd5215d8020b"
      },
      "execution_count": null,
      "outputs": [
        {
          "output_type": "stream",
          "name": "stdout",
          "text": [
            "0.7716286543295264\n"
          ]
        }
      ]
    },
    {
      "cell_type": "code",
      "source": [
        "# Approximate average, max, and std of shortest path lengths using random sampling\n",
        "\n",
        "# Interpretation (comment only):\n",
        "#  - Average shortest path length → how close nodes are on average\n",
        "#  - Std → variation in distances (dispersion)\n",
        "#  - Max → approximate graph diameter (upper bound)\n",
        "\n",
        "def approximate_shortest_path_stats(G, num_samples=200):\n",
        "    nodes = list(G.nodes())\n",
        "    sample_nodes = np.random.choice(nodes, size=min(num_samples, len(nodes)), replace=False)\n",
        "\n",
        "    all_lengths = []\n",
        "\n",
        "    for node in sample_nodes:\n",
        "        lengths = nx.single_source_shortest_path_length(G, node)\n",
        "        all_lengths.extend(lengths.values())\n",
        "\n",
        "    all_lengths = np.array(all_lengths)\n",
        "    avg = np.mean(all_lengths)\n",
        "    std = np.std(all_lengths)\n",
        "    maxv = np.max(all_lengths)\n",
        "\n",
        "    print(f\"Avg: {avg:.4f}, Std: {std:.4f}, Max: {maxv:.2f}\")\n",
        "\n",
        "\n",
        "approximate_shortest_path_stats(G, num_samples=200) # should be connected component"
      ],
      "metadata": {
        "colab": {
          "base_uri": "https://localhost:8080/"
        },
        "id": "oyN5guIIcpTo",
        "outputId": "e2cdea81-4c74-49a4-8d21-27867148cc38"
      },
      "execution_count": null,
      "outputs": [
        {
          "output_type": "stream",
          "name": "stdout",
          "text": [
            "Avg: 4.1100, Std: 0.8368, Max: 11.00\n"
          ]
        }
      ]
    },
    {
      "cell_type": "code",
      "source": [
        "# Degree Entropy\n",
        "# Measures uncertainty in degree distribution\n",
        "\n",
        "# Interpretation (comment only):\n",
        "#  - Low entropy → most nodes have similar degree (e.g., regular graphs)\n",
        "#  - High entropy → degree values are diverse (e.g., real OSNs)\n",
        "#  - Useful to detect unnatural or flat degree patterns in synthetic or Sybil networks\n",
        "\n",
        "def compute_degree_entropy(G):\n",
        "    degrees = [deg for _, deg in G.degree()]\n",
        "    values, counts = np.unique(degrees, return_counts=True)\n",
        "    probs = counts / counts.sum()\n",
        "\n",
        "    entropy = -np.sum(probs * np.log2(probs))\n",
        "    print(f\"Degree Entropy: {entropy:.4f}\")\n",
        "\n",
        "compute_degree_entropy(UG)"
      ],
      "metadata": {
        "colab": {
          "base_uri": "https://localhost:8080/"
        },
        "id": "ErSIPX1W5tCn",
        "outputId": "af5d7651-cb74-4429-efbb-b91a2491aec6"
      },
      "execution_count": null,
      "outputs": [
        {
          "output_type": "stream",
          "name": "stdout",
          "text": [
            "Degree Entropy: 4.1865\n"
          ]
        }
      ]
    },
    {
      "cell_type": "code",
      "source": [
        "# Degree Entropy for Directed Graphs\n",
        "# Measures diversity in in-degree and out-degree distributions\n",
        "\n",
        "# Interpretation (comment only):\n",
        "#  - In-degree entropy: diversity of how nodes receive links (e.g., popularity)\n",
        "#  - Out-degree entropy: diversity of how nodes send links (e.g., activity)\n",
        "#  - Low entropy → uniform behavior (e.g., bots, sybils)\n",
        "#  - High entropy → varied behavior (typical of real OSNs)\n",
        "\n",
        "def compute_directed_degree_entropy(G):\n",
        "    if not G.is_directed():\n",
        "        return None\n",
        "\n",
        "    in_degrees = [deg for _, deg in G.in_degree()]\n",
        "    out_degrees = [deg for _, deg in G.out_degree()]\n",
        "\n",
        "    def entropy(degree_list):\n",
        "        values, counts = np.unique(degree_list, return_counts=True)\n",
        "        probs = counts / counts.sum()\n",
        "        return -np.sum(probs * np.log2(probs))\n",
        "\n",
        "    in_entropy = entropy(in_degrees)\n",
        "    out_entropy = entropy(out_degrees)\n",
        "\n",
        "    print(f\"In-Degree Entropy:  {in_entropy:.4f}\")\n",
        "    print(f\"Out-Degree Entropy: {out_entropy:.4f}\")\n",
        "\n",
        "compute_directed_degree_entropy(G)"
      ],
      "metadata": {
        "colab": {
          "base_uri": "https://localhost:8080/"
        },
        "id": "7kbPXZ4EEuUR",
        "outputId": "5987904c-71d0-4f12-dc75-b10255cb80a3"
      },
      "execution_count": null,
      "outputs": [
        {
          "output_type": "stream",
          "name": "stdout",
          "text": [
            "In-Degree Entropy:  3.9337\n",
            "Out-Degree Entropy: 4.2030\n"
          ]
        }
      ]
    },
    {
      "cell_type": "code",
      "source": [
        "# Influence Concentration\n",
        "# Measures inequality in influence using Gini coefficient over PageRank scores\n",
        "\n",
        "# Interpretation (comment only):\n",
        "#  - High Gini → a few nodes dominate the network (influential hubs)\n",
        "#  - Low Gini → influence is spread out (egalitarian structure)\n",
        "#  - In FAD, sybil networks often exhibit low influence concentration by design\n",
        "\n",
        "def compute_influence_concentration(G):\n",
        "    pr = nx.pagerank(G, alpha=0.85)\n",
        "    scores = np.array(list(pr.values()))\n",
        "    scores.sort()\n",
        "    n = len(scores)\n",
        "\n",
        "    # Gini coefficient for influence concentration\n",
        "    gini = (2 * np.sum((np.arange(1, n + 1) * scores))) / (n * np.sum(scores)) - (n + 1) / n\n",
        "    print(f\"Influence Concentration (Gini over PageRank): {gini:.4f}\")\n",
        "\n",
        "compute_influence_concentration(G)"
      ],
      "metadata": {
        "colab": {
          "base_uri": "https://localhost:8080/"
        },
        "id": "9F1J-HyRh0ln",
        "outputId": "b8436789-bbfd-420a-d9cd-8f4427a84b98"
      },
      "execution_count": null,
      "outputs": [
        {
          "output_type": "stream",
          "name": "stdout",
          "text": [
            "Influence Concentration (Gini over PageRank): 0.4729\n"
          ]
        }
      ]
    },
    {
      "cell_type": "code",
      "source": [
        "# Periphery Edge Ratio\n",
        "# Measures fraction of edges incident to peripheral (low k-shell) nodes\n",
        "# Periphery refers to the outer, weakly connected, or structurally shallow nodes in a graph — the opposite of the core\n",
        "\n",
        "# Interpretation (comment only):\n",
        "#  - High PER → sparse periphery, typical of noisy or sybil regions\n",
        "#  - Low PER → well-connected graph with a strong core\n",
        "\n",
        "def compute_periphery_edge_ratio(G, threshold_shell=1):\n",
        "    Gprime = G.copy()\n",
        "    Gprime.remove_edges_from(nx.selfloop_edges(Gprime))\n",
        "\n",
        "    core_indices = nx.core_number(Gprime)\n",
        "    periphery_nodes = {node for node, shell in core_indices.items() if shell <= threshold_shell}\n",
        "\n",
        "    # Count edges touching peripheral nodes\n",
        "    peripheral_edges = sum(1 for u, v in Gprime.edges() if u in periphery_nodes or v in periphery_nodes)\n",
        "    total_edges = Gprime.number_of_edges()\n",
        "\n",
        "    ratio = peripheral_edges / total_edges if total_edges > 0 else 0.0\n",
        "    print(f\"Periphery Edge Ratio: {ratio:.4f}\")\n",
        "\n",
        "compute_periphery_edge_ratio(UG, threshold_shell=1)"
      ],
      "metadata": {
        "colab": {
          "base_uri": "https://localhost:8080/"
        },
        "id": "omGLF14ziHgY",
        "outputId": "39e2dae0-1d5d-40aa-c934-28529062673f"
      },
      "execution_count": null,
      "outputs": [
        {
          "output_type": "stream",
          "name": "stdout",
          "text": [
            "Periphery Edge Ratio: 0.0595\n"
          ]
        }
      ]
    },
    {
      "cell_type": "code",
      "source": [
        "# Approximate average rewiring probability (APL_real / APL_random)\n",
        "# Uses sampled average shortest path length to keep it fast\n",
        "\n",
        "# Interpretation (comment only):\n",
        "#  - Ratio ≈ 1 → graph behaves like a random graph (high rewiring)\n",
        "#  - Ratio > 1 → graph is more regular or clustered (low rewiring)\n",
        "\n",
        "def approximate_rewiring_probability(G, num_samples=200):\n",
        "    if not nx.is_connected(G):\n",
        "        G = G.subgraph(max(nx.connected_components(G), key=len)).copy()\n",
        "\n",
        "    # Approximate APL of real graph\n",
        "    nodes = list(G.nodes())\n",
        "    sample_nodes = np.random.choice(nodes, size=min(num_samples, len(nodes)), replace=False)\n",
        "\n",
        "    all_lengths = []\n",
        "    for node in tqdm(sample_nodes):\n",
        "        lengths = nx.single_source_shortest_path_length(G, node)\n",
        "        all_lengths.extend(lengths.values())\n",
        "\n",
        "    apl_real = np.mean(all_lengths)\n",
        "\n",
        "    # Generate a random graph with same number of nodes and edges\n",
        "    n = G.number_of_nodes()\n",
        "    m = G.number_of_edges()\n",
        "    G_rand = nx.gnm_random_graph(n, m)\n",
        "\n",
        "    # Approximate APL of random graph\n",
        "    if not nx.is_connected(G_rand):\n",
        "        G_rand = G_rand.subgraph(max(nx.connected_components(G_rand), key=len)).copy()\n",
        "\n",
        "    rand_nodes = list(G_rand.nodes())\n",
        "    sample_rand = np.random.choice(rand_nodes, size=min(num_samples, len(rand_nodes)), replace=False)\n",
        "\n",
        "    rand_lengths = []\n",
        "    for node in tqdm(sample_rand):\n",
        "        lengths = nx.single_source_shortest_path_length(G_rand, node)\n",
        "        rand_lengths.extend(lengths.values())\n",
        "\n",
        "    apl_rand = np.mean(rand_lengths)\n",
        "\n",
        "    # Rewiring approximation = ratio of path lengths\n",
        "    ratio = apl_real / apl_rand if apl_rand > 0 else None\n",
        "\n",
        "    print(f\"Approx Avg Path Length (Real):  {apl_real:.4f}\")\n",
        "    print(f\"Approx Avg Path Length (Rand):  {apl_rand:.4f}\")\n",
        "    print(f\"Approx Rewiring Probability:    {ratio:.4f}\")\n",
        "\n",
        "approximate_rewiring_probability(UG)"
      ],
      "metadata": {
        "colab": {
          "base_uri": "https://localhost:8080/"
        },
        "id": "oYnx7eVtio1m",
        "outputId": "5ac0eb85-d809-4a6d-dcba-af3d4b8f9ae1"
      },
      "execution_count": null,
      "outputs": [
        {
          "output_type": "stream",
          "name": "stderr",
          "text": [
            "100%|██████████| 200/200 [00:41<00:00,  4.85it/s]\n",
            "100%|██████████| 200/200 [01:03<00:00,  3.17it/s]\n"
          ]
        },
        {
          "output_type": "stream",
          "name": "stdout",
          "text": [
            "Approx Avg Path Length (Real):  4.0830\n",
            "Approx Avg Path Length (Rand):  4.5755\n",
            "Approx Rewiring Probability:    0.8924\n"
          ]
        }
      ]
    },
    {
      "cell_type": "code",
      "source": [],
      "metadata": {
        "id": "5nCdVB5LEOim"
      },
      "execution_count": null,
      "outputs": []
    }
  ]
}